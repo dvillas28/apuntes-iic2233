{
 "cells": [
  {
   "cell_type": "markdown",
   "metadata": {},
   "source": [
    "# Estructuras de datos avanzadas"
   ]
  },
  {
   "cell_type": "markdown",
   "metadata": {},
   "source": [
    "Ademas de permitir representar agrupaciones de datos, tambien permiten expresar **relaciones estre datos**"
   ]
  },
  {
   "cell_type": "markdown",
   "metadata": {},
   "source": [
    "- **Nodo**: unidad que contiene datos y es identificado mediante una *key*\n",
    "    - Un nodo contiene 0 o mas referencias a otros nodos - sus nodos vecinos con los que mantiene una relacion\n",
    "\n",
    "Conjuntos de nodos nos permite expresar estructuras de datos mas complejas"
   ]
  },
  {
   "cell_type": "markdown",
   "metadata": {},
   "source": [
    "# 1. Listas Ligadas"
   ]
  },
  {
   "cell_type": "markdown",
   "metadata": {},
   "source": [
    "- Estructura que almacena nodos en orden *secuencial* (listas, stacks, colas)\n",
    "- Cada nodo posee una referencia a su **unico sucesor**\n",
    "- **Nodo Cabeza**: primer nodo de la lista\n",
    "- **Nodo Cola**: ultimo nodo de la lista, no posee sucesor"
   ]
  },
  {
   "cell_type": "markdown",
   "metadata": {},
   "source": [
    "## Implementacion. clase `Nodo` y clase `ListaLigada`"
   ]
  },
  {
   "cell_type": "markdown",
   "metadata": {},
   "source": [
    "Modelacion generica de un Nodo. Posee su valor interno, y una referencia al siguente `Nodo`"
   ]
  },
  {
   "cell_type": "code",
   "execution_count": 2,
   "metadata": {},
   "outputs": [],
   "source": [
    "class Nodo:\n",
    "    \"\"\"\n",
    "    Nodo de una lista ligada\n",
    "    \"\"\"\n",
    "    def __init__(self, valor=None):\n",
    "        self.valor = valor\n",
    "        self.siguente = None # Cuando se crea un nodo\n",
    "                             # la referencia al sgte comienza vacia"
   ]
  },
  {
   "cell_type": "markdown",
   "metadata": {},
   "source": [
    "Modelacion de la Lista Ligada. Posee un Nodo Cabeza y un Nodo Cola"
   ]
  },
  {
   "cell_type": "code",
   "execution_count": 3,
   "metadata": {},
   "outputs": [],
   "source": [
    "class ListaLigada:\n",
    "    \"\"\"\n",
    "    Clase que representa a una lista ligada\n",
    "    \"\"\"\n",
    "\n",
    "    def __init__(self) -> None:\n",
    "        # inicializacion de una lista ligada vacia\n",
    "        self.cabeza: Nodo = None\n",
    "        self.cola: Nodo = None"
   ]
  },
  {
   "cell_type": "markdown",
   "metadata": {},
   "source": [
    "### ¿Como recorrer la lista ligada? Metodos de la clase `ListaLigada`"
   ]
  },
  {
   "cell_type": "markdown",
   "metadata": {},
   "source": [
    "#### `def agregar(valor)`"
   ]
  },
  {
   "cell_type": "markdown",
   "metadata": {},
   "source": [
    "- Este metodo agrega un nodo con valor `valor` al final de la lista. Se convierte en el Nodo Cola de esta\n",
    "- Funcionamiento similar a `append`\n",
    "    1. Crear nodo nuevo con valor dado \n",
    "    2. Al nodo Cola actual -> asignarle el nuevo nodo como sucesor\n",
    "    3. Asignar a nuestro nodo como nuevo nodo cola de la lista"
   ]
  },
  {
   "cell_type": "markdown",
   "metadata": {},
   "source": [
    "#### `def obtener(posicion)`"
   ]
  },
  {
   "cell_type": "markdown",
   "metadata": {},
   "source": [
    "- Este metodo recupera el valor almacenado en `posicion`.\n",
    "- Notar que no existe el *acceso indexado* es la lista ligada. Se debe recorrer cada nodo hasta llegar a la posicion que queremos.\n",
    "    - Se parte desde la cabeza, accediendo a `nodo.siguente` para ver el siguente nodo"
   ]
  },
  {
   "cell_type": "markdown",
   "metadata": {},
   "source": [
    "#### `def insertar(valor, posicion)`"
   ]
  },
  {
   "cell_type": "markdown",
   "metadata": {},
   "source": [
    "- Este metodo crea un Nodo con el valor `valor` y en la posicion `posicion` de la lista ligada\n",
    "    1. Crear el nodo nuevo\n",
    "    \n",
    "    2. Buscar el nodo en la posicion donde se quiere insertar ($n_{aft}$). Este nodo quedara 'despues' del nuevo nodo despues de la insercion\n",
    "    \n",
    "    3. Buscar el nodo anterior a la posicion donde se quiere insertar ($n_{pre}$). Este nodo quedara 'antes' del nuevo nodo despues de la insercion\n",
    "\n",
    "    4. Asignar el nuevo nodo $n_{pre}$`.siguente`\n",
    "\n",
    "    5. Asignar $n_{aft}$ al siguente del nuevo nodo"
   ]
  },
  {
   "cell_type": "markdown",
   "metadata": {},
   "source": [
    "### `ListaLigada` full implementada"
   ]
  },
  {
   "cell_type": "code",
   "execution_count": 2,
   "metadata": {},
   "outputs": [],
   "source": [
    "class ListaLigada:\n",
    "    \"\"\"\n",
    "    Clase que representa a una lista ligada\n",
    "    \"\"\"\n",
    "\n",
    "    def __init__(self) -> None:\n",
    "        # inicializacion de una lista ligada vacia\n",
    "        self.cabeza: Nodo = None\n",
    "        self.cola: Nodo = None\n",
    "\n",
    "    def agregar(self, valor):\n",
    "        \"\"\"\n",
    "        Agrega un nodo al final de la lista\n",
    "        \"\"\"\n",
    "        \n",
    "        # crear nuevo nodo\n",
    "        nodo = Nodo(valor=valor)\n",
    "\n",
    "        # si la lista esta vacia\n",
    "        if self.cabeza is None: # se convierte en nuestro unico nodo\n",
    "            self.cabeza = nodo\n",
    "            self.cola = nodo\n",
    "        else: # \n",
    "            self.cola.siguente = nodo # asigmamos el sucesor de la cola\n",
    "            self.cola = self.cola.siguente # asignamos la nueva cola\n",
    "\n",
    "    def obtener(self, posicion):\n",
    "        \"\"\"\n",
    "        Recupera el Nodo en la posicion indicada. Parte desde el comienzo\n",
    "        \"\"\"\n",
    "\n",
    "        # comenzamos por la cabeza\n",
    "        nodo_actual = self.cabeza\n",
    "\n",
    "        # recorremos siguendo los punteros al nodo siguente\n",
    "        for _ in range(posicion):\n",
    "            if nodo_actual is not None: # si no se llego al final de la lista\n",
    "                nodo_actual = nodo_actual.siguente # accedemos al siguente nodo\n",
    "\n",
    "        # en este punto, se esta buscando una posicion mayor a la longitud de la lista ligada\n",
    "        if nodo_actual is None:\n",
    "            return None # retornamos nada\n",
    "        \n",
    "        # retornamos el valor del nodo que queriamos consultar, cuyo Nodo fue asignado en el for\n",
    "        # si es que se encontraba ahi\n",
    "        return nodo_actual.valor\n",
    "        \n",
    "    def insertar(self, valor, posicion):\n",
    "        \"\"\"\n",
    "        Crea un nodo y lo inserta en la posicion indicada\n",
    "        \"\"\"\n",
    "\n",
    "        nodo = Nodo(valor=valor)\n",
    "        nodo_actual = self.cabeza\n",
    "\n",
    "\n",
    "        # caso base: insertar en la cabeza\n",
    "        if posicion == 0:\n",
    "            nodo.siguente = self.cabeza # lo colocamos antes de la cabeza\n",
    "            self.cabeza = nodo # asignamos la nueva cabeza\n",
    "\n",
    "            # si la lista estaba vacia, actualizar la cola\n",
    "            if nodo.siguente is None:\n",
    "                self.cola = nodo\n",
    "\n",
    "            return # finalizar ejecucion\n",
    "        \n",
    "        # buscar el nodo predecesor\n",
    "        for _ in range(posicion - 1):\n",
    "            if nodo_actual is not None:\n",
    "                nodo_actual = nodo_actual.siguente\n",
    "\n",
    "        # se halla al predecesor, se actualizan sus referencias\n",
    "        if nodo_actual is not None:\n",
    "            # colocamos el que estaba al siguente del predecesor (el sucesor)\n",
    "            # y lo asignamos como el siguente de nuestro nodo nuevo\n",
    "            nodo.siguente = nodo_actual.siguente\n",
    "            \n",
    "            # colocamos nuestro nodo despues del predecesor\n",
    "            nodo_actual.siguente = nodo\n",
    "            \n",
    "            # si se inserto en la ultima posicion\n",
    "            if nodo.siguente is None:\n",
    "                self.cola = nodo\n",
    "\n",
    "    def __repr__(self) -> str:\n",
    "        \"\"\"\n",
    "        Representacion de la lista ligada\n",
    "        \"\"\"\n",
    "        string = \"\"\n",
    "        nodo_actual = self.cabeza\n",
    "        while nodo_actual is not None:\n",
    "            string += f'{nodo_actual.valor} -> '\n",
    "            nodo_actual = nodo_actual.siguente\n",
    "\n",
    "        return string\n",
    "\n",
    "    # metodos extras de los ejercicios\n",
    "    def __len__(self):\n",
    "        '''\n",
    "        Retorna el largo de las lista ligada\n",
    "        '''\n",
    "        nodo_actual = self.cabeza\n",
    "        if nodo_actual is None: # lista vacia\n",
    "            return 0\n",
    "        \n",
    "        curr_len = 0\n",
    "        while nodo_actual is not None:\n",
    "            nodo_actual = nodo_actual.siguiente\n",
    "            curr_len += 1\n",
    "\n",
    "        return curr_len\n",
    "\n",
    "    def remover(self, posicion):\n",
    "        \"\"\"\n",
    "        Remueve un nodo de la posicion indicada, lo desecha despues de utilizarlo\n",
    "        \"\"\"\n",
    "        nodo_actual = self.cabeza\n",
    "        # caso base: quitar la cabeza\n",
    "        if posicion == 0:\n",
    "            nueva_cabeza = self.cabeza.siguiente\n",
    "            self.cabeza = nueva_cabeza\n",
    "            del nodo_actual\n",
    "            return\n",
    "\n",
    "        # recorremos la lista hasta llegar al predecesor\n",
    "        for _ in range(posicion -1):\n",
    "            if nodo_actual is not None:\n",
    "                nodo_actual = nodo_actual.siguiente\n",
    "\n",
    "        # tenemos el predecesor\n",
    "        if nodo_actual is not None:\n",
    "        \n",
    "            # tenemos el sucedor de este, el nodo que queremos eliminar\n",
    "            nodo_a_remover = nodo_actual.siguiente\n",
    "        \n",
    "            # seteamos como siguente del predesecor, el sucesor del nodo a eliminar\n",
    "            if nodo_a_remover is not None:\n",
    "                nodo_actual.siguiente = nodo_a_remover.siguiente\n",
    "\n",
    "            else:\n",
    "                # el siguente es none. por lo tanto el nodo a remover fue el nodo final\n",
    "                self.cola = nodo_actual\n",
    "            \n",
    "            # eliminamos de memoria al nodo, podriamos retornarlo si se quiere\n",
    "            del nodo_a_remover\n",
    "        # si el nodo es actual es none es porque terminamos"
   ]
  },
  {
   "cell_type": "markdown",
   "metadata": {},
   "source": [
    "#### Demostracion del funcionamiento"
   ]
  },
  {
   "cell_type": "code",
   "execution_count": 21,
   "metadata": {},
   "outputs": [
    {
     "name": "stdout",
     "output_type": "stream",
     "text": [
      "\n",
      "2 -> 5 -> \n",
      "2 -> 5 -> 28 -> 24 -> \n"
     ]
    }
   ],
   "source": [
    "ll = ListaLigada()\n",
    "print(ll)\n",
    "ll.agregar(2)\n",
    "ll.agregar(5)\n",
    "print(ll)\n",
    "ll.agregar(28)\n",
    "ll.agregar(24)\n",
    "print(ll)"
   ]
  },
  {
   "cell_type": "code",
   "execution_count": 22,
   "metadata": {},
   "outputs": [
    {
     "name": "stdout",
     "output_type": "stream",
     "text": [
      "2 -> 5 -> 33 -> 28 -> 24 -> \n"
     ]
    }
   ],
   "source": [
    "ll.insertar(33, 2)\n",
    "print(ll)"
   ]
  },
  {
   "cell_type": "code",
   "execution_count": 23,
   "metadata": {},
   "outputs": [
    {
     "name": "stdout",
     "output_type": "stream",
     "text": [
      "Posicion 3: 28\n"
     ]
    }
   ],
   "source": [
    "print(f'Posicion {3}: {ll.obtener(3)}')"
   ]
  },
  {
   "cell_type": "code",
   "execution_count": 24,
   "metadata": {},
   "outputs": [
    {
     "name": "stdout",
     "output_type": "stream",
     "text": [
      "2 -> 5 -> 33 -> hola -> 28 -> 24 -> \n"
     ]
    }
   ],
   "source": [
    "# podemos agregar cualquier dato\n",
    "ll.insertar('hola', 3)\n",
    "print(ll)"
   ]
  },
  {
   "cell_type": "code",
   "execution_count": 25,
   "metadata": {},
   "outputs": [
    {
     "name": "stdout",
     "output_type": "stream",
     "text": [
      "[1, 2, 4] -> 2 -> 5 -> 33 -> hola -> 28 -> 24 -> \n"
     ]
    }
   ],
   "source": [
    "ll.insertar([1,2,4], 0)\n",
    "print(ll)"
   ]
  },
  {
   "cell_type": "code",
   "execution_count": 29,
   "metadata": {},
   "outputs": [
    {
     "name": "stdout",
     "output_type": "stream",
     "text": [
      "[1, 2, 4] -> 2 -> 5 -> 33 -> hola -> 28 -> 999 -> 999 -> 24 -> 999 -> \n"
     ]
    }
   ],
   "source": [
    "ll.insertar(999, 9)\n",
    "print(ll)"
   ]
  },
  {
   "cell_type": "code",
   "execution_count": 30,
   "metadata": {},
   "outputs": [
    {
     "name": "stdout",
     "output_type": "stream",
     "text": [
      "[1, 2, 4] -> 2 -> 5 -> 33 -> hola -> 28 -> 999 -> 999 -> 24 -> 999 -> fin -> \n"
     ]
    }
   ],
   "source": [
    "ll.insertar('fin', 10)\n",
    "print(ll)"
   ]
  },
  {
   "cell_type": "markdown",
   "metadata": {},
   "source": [
    "# 2. Grafos"
   ]
  },
  {
   "cell_type": "markdown",
   "metadata": {},
   "source": [
    "- Conjunto no vacio compuesto por **nodos** conectados entre si.\n",
    "    \n",
    "    - Nodo -> se conoce como **vertice**\n",
    "    \n",
    "    - Relacion entre nodos -> **aristas**\n",
    "\n",
    "- Pueden ser **dirigidos**: las relaciones entre nodos tienen una direccion. Ej: seguimiento en IG\n",
    "\n",
    "- O **no dirigidos**: las relaciones no tienen una direccion. Ej: amistad en facebook\n",
    "\n",
    "![ejemplo](imgs/15_grafos.png)"
   ]
  },
  {
   "cell_type": "markdown",
   "metadata": {},
   "source": [
    "## Representacion de Grafos"
   ]
  },
  {
   "cell_type": "markdown",
   "metadata": {},
   "source": [
    "### 1. Representacion con `Nodo`"
   ]
  },
  {
   "cell_type": "markdown",
   "metadata": {},
   "source": [
    "- Se implementa la clase `Nodo`. Con su valor, y su lista de vecinos\n",
    "- Tiene un metodo para agregar nodos vecinos"
   ]
  },
  {
   "cell_type": "code",
   "execution_count": 3,
   "metadata": {},
   "outputs": [],
   "source": [
    "# Nodo de un grafo\n",
    "class Nodo:\n",
    "\n",
    "    # Un nodo está compuesto por el valor que almacena y una lista de sus nodos vecinos\n",
    "    def __init__(self, valor):\n",
    "        self.valor = valor\n",
    "        self.vecinos = []\n",
    "\n",
    "    def agregar_vecino(self, nodo):\n",
    "        self.vecinos.append(nodo)\n",
    "\n",
    "    def __repr__(self):\n",
    "        texto = f\"[{self.valor}]\"\n",
    "        if len(self.vecinos) > 0:\n",
    "            textos_vecinos = [f\"[{vecino.valor}]\" for vecino in self.vecinos]\n",
    "            texto += \" -> \" + \", \".join(textos_vecinos)\n",
    "        return texto"
   ]
  },
  {
   "cell_type": "markdown",
   "metadata": {},
   "source": [
    "\n",
    "- Vamos creando Nodos, y los vamos conectando entre si usando `agregar_vecino`, para ir creando nuestro grafo"
   ]
  },
  {
   "cell_type": "markdown",
   "metadata": {},
   "source": [
    "### 2. Lista de adyacencia"
   ]
  },
  {
   "cell_type": "markdown",
   "metadata": {},
   "source": [
    "- Diccionario donde las llaves son los **vertices**, y cada vertice esta asociado a una lista de vertices, i.e sus vecinos"
   ]
  },
  {
   "cell_type": "code",
   "execution_count": 6,
   "metadata": {},
   "outputs": [],
   "source": [
    "# Aquí usamos diccionarios con llave: int y valor: list porque ofrece más facilidad de búsqueda.\n",
    "# Cada llave del diccionario es el valor de un vértice, y el valor asociado es la lista de vértices con conexión.\n",
    "\n",
    "# en el grafo no dirigido, dos nodos vecinos se tienen a su vecino en su lista\n",
    "grafo_no_dirigido = {1: [2], \n",
    "                     2: [1, 3], \n",
    "                     3: [2, 4, 5], \n",
    "                     4: [3, 5], \n",
    "                     5: [3, 4]\n",
    "                    }\n",
    "\n",
    "# en el grafo dirigido, notar que 5 no tiene vecinos, pero que 3 lo considera como uno\n",
    "grafo_dirigido = {1: [2], \n",
    "                  2: [3], \n",
    "                  3: [2, 4, 5], \n",
    "                  4: [5], \n",
    "                  5: []\n",
    "                 }\n"
   ]
  },
  {
   "cell_type": "markdown",
   "metadata": {},
   "source": [
    "### 3. Matriz de adyacencia"
   ]
  },
  {
   "cell_type": "markdown",
   "metadata": {},
   "source": [
    "- Matriz `NxN`, donde `N` es el numero de vertices\n",
    "- Las **filas** representan los vertices de origen\n",
    "- Las **columnas** representan los vertices de llegada\n",
    "\n",
    "- \"1\" si hay una arista que conecta el nodo de esa fila con el nodo de esa columna\n",
    "- \"0\" si no existe esa arista o si no esta dirigido\n",
    "\n",
    "Esta matriz solo contiene info de las conexiones, no acerca de los valores de cada Nodo"
   ]
  },
  {
   "cell_type": "code",
   "execution_count": 7,
   "metadata": {},
   "outputs": [],
   "source": [
    "grafo_no_dirigido = [[0, 1, 0, 0, 0], \n",
    "                     [1, 0, 1, 0, 0],\n",
    "                     [0, 1, 0, 1, 1], \n",
    "                     [0, 0, 1, 0, 1], \n",
    "                     [0, 0, 1, 1, 0]\n",
    "                    ]\n",
    "\n",
    "grafo_dirigido    = [[0, 1, 0, 0, 0], \n",
    "                     [0, 0, 1, 0, 0], \n",
    "                     [0, 1, 0, 1, 1], \n",
    "                     [0, 0, 0, 0, 1], \n",
    "                     [0, 0, 0, 0, 0]\n",
    "                    ]"
   ]
  },
  {
   "cell_type": "code",
   "execution_count": 8,
   "metadata": {},
   "outputs": [
    {
     "data": {
      "text/plain": [
       "False"
      ]
     },
     "execution_count": 8,
     "metadata": {},
     "output_type": "execute_result"
    }
   ],
   "source": [
    "# ¿Están relacionados en el grafo dirigido el vértice 4 y 1?\n",
    "1 == grafo_dirigido[4 - 1][1 - 1] # Se le resta 1 porque los índices van desde 0 hasta N -1"
   ]
  },
  {
   "cell_type": "markdown",
   "metadata": {},
   "source": [
    "Desventaja: la representacion ocupa mucho espacio, para grafos muy grandes, es mejor utilizar la lista de adyacencia"
   ]
  },
  {
   "cell_type": "markdown",
   "metadata": {},
   "source": [
    "## Pesos en Aristas"
   ]
  },
  {
   "cell_type": "markdown",
   "metadata": {},
   "source": [
    "Podemos asignar valores o pesos, a las relaciones entre ciertos nodos, esto permite especificar aun mas a las aristas, y nos permiten representar situaciones mas reales\n",
    "\n",
    "Podemos modificar ligeramente la representacion de los grafos para implementar los pesos de las aristas"
   ]
  },
  {
   "cell_type": "markdown",
   "metadata": {},
   "source": [
    "![ejemplo2](imgs/15_grafos_y_pesos.png)"
   ]
  },
  {
   "cell_type": "markdown",
   "metadata": {},
   "source": [
    "# 3. Operaciones basicas sobre Grafos"
   ]
  },
  {
   "cell_type": "markdown",
   "metadata": {},
   "source": [
    "## Implementacion de un Grafo Dirigido"
   ]
  },
  {
   "cell_type": "code",
   "execution_count": 9,
   "metadata": {},
   "outputs": [],
   "source": [
    "# Nodo de un grafo\n",
    "\n",
    "class Nodo:\n",
    "    def __init__(self, valor):\n",
    "        self.valor = valor\n",
    "    \n",
    "    def __repr__(self):\n",
    "        return repr(self.valor)"
   ]
  },
  {
   "cell_type": "code",
   "execution_count": 16,
   "metadata": {},
   "outputs": [],
   "source": [
    "class Grafo:\n",
    "    \"\"\"\n",
    "    Grafo representado como lista de adyadecencia\n",
    "    \"\"\"\n",
    "\n",
    "    def __init__(self, lista_adyacencia=None) -> None:\n",
    "        # podemos crear un grafo a partir de una lista de adyadecencia ya existente\n",
    "        # si no, se comienza con un diccionario vacio\n",
    "        self.lista_adyacencia = lista_adyacencia or dict()\n",
    "\n",
    "    def adyadecentes(self, x, y) -> bool:\n",
    "        \"\"\"\n",
    "        Indica si existe una arista entre x e y (si estan conectados). Retorna un bool\n",
    "        \"\"\"\n",
    "        # podemos buscar a y en la lista_adyadencia de x, o viceversa\n",
    "\n",
    "        return y in self.lista_adyacencia[x]\n",
    "\n",
    "    def vecinos(self, x) -> list:\n",
    "        \"\"\"\n",
    "        Entrega una lista de todos los nodos/vertices donde exista una arista entre x e y\n",
    "        \"\"\"\n",
    "        return self.lista_adyacencia[x]\n",
    "\n",
    "    def agregar_vertice(self, x) -> None:\n",
    "        \"\"\"\n",
    "        Agrega al vertice x al grafo\n",
    "        \"\"\"\n",
    "        self.lista_adyacencia[x] = set() # creamos una nueva llave\n",
    "        \n",
    "    def remover_vertice(self, x) -> None:\n",
    "        \"\"\"\n",
    "        Remueve al vertice x del grafo\n",
    "        \"\"\"\n",
    "        # es necesario recorrer todas las listas de adyacencia y eliminar todas las\n",
    "        # ocurrencias de x, aparte de x mismo\n",
    "\n",
    "        # elminamos la llave de x, no hace nada si es que no existe\n",
    "        self.lista_adyacencia.pop(x, None)\n",
    "        \n",
    "        for vertice, lista in self.lista_adyacencia.items:\n",
    "            if x in lista:\n",
    "                lista.remove(x)\n",
    "\n",
    "    def agregar_arista(self, x, y) -> None:\n",
    "        \"\"\"\n",
    "        Agrega una arista entre x e y\n",
    "        \"\"\"\n",
    "        # para no agregar un vertice por error\n",
    "        if x in self.lista_adyacencia:\n",
    "            self.lista_adyacencia[x].add(y)\n",
    "\n",
    "    def remover_arista(self, x, y) -> None:\n",
    "        \"\"\"\n",
    "        Elimina la arista entre x e y\n",
    "        \"\"\"\n",
    "\n",
    "        # buscamos a y en la lista de adyacencia de x y lo eliminamos\n",
    "        vecinos_x = self.lista_adyacencia[x]\n",
    "        if y in vecinos_x:\n",
    "            vecinos_x.remove(y)\n",
    "\n",
    "    def __repr__(self) -> str:\n",
    "        \"\"\"\n",
    "        Representacion grafica del nodo\n",
    "        \"\"\"\n",
    "        \n",
    "        string = \"\"\n",
    "        for nodo, vecinos in self.lista_adyacencia.items():\n",
    "            string += f'{nodo} -> {vecinos}\\n'\n",
    "\n",
    "        return string"
   ]
  },
  {
   "cell_type": "markdown",
   "metadata": {},
   "source": [
    "### Ejemplo. Grafo de `Persona`"
   ]
  },
  {
   "cell_type": "code",
   "execution_count": 20,
   "metadata": {},
   "outputs": [],
   "source": [
    "class Persona:\n",
    "    def __init__(self, nombre, edad):\n",
    "        self.nombre = nombre\n",
    "        self.edad = edad\n",
    "\n",
    "    def __repr__(self) -> str:\n",
    "        return self.nombre\n",
    "\n",
    "# Creamos a nuestras personas y los guardamos en nodos.\n",
    "# aprovechamos que los nodos pueden guardar cualquier tipo de info en su valor\n",
    "coco = Nodo(Persona(\"Coco\", 15))\n",
    "thor = Nodo(Persona(\"Thor\", 20))\n",
    "luna = Nodo(Persona(\"Luna\", 21))\n",
    "kira = Nodo(Persona(\"Kira\", 20))\n",
    "bon = Nodo(Persona(\"Bon\", 20))\n",
    "tomas = Nodo(Persona(\"Tomás\", 10))\n",
    "anya = Nodo(Persona(\"Anya\", 22))"
   ]
  },
  {
   "cell_type": "code",
   "execution_count": 21,
   "metadata": {},
   "outputs": [],
   "source": [
    "# Definimos las amistades.\n",
    "# Creamos la lista de adyacencia\n",
    "amistades = {\n",
    "    coco: set([thor, luna, kira, bon, tomas, anya]),\n",
    "    thor: set([kira, tomas, anya]),\n",
    "    luna: set([thor, bon, anya]),\n",
    "    bon: set([luna, tomas, anya]),\n",
    "    kira: set([thor, luna, bon, anya]),\n",
    "    anya: set([thor, luna, kira, bon])\n",
    "}\n",
    "\n",
    "# creamos el grafo\n",
    "grafo = Grafo(amistades)"
   ]
  },
  {
   "cell_type": "code",
   "execution_count": 22,
   "metadata": {},
   "outputs": [
    {
     "data": {
      "text/plain": [
       "Coco -> {Anya, Kira, Tomás, Bon, Thor, Luna}\n",
       "Thor -> {Kira, Tomás, Anya}\n",
       "Luna -> {Thor, Bon, Anya}\n",
       "Bon -> {Tomás, Luna, Anya}\n",
       "Kira -> {Thor, Luna, Anya, Bon}\n",
       "Anya -> {Thor, Kira, Luna, Bon}"
      ]
     },
     "execution_count": 22,
     "metadata": {},
     "output_type": "execute_result"
    }
   ],
   "source": [
    "grafo"
   ]
  },
  {
   "cell_type": "code",
   "execution_count": 23,
   "metadata": {},
   "outputs": [],
   "source": [
    "grafo.agregar_vertice(Nodo(Persona(\"Daniel\", 20)))"
   ]
  },
  {
   "cell_type": "code",
   "execution_count": 24,
   "metadata": {},
   "outputs": [
    {
     "data": {
      "text/plain": [
       "Coco -> {Anya, Kira, Tomás, Bon, Thor, Luna}\n",
       "Thor -> {Kira, Tomás, Anya}\n",
       "Luna -> {Thor, Bon, Anya}\n",
       "Bon -> {Tomás, Luna, Anya}\n",
       "Kira -> {Thor, Luna, Anya, Bon}\n",
       "Anya -> {Thor, Kira, Luna, Bon}\n",
       "Daniel -> set()"
      ]
     },
     "execution_count": 24,
     "metadata": {},
     "output_type": "execute_result"
    }
   ],
   "source": [
    "grafo"
   ]
  },
  {
   "cell_type": "markdown",
   "metadata": {},
   "source": [
    "# 4. Stacks Y Colas - `deque`"
   ]
  },
  {
   "cell_type": "markdown",
   "metadata": {},
   "source": [
    "## *Stacks*"
   ]
  },
  {
   "cell_type": "markdown",
   "metadata": {},
   "source": [
    "- Tambien conocido como *pila* - es una estructura de datos que funciona como ua pila de objetos\n",
    "- Al agregar uno, este se coloca arriba de la pila\n",
    "- Al quitar uno, sacamos **siempre** el de arriba de la pila\n",
    "\n",
    "\n",
    "Operaciones basicas:\n",
    "- **push**: Agrega un elemento al tope del stack\n",
    "- **pop**: Elimina el elemento que esta al top del stack. Siempre saca el ultimo elemento que fue agregado\n",
    "- **peek**: Muestra el elemento que esta en el tope, pero no lo saca del stack\n",
    "\n",
    "\n",
    "![ejemplo3](imgs/15_stacks.png)\n",
    "\n",
    "- Estructura **LIFO** (**Last In, First Out**)"
   ]
  },
  {
   "cell_type": "markdown",
   "metadata": {},
   "source": [
    "### Implementacion usando listas"
   ]
  },
  {
   "cell_type": "markdown",
   "metadata": {},
   "source": [
    "| Operación                                  | Código Python            |Descripción                                           |\n",
    "|--------------------------------------------|--------------------------|------------------------------------------------------|\n",
    "| Crear *stack*                              | `stack = []`             |Crea un *stack* vacío                                 |\n",
    "| *Push*                                     | `stack.append(elemento)` |Agrega un elemento al tope del *stack*                |\n",
    "| *Pop*                                      | `stack.pop()`            |Retorna y extrae el elemento del tope del *stack*     |\n",
    "| *Peek*                                     | `stack[-1]`              |Retorna el elemento del tope del *stack* sin extraerlo|\n",
    "| *length*                                   | `len(stack)`             |Retorna la cantidad de elementos en el *stack*        |\n",
    "| *is\\_empty*                                | `len(stack) == 0`        |Retorna `true` si el *stack* está vacío  "
   ]
  },
  {
   "cell_type": "code",
   "execution_count": null,
   "metadata": {},
   "outputs": [],
   "source": []
  },
  {
   "cell_type": "markdown",
   "metadata": {},
   "source": [
    "## *Queues*"
   ]
  },
  {
   "cell_type": "markdown",
   "metadata": {},
   "source": [
    "- Tambien conocido como cola. Matiene objetos ordenados de acuerdo al orden el que llegaron\n",
    "\n",
    "- Estructura **FIFO** (**First in, First Out**)\n",
    "\n",
    "Operaciones Basicas\n",
    "- **Enqueue**: Agrega un elemento al final de la cola\n",
    "- **Dequeue** Saca el elemento del inicio de la cola. Siempre saca el elemento que lleva mas tiempo en la cola\n",
    "\n",
    "![ejemplo5](imgs/15_queues.png)"
   ]
  },
  {
   "cell_type": "markdown",
   "metadata": {},
   "source": [
    "### Implementacion - clase `collections.deque()`"
   ]
  },
  {
   "cell_type": "markdown",
   "metadata": {},
   "source": [
    "| Operación                 | Código Python           | Descripción                                           |\n",
    "|---------------------------|-------------------------|-------------------------------------------------------|\n",
    "| Crear cola                | `cola = deque()`        | Crea una cola vacía                                   |\n",
    "| Crear cola                | `cola = deque(lista)`   | Crea una cola a partir de los elementos de una lista  |\n",
    "| *Enqueue*                 | `cola.append(elemento)` | Agrega un elemento al final de la cola                |\n",
    "| *Dequeue*                 | `cola.popleft()`        | Retorna y extrae el elemento del principio de la cola |\n",
    "| *Peek*                    | `cola[0]`               | Retorna el primer elemento de la cola sin extraerlo   |\n",
    "| *length*                  | `len(cola)`             | Retorna la cantidad de elementos en la cola           |\n",
    "|*is_empty*                 | `len(cola) == 0`        | Retorna true si la cola está vacía                    |\n"
   ]
  },
  {
   "cell_type": "markdown",
   "metadata": {},
   "source": [
    "- en vez de usar pop(0), se usa `deque.popleft()` esto es porque pop(0) es muy ineficiente, ya que hace N operaciones, donde N es el numero de elementos de la cola"
   ]
  },
  {
   "cell_type": "markdown",
   "metadata": {},
   "source": [
    "## `deque` - Cola de doble extremo"
   ]
  },
  {
   "cell_type": "markdown",
   "metadata": {},
   "source": [
    "Estructura secuencial en la que es posible agregar y sacar elementos desde ambos lados en forma eficiente\n",
    "\n",
    "- Acceder a un elemento: la indexacion en `deque` es menos eficiente que en `list`\n",
    "- Extraer un elemento del inicio es mucho mas eficiente con `deque` que con `list`"
   ]
  },
  {
   "cell_type": "markdown",
   "metadata": {},
   "source": [
    "### Metodos Utiles"
   ]
  },
  {
   "cell_type": "markdown",
   "metadata": {},
   "source": [
    "\n",
    "| Operación      | Código Python                | Descripción                                                      |\n",
    "|----------------|------------------------------|------------------------------------------------------------------|\n",
    "| Crear *deque*  | `deque()`                    | Crea un *deque* vacío                                            |\n",
    "| Crear *deque*  | `deque(lista)`               | Crea un *deque* a partir de los elementos de una lista           |\n",
    "| *Add first*    | `deque.appendleft(elemento)` | Agrega un elemento al inicio del *deque*                         |\n",
    "| *Add last*     | `deque.append(elemento)`     | Agrega un elemento al final del *deque*                          |\n",
    "| *Delete first* | `deque.popleft()`            | Retorna y extrae el primer elemento del *deque*                  |\n",
    "| *Delete last*  | `deque.pop()`                | Retorna y extrae el último elemento del *deque*                  |\n",
    "| *First*        | `deque[0]`                   | Retorna sin extraer el primer elemento del *deque*               |\n",
    "| *Last*         | `deque[-1]`                  | Retorna sin extraer el último elemento del *deque*               |\n",
    "| *length*       | `len(deque)`                 | Retorna el número de elementos en el *deque*                     |\n",
    "| *Is empty*     | `len(deque) == 0`            | Retorna true si el *deque* está vacío                            |\n",
    "| *Clear*        | `deque.clear()`              | Limpia el *deque*                                                |\n",
    "| *Remove*       | `deque.remove(elemento)`     | Saca el primer elemento del *deque* que sea igual a `elemento`   |\n",
    "| *Count*        | `deque.count(elemento)`      | Cuenta el número de elementos iguales a `elemento` en el *deque* |\n",
    "\n",
    "El *deque* soporta acceso de lectura y escritura en el elemento de la posición `i`, con la sentencia `deque[i]`. Sin embargo, esta operación **no es eficiente** como en el caso de las listas. En un *deque*, para llegar a la posición `i` el computador inicia en la posición `0` y se va moviendo hasta encontrar la posición `i` para poder leerlo (es decir, requiere recorrer todos los elementos anteriores a `i` para llegar a `i`). "
   ]
  },
  {
   "cell_type": "markdown",
   "metadata": {},
   "source": [
    "### Ejemplo - Palindromos de forma recursiva"
   ]
  },
  {
   "cell_type": "code",
   "execution_count": 2,
   "metadata": {},
   "outputs": [],
   "source": [
    "from collections import deque\n",
    "\n",
    "def es_palindromo(word):\n",
    "    cola = deque(word)\n",
    "    return es_palindromo_recursion(cola)\n",
    "\n",
    "def es_palindromo_recursion(word):\n",
    "    if len(word) <= 1:\n",
    "        return True # caso base, se llego al final de la palabra\n",
    "        # luego este True aporta en el comparador de abajo\n",
    "    else:\n",
    "        # comprobamos que las letras de lso extremos coincidan, las quitamos de paso\n",
    "        # para analizar lo que resta de la palabra\n",
    "        return (word.popleft() == word.pop()) and es_palindromo_recursion(word)"
   ]
  },
  {
   "cell_type": "code",
   "execution_count": 3,
   "metadata": {},
   "outputs": [
    {
     "name": "stdout",
     "output_type": "stream",
     "text": [
      "False\n"
     ]
    }
   ],
   "source": [
    "print(es_palindromo(\"amogus\"))"
   ]
  },
  {
   "cell_type": "code",
   "execution_count": 4,
   "metadata": {},
   "outputs": [
    {
     "name": "stdout",
     "output_type": "stream",
     "text": [
      "True\n"
     ]
    }
   ],
   "source": [
    "print(es_palindromo(\"reconocer\"))"
   ]
  },
  {
   "cell_type": "markdown",
   "metadata": {},
   "source": [
    "# 5. Recorridos"
   ]
  },
  {
   "cell_type": "markdown",
   "metadata": {},
   "source": [
    "Se hace necesario saber como recorrer todos los nodos de un grafo de manera ordenada y sistematica. Tenemos dos metodos"
   ]
  },
  {
   "cell_type": "markdown",
   "metadata": {},
   "source": [
    "- Tomanos el nodo y el grafo que programamos antes"
   ]
  },
  {
   "cell_type": "markdown",
   "metadata": {},
   "source": [
    "## Clases"
   ]
  },
  {
   "cell_type": "code",
   "execution_count": 1,
   "metadata": {},
   "outputs": [],
   "source": [
    "# Nodo de un grafo\n",
    "\n",
    "class Nodo:\n",
    "    def __init__(self, valor):\n",
    "        self.valor = valor\n",
    "    \n",
    "    def __repr__(self):\n",
    "        return repr(self.valor)"
   ]
  },
  {
   "cell_type": "code",
   "execution_count": 2,
   "metadata": {},
   "outputs": [],
   "source": [
    "class Grafo:\n",
    "    \"\"\"\n",
    "    Grafo representado como lista de adyadecencia\n",
    "    \"\"\"\n",
    "\n",
    "    def __init__(self, lista_adyacencia=None) -> None:\n",
    "        # podemos crear un grafo a partir de una lista de adyadecencia ya existente\n",
    "        # si no, se comienza con un diccionario vacio\n",
    "        self.lista_adyacencia = lista_adyacencia or dict()\n",
    "\n",
    "    def adyadecentes(self, x, y) -> bool:\n",
    "        \"\"\"\n",
    "        Indica si existe una arista entre x e y (si estan conectados). Retorna un bool\n",
    "        \"\"\"\n",
    "        # podemos buscar a y en la lista_adyadencia de x, o viceversa\n",
    "\n",
    "        return y in self.lista_adyacencia[x]\n",
    "\n",
    "    def vecinos(self, x) -> list:\n",
    "        \"\"\"\n",
    "        Entrega una lista de todos los nodos/vertices donde exista una arista entre x e y\n",
    "        \"\"\"\n",
    "        return self.lista_adyacencia[x]\n",
    "\n",
    "    def agregar_vertice(self, x) -> None:\n",
    "        \"\"\"\n",
    "        Agrega al vertice x al grafo\n",
    "        \"\"\"\n",
    "        self.lista_adyacencia[x] = set() # creamos una nueva llave\n",
    "        \n",
    "    def remover_vertice(self, x) -> None:\n",
    "        \"\"\"\n",
    "        Remueve al vertice x del grafo\n",
    "        \"\"\"\n",
    "        # es necesario recorrer todas las listas de adyacencia y eliminar todas las\n",
    "        # ocurrencias de x, aparte de x mismo\n",
    "\n",
    "        # elminamos la llave de x, no hace nada si es que no existe\n",
    "        self.lista_adyacencia.pop(x, None)\n",
    "        \n",
    "        for vertice, lista in self.lista_adyacencia.items:\n",
    "            if x in lista:\n",
    "                lista.remove(x)\n",
    "\n",
    "    def agregar_arista(self, x, y) -> None:\n",
    "        \"\"\"\n",
    "        Agrega una arista entre x e y\n",
    "        \"\"\"\n",
    "        # para no agregar un vertice por error\n",
    "        if x in self.lista_adyacencia:\n",
    "            self.lista_adyacencia[x].add(y)\n",
    "\n",
    "    def remover_arista(self, x, y) -> None:\n",
    "        \"\"\"\n",
    "        Elimina la arista entre x e y\n",
    "        \"\"\"\n",
    "\n",
    "        # buscamos a y en la lista de adyacencia de x y lo eliminamos\n",
    "        vecinos_x = self.lista_adyacencia[x]\n",
    "        if y in vecinos_x:\n",
    "            vecinos_x.remove(y)\n",
    "\n",
    "    def __repr__(self) -> str:\n",
    "        \"\"\"\n",
    "        Representacion grafica del nodo\n",
    "        \"\"\"\n",
    "        \n",
    "        string = \"\"\n",
    "        for nodo, vecinos in self.lista_adyacencia.items():\n",
    "            string += f'{nodo} -> {vecinos}\\n'\n",
    "\n",
    "        return string"
   ]
  },
  {
   "cell_type": "code",
   "execution_count": 10,
   "metadata": {},
   "outputs": [],
   "source": [
    "class Persona:\n",
    "    def __init__(self, nombre, edad):\n",
    "        self.nombre = nombre\n",
    "        self.edad = edad\n",
    "\n",
    "    def __repr__(self) -> str:\n",
    "        return self.nombre\n",
    "\n",
    "# Creamos a nuestras personas y los guardamos en nodos.\n",
    "# aprovechamos que los nodos pueden guardar cualquier tipo de info en su valor\n",
    "coco = Nodo(Persona(\"Coco\", 15))\n",
    "thor = Nodo(Persona(\"Thor\", 20))\n",
    "luna = Nodo(Persona(\"Luna\", 21))\n",
    "kira = Nodo(Persona(\"Kira\", 20))\n",
    "bon = Nodo(Persona(\"Bon\", 20))\n",
    "tomas = Nodo(Persona(\"Tomás\", 10))\n",
    "anya = Nodo(Persona(\"Anya\", 22))\n",
    "# Definimos las amistades.\n",
    "amistades = {\n",
    "    coco: set([thor, luna, kira, bon, tomas, anya]),\n",
    "    thor: set([kira, tomas, anya]),\n",
    "    luna: set([thor, bon, anya]),\n",
    "    bon: set([luna, tomas, anya]),\n",
    "    kira: set([thor, luna, bon, anya]),\n",
    "    anya: set([thor, luna, kira, bon]),\n",
    "    tomas: set([bon, coco])\n",
    "}"
   ]
  },
  {
   "cell_type": "code",
   "execution_count": 11,
   "metadata": {},
   "outputs": [
    {
     "data": {
      "text/plain": [
       "Coco -> {Bon, Kira, Thor, Tomás, Luna, Anya}\n",
       "Thor -> {Tomás, Anya, Kira}\n",
       "Luna -> {Thor, Bon, Anya}\n",
       "Bon -> {Tomás, Anya, Luna}\n",
       "Kira -> {Thor, Bon, Anya, Luna}\n",
       "Anya -> {Thor, Bon, Kira, Luna}\n",
       "Tomás -> {Bon, Coco}"
      ]
     },
     "execution_count": 11,
     "metadata": {},
     "output_type": "execute_result"
    }
   ],
   "source": [
    "grafo = Grafo(amistades)\n",
    "grafo"
   ]
  },
  {
   "cell_type": "markdown",
   "metadata": {},
   "source": [
    "## 1. ***Breadth First Search (BFS)***"
   ]
  },
  {
   "cell_type": "markdown",
   "metadata": {},
   "source": [
    "Recorrido exhaustivo desde un punto de partida\n",
    "- Se utiliza una cola para mantener el registro de los nodos que se deben visitar\n",
    "\n",
    "- Inicialmente el unico nodo es el nodo inicial con el que se quiere partir\n",
    "\n",
    "- Se comienza extrayendo un nodo de la cola y se visita, **agregando todos sus vecinos a la cola**\n",
    "\n",
    "- Luego de visitar este nodo, se deja como visitado y se sigue en el sigeunte elemento de la cola, este nodo agregara a sus vecinos en esta y luego se pasara el siguente vecino. Asi hasta haber visitado todos los nodos\n",
    "\n",
    "- **OJO**: si un nodo no aparece en la lista de visitados, entonces **no es alcanzable** desde ese punto inicial del grafo"
   ]
  },
  {
   "cell_type": "markdown",
   "metadata": {},
   "source": [
    "Visualmente\n",
    "\n",
    "![bfs](imgs/15_Breadth-First-Search-Algorithm.gif)"
   ]
  },
  {
   "cell_type": "markdown",
   "metadata": {},
   "source": [
    "BFS es util cuando necesitamos encontrar **la cantidad minima de aristas a recorrer para llegar desde un elemento** hasta otro\n",
    "- Cuando una arista presenta un peso, el criterio BFS deja de ser eficiente"
   ]
  },
  {
   "cell_type": "code",
   "execution_count": 12,
   "metadata": {},
   "outputs": [],
   "source": [
    "from collections import deque\n",
    "\n",
    "def bfs(grafo: Grafo, inicio: Nodo):\n",
    "    \"\"\"\n",
    "    Implementacion para un grafo representado como lista de adyacencia\n",
    "    \"\"\"\n",
    "\n",
    "    # lista de los nodos ya visitados, esto es necesario para evitar que caigamos el loops en el grafo\n",
    "    visitados = []\n",
    "\n",
    "    queue = deque([inicio]) # recordar que el queue es FIFO\n",
    "\n",
    "    # mientras queden elementos en el queue, seguiremos recorriendo\n",
    "    while len(queue) > 0:\n",
    "        # elegimos el nodo a visitar\n",
    "        nodo = queue.popleft() # sacamos el primero de la cola\n",
    "\n",
    "        # vemos si no ha sido visitado antes\n",
    "        if nodo in visitados:\n",
    "            continue # proseguir a la siguente iteracion\n",
    "\n",
    "        # visitar nodo\n",
    "        print(nodo)\n",
    "        visitados.append(nodo)\n",
    "\n",
    "        # ahora agregamos los vecinos del nodo al queue\n",
    "        for vecino in grafo[nodo]:\n",
    "            if vecino not in visitados:\n",
    "                queue.append(vecino)\n",
    "\n",
    "    return visitados # recorrido final\n"
   ]
  },
  {
   "cell_type": "code",
   "execution_count": 17,
   "metadata": {},
   "outputs": [
    {
     "name": "stdout",
     "output_type": "stream",
     "text": [
      "Bon\n",
      "Tomás\n",
      "Anya\n",
      "Luna\n",
      "Coco\n",
      "Thor\n",
      "Kira\n",
      "[Bon, Tomás, Anya, Luna, Coco, Thor, Kira]\n"
     ]
    }
   ],
   "source": [
    "print(bfs(amistades, bon))"
   ]
  },
  {
   "cell_type": "markdown",
   "metadata": {},
   "source": [
    "### Ejemplo con grafo"
   ]
  },
  {
   "attachments": {
    "image.png": {
     "image/png": "[encoded data removed]"
    }
   },
   "cell_type": "markdown",
   "metadata": {},
   "source": [
    "![image.png](attachment:image.png)"
   ]
  },
  {
   "cell_type": "code",
   "execution_count": 19,
   "metadata": {},
   "outputs": [],
   "source": [
    "lista_adyacencia = {\n",
    "    0: [1, 5],\n",
    "    1: [5],\n",
    "    2: [0,3,4],\n",
    "    3: [7],\n",
    "    4: [6],\n",
    "    5: [2, 4],\n",
    "    6: [3,7],\n",
    "    7: []\n",
    "}"
   ]
  },
  {
   "cell_type": "code",
   "execution_count": 20,
   "metadata": {},
   "outputs": [
    {
     "name": "stdout",
     "output_type": "stream",
     "text": [
      "0\n",
      "1\n",
      "5\n",
      "2\n",
      "4\n",
      "3\n",
      "6\n",
      "7\n"
     ]
    },
    {
     "data": {
      "text/plain": [
       "[0, 1, 5, 2, 4, 3, 6, 7]"
      ]
     },
     "execution_count": 20,
     "metadata": {},
     "output_type": "execute_result"
    }
   ],
   "source": [
    "bfs(lista_adyacencia, 0)"
   ]
  },
  {
   "cell_type": "markdown",
   "metadata": {},
   "source": [
    "## 2. ***Depth-first search (DFS)***"
   ]
  },
  {
   "cell_type": "markdown",
   "metadata": {},
   "source": [
    "- Se parte de un nodo de inicio, al igual que en BFS, si el nodo no aparece en el recorrido, significa que no es alcanzable desde ese punto de partida\n",
    "\n",
    "- Aqui se hace una **busqueda por profundidad**\n",
    "\n",
    "- Desde el nodo inicial, se elige a un vecino y se trata de llegar lo mas lejos posible. Una vez se llega al final de la rama, se repite para el vecino siguente\n",
    "\n",
    "![dfs](imgs/15_Depth-First-Search.gif)"
   ]
  },
  {
   "cell_type": "markdown",
   "metadata": {},
   "source": [
    "### Implementacion Iterativa"
   ]
  },
  {
   "cell_type": "markdown",
   "metadata": {},
   "source": [
    "- Muy similar a BFS, solo que esta vez usamos un *stack*"
   ]
  },
  {
   "cell_type": "code",
   "execution_count": 26,
   "metadata": {},
   "outputs": [],
   "source": [
    "def dfs_iter(grafo, inicio: Nodo):\n",
    "    \n",
    "    # set con los nodos visitados\n",
    "    visitados = set()\n",
    "\n",
    "    # stack, recordar que es LIFO\n",
    "    stack = [inicio]\n",
    "\n",
    "    while len(stack) > 0:\n",
    "        nodo = stack.pop()\n",
    "\n",
    "        # comprobar si ya lo hemos visitado antes\n",
    "        if nodo in visitados:\n",
    "            continue\n",
    "\n",
    "        # visitamos el nodo\n",
    "        print(nodo)\n",
    "        visitados.add(nodo)\n",
    "\n",
    "        # agregamos los vecinos no visitados al stack\n",
    "        for vecino in grafo[nodo]:\n",
    "            if vecino not in visitados:\n",
    "                stack.append(vecino)\n",
    "\n",
    "    return list(visitados)"
   ]
  },
  {
   "cell_type": "code",
   "execution_count": 27,
   "metadata": {},
   "outputs": [
    {
     "name": "stdout",
     "output_type": "stream",
     "text": [
      "{0: [1, 5], 1: [5], 2: [0, 3, 4], 3: [7], 4: [6], 5: [2, 4], 6: [3, 7], 7: []}\n"
     ]
    }
   ],
   "source": [
    "# ejemplo con el nodo de antes\n",
    "print(lista_adyacencia)"
   ]
  },
  {
   "cell_type": "code",
   "execution_count": 28,
   "metadata": {},
   "outputs": [
    {
     "name": "stdout",
     "output_type": "stream",
     "text": [
      "0\n",
      "5\n",
      "4\n",
      "6\n",
      "7\n",
      "3\n",
      "2\n",
      "1\n"
     ]
    },
    {
     "data": {
      "text/plain": [
       "[0, 1, 2, 3, 4, 5, 6, 7]"
      ]
     },
     "execution_count": 28,
     "metadata": {},
     "output_type": "execute_result"
    }
   ],
   "source": [
    "# ojo, como se retorna un set, este se ordena\n",
    "# pero el orden en que se fueron visitando esta impreso hay\n",
    "# esto es porque los nodos son numeros, si hubiesen sido letras, la cosa cambia\n",
    "dfs_iter(lista_adyacencia, 0)"
   ]
  },
  {
   "cell_type": "markdown",
   "metadata": {},
   "source": [
    "### Implementacion Recursiva"
   ]
  },
  {
   "cell_type": "markdown",
   "metadata": {},
   "source": [
    "- Se recorre cada nodo, y se llama recursivamente a los vecinos de ese nodo. Es necesario mantener una lista con los ya visitados a todo momento"
   ]
  },
  {
   "cell_type": "code",
   "execution_count": 29,
   "metadata": {},
   "outputs": [],
   "source": [
    "def dfs_recur(grafo, nodo, visitados=None):\n",
    "    visitados = visitados or set() # set() se asigna al partir\n",
    "\n",
    "    # visitamos el nodo\n",
    "    print(nodo)\n",
    "    visitados.add(nodo)\n",
    "\n",
    "    for vecino in grafo[nodo]:\n",
    "\n",
    "        if vecino not in visitados:\n",
    "            dfs_recur(grafo, vecino, visitados=visitados)\n",
    "\n",
    "    return list(visitados)"
   ]
  },
  {
   "cell_type": "code",
   "execution_count": 30,
   "metadata": {},
   "outputs": [
    {
     "name": "stdout",
     "output_type": "stream",
     "text": [
      "0\n",
      "1\n",
      "5\n",
      "2\n",
      "3\n",
      "7\n",
      "4\n",
      "6\n"
     ]
    },
    {
     "data": {
      "text/plain": [
       "[0, 1, 2, 3, 4, 5, 6, 7]"
      ]
     },
     "execution_count": 30,
     "metadata": {},
     "output_type": "execute_result"
    }
   ],
   "source": [
    "dfs_recur(lista_adyacencia, 0)"
   ]
  },
  {
   "cell_type": "markdown",
   "metadata": {},
   "source": [
    "## Guardado del recorrido"
   ]
  },
  {
   "cell_type": "markdown",
   "metadata": {},
   "source": [
    "Pueden haber momentos donde nos interesen los nodos entremedio de un nodo inicial y un nodo final. "
   ]
  },
  {
   "cell_type": "code",
   "execution_count": 42,
   "metadata": {},
   "outputs": [],
   "source": [
    "from collections import deque\n",
    "\n",
    "# modificacion ligera\n",
    "def bfs_camino_recorrido(grafo: Grafo, inicio: Nodo, final: Nodo):\n",
    "    \"\"\"\n",
    "    Implementacion para un grafo representado como lista de adyacencia\n",
    "    \"\"\"\n",
    "\n",
    "    # lista de los nodos ya visitados, esto es necesario para evitar que caigamos el loops en el grafo\n",
    "    visitados = set()\n",
    "\n",
    "    # incluimos una tupla que guarda lo que se ja recorrido\n",
    "    queue = deque([(inicio, (inicio, ))]) # recordar que el queue es FIFO\n",
    "\n",
    "    # mientras queden elementos en el queue, seguiremos recorriendo\n",
    "    while len(queue) > 0:\n",
    "        # elegimos el nodo a visitar\n",
    "        # pero ademas lo que se recorrio para llegar a ese punto\n",
    "        nodo, camino_recorrido = queue.popleft() \n",
    "\n",
    "        if nodo == final:\n",
    "            return camino_recorrido\n",
    "        \n",
    "        # ahora agregamos los vecinos del nodo al queue\n",
    "        for vecino in grafo[nodo]:\n",
    "            if vecino not in visitados:\n",
    "                visitados.add(vecino)\n",
    "                # anadimos el vecino al queue y al camino recorrido\n",
    "                queue.append((vecino, camino_recorrido + (vecino, )))\n",
    "\n",
    "    return () # recorrido final\n"
   ]
  },
  {
   "cell_type": "code",
   "execution_count": 43,
   "metadata": {},
   "outputs": [
    {
     "name": "stdout",
     "output_type": "stream",
     "text": [
      "Para ir desde Calle1 a Calle1 debes hacer los siguientes pasos: Calle1\n",
      "Para ir desde Calle2 a Calle3 debes hacer los siguientes pasos: Calle2 > Calle5 > Calle3\n",
      "Para ir desde Calle6 a Calle2 debes hacer los siguientes pasos: Calle6 > Calle1 > Calle2\n",
      "No es posible ir desde Calle2 a Calle6\n",
      "Para ir desde Calle7 a Calle4 debes hacer los siguientes pasos: Calle7 > Calle1 > Calle5 > Calle3 > Calle4\n"
     ]
    }
   ],
   "source": [
    "grafo = {\n",
    "    \"Calle1\": [\"Calle2\", \"Calle5\"],\n",
    "    \"Calle2\": [\"Calle1\", \"Calle5\"],\n",
    "    \"Calle3\": [\"Calle4\", \"Calle5\"],\n",
    "    \"Calle4\": [\"Calle1\"],\n",
    "    \"Calle5\": [\"Calle1\", \"Calle3\", \"Calle5\"],\n",
    "    \"Calle6\": [\"Calle1\", \"Calle3\"],\n",
    "    \"Calle7\": [\"Calle1\"]\n",
    "}\n",
    "\n",
    "preguntas_recorrido = [\n",
    "    ('Calle1', 'Calle1'),\n",
    "    ('Calle2', 'Calle3'),\n",
    "    ('Calle6', 'Calle2'),\n",
    "    ('Calle2', 'Calle6'),\n",
    "    ('Calle7', 'Calle4')\n",
    "]\n",
    "for inicio, fin in preguntas_recorrido:\n",
    "    camino = bfs_camino_recorrido(grafo, inicio, fin)\n",
    "    if len(camino):\n",
    "        print(f\"Para ir desde {inicio} a {fin} debes hacer los siguientes pasos: {' > '.join(camino)}\")\n",
    "    else:\n",
    "        print(f\"No es posible ir desde {inicio} a {fin}\")\n"
   ]
  }
 ],
 "metadata": {
  "kernelspec": {
   "display_name": "Python 3",
   "language": "python",
   "name": "python3"
  },
  "language_info": {
   "codemirror_mode": {
    "name": "ipython",
    "version": 3
   },
   "file_extension": ".py",
   "mimetype": "text/x-python",
   "name": "python",
   "nbconvert_exporter": "python",
   "pygments_lexer": "ipython3",
   "version": "3.10.12"
  }
 },
 "nbformat": 4,
 "nbformat_minor": 2
}
