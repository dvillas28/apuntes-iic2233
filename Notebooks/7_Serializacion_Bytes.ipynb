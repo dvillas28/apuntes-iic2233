{
 "cells": [
  {
   "cell_type": "markdown",
   "metadata": {},
   "source": [
    "# 1. Serializacion"
   ]
  },
  {
   "cell_type": "markdown",
   "metadata": {},
   "source": [
    "- Procedimiento de transformar un objeto en una secuencia de *bytes*\n",
    "- Util para almacenar el estado del objeto en un archivo o ser enviado a otros lados"
   ]
  },
  {
   "cell_type": "markdown",
   "metadata": {},
   "source": [
    "## `pickle`"
   ]
  },
  {
   "cell_type": "markdown",
   "metadata": {},
   "source": [
    "Modulo para guardar y cargar objetos\n",
    "- `dumps`: Serializa -> Guarda un objeto\n",
    "- `loads`: Deserializa (un objeto serializado) -> Carga un objeto a su estado original (se crea uno nuevo **identico pero internamente** distinto al original). Hace una copia"
   ]
  },
  {
   "cell_type": "code",
   "execution_count": 8,
   "metadata": {},
   "outputs": [
    {
     "name": "stdout",
     "output_type": "stream",
     "text": [
      "Tupla serializada: b'\\x80\\x04\\x95\\x16\\x00\\x00\\x00\\x00\\x00\\x00\\x00(K\\x01K\\x02K\\x03K\\x04K\\x05K\\x06K\\x07K\\x08K\\tt\\x94.'\n",
      "Tipo de la serializacion: <class 'bytes'>\n",
      "\n",
      "Tupla deserializada: (1, 2, 3, 4, 5, 6, 7, 8, 9)\n",
      "Tupla original: (1, 2, 3, 4, 5, 6, 7, 8, 9)\n",
      "\n",
      "¿Son iguales entre si?: True\n",
      "¿Son el mismo objeto?: False\n"
     ]
    }
   ],
   "source": [
    "import pickle\n",
    "\n",
    "# tupla_names = ('Daniel', 'Walter', 'Paola', 2, 'Tintin')\n",
    "tupla = (1, 2, 3, 4, 5, 6, 7, 8, 9)\n",
    "tupla_serializada = pickle.dumps(tupla)\n",
    "\n",
    "print(f'Tupla serializada: {tupla_serializada}')\n",
    "print(f'Tipo de la serializacion: {type(tupla_serializada)}')\n",
    "\n",
    "print()\n",
    "\n",
    "tupla_deserializada = pickle.loads(tupla_serializada)\n",
    "print(f'Tupla deserializada: {tupla_deserializada}')\n",
    "print(f'Tupla original: {tupla}')\n",
    "\n",
    "print()\n",
    "\n",
    "print(f'¿Son iguales entre si?: {tupla == tupla_deserializada}') # son iguales\n",
    "print(f'¿Son el mismo objeto?: {tupla is tupla_deserializada}') # no son el mismo objeto"
   ]
  },
  {
   "cell_type": "markdown",
   "metadata": {},
   "source": [
    "### Serializacion de archivos\n",
    "- `dump(<objeto>, <file>)`: serializa un archivo\n",
    "- `load`: deserializa un arhivo serializado, se crea un nuevo objeto **distinto al original**. No seguro cargar archivos a traves de este modulo"
   ]
  },
  {
   "cell_type": "markdown",
   "metadata": {},
   "source": [
    "- se especifia si se van a escribit bytes (`wb`) o leer bytes (`rb`)"
   ]
  },
  {
   "cell_type": "code",
   "execution_count": 18,
   "metadata": {},
   "outputs": [
    {
     "name": "stdout",
     "output_type": "stream",
     "text": [
      "Lista og: [1, 2, 3, 4, 5]\n",
      "Lista deserializada: [1, 2, 3, 4, 5]\n",
      "¿Son iguales?: True\n",
      "¿Son el mismo objeto? False\n"
     ]
    }
   ],
   "source": [
    "from os import path\n",
    "\n",
    "# creamos una lista que sera almacenada en un archivo\n",
    "\n",
    "lista = [1, 2, 3, 4, 5]\n",
    "\n",
    "# se crea el archivo 'mi_lista.bin'\n",
    "with open(path.join('mi_lista.bin'), 'wb') as arch:\n",
    "    pickle.dump(lista, arch)\n",
    "\n",
    "\n",
    "with open(path.join('mi_lista.bin'), 'rb') as arch:\n",
    "    lista_cargada = pickle.load(arch)\n",
    "\n",
    "print(f'Lista og: {lista}')\n",
    "print(f'Lista deserializada: {lista_cargada}')\n",
    "print(f'¿Son iguales?: {lista_cargada == lista}')\n",
    "print(f'¿Son el mismo objeto? {lista_cargada is lista}')"
   ]
  },
  {
   "cell_type": "markdown",
   "metadata": {},
   "source": [
    "### Personalizar serializacion - Metodo `__getstate__`"
   ]
  },
  {
   "cell_type": "markdown",
   "metadata": {},
   "source": [
    "Cuando se serializa un objeto `pickle` busca que este implementado el metodo `__getstate__`.\n",
    "\n",
    "- Debe retornar un diccionario con los atributos a serializar\n",
    "\n",
    "- Si **no** esta implementado: por defecto `pickle` guarda el atributo `__dict__` del objeto (diccionario que guarda todos los metodos y atributos de un objeto)"
   ]
  },
  {
   "cell_type": "code",
   "execution_count": 28,
   "metadata": {},
   "outputs": [
    {
     "name": "stdout",
     "output_type": "stream",
     "text": [
      "{'__module__': '__main__', '__init__': <function Perro.__init__ at 0x7f5738ebb9a0>, '__getstate__': <function Perro.__getstate__ at 0x7f5738ebb910>, 'ladrar': <function Perro.ladrar at 0x7f5738ebb7f0>, '__dict__': <attribute '__dict__' of 'Perro' objects>, '__weakref__': <attribute '__weakref__' of 'Perro' objects>, '__doc__': None}\n"
     ]
    }
   ],
   "source": [
    "class Perro:\n",
    "\n",
    "    def __init__(self, nombre, raza) -> None:\n",
    "        self.nombre = nombre\n",
    "        self.raza = raza\n",
    "        self.mensaje = \"Atributo normal\"\n",
    "\n",
    "    # implementamos __getitem__\n",
    "\n",
    "    def __getstate__(self):\n",
    "\n",
    "        # copiamos el diccionario de metodos y atributos\n",
    "        nuevo = self.__dict__.copy()\n",
    "\n",
    "        # modificamos uno de los atributos para la serializacion\n",
    "        nuevo.update({\"mensaje\": \"Atributo serializado\"})\n",
    "\n",
    "        # lo que se retorna es el resultado de la serializion\n",
    "        return nuevo\n",
    "    \n",
    "    def ladrar(self):\n",
    "        print('guau')\n",
    "\n",
    "print(Perro.__dict__)"
   ]
  },
  {
   "cell_type": "code",
   "execution_count": 29,
   "metadata": {},
   "outputs": [
    {
     "name": "stdout",
     "output_type": "stream",
     "text": [
      "{'nombre': 'TinTin', 'raza': 'Caniche', 'mensaje': 'Atributo normal'}\n",
      "Original: Atributo normal\n",
      "\n",
      "Comprobacion Resultados:\n",
      "Mensaje original: Atributo normal\n",
      "Mensaje deserializado: Atributo serializado\n"
     ]
    }
   ],
   "source": [
    "perro = Perro('TinTin', 'Caniche')\n",
    "print(perro.__dict__)\n",
    "\n",
    "print(f'Original: {perro.mensaje}')\n",
    "\n",
    "# serializamos y deserializamos\n",
    "\n",
    "perro_ser = pickle.dumps(perro)\n",
    "perro_deser = pickle.loads(perro_ser)\n",
    "\n",
    "print('\\nComprobacion Resultados:')\n",
    "print(f'Mensaje original: {perro.mensaje}') # el perro sigue igual\n",
    "print(f'Mensaje deserializado: {perro_deser.mensaje}')"
   ]
  },
  {
   "cell_type": "markdown",
   "metadata": {},
   "source": [
    "### Personalizar deserializacion - Metodo `__setstate__`"
   ]
  },
  {
   "cell_type": "markdown",
   "metadata": {},
   "source": [
    "Al deserializar un objeto, `pickle` busca una implementacion del metodo `__setstate__`. Se recibe como argumento el diccionario que representa el estado del objeto que fue serializado\n",
    "- Si **no** esta implementado, se asigna el `__dict__` para la deserialiazcion sin realizar otras acciones"
   ]
  },
  {
   "cell_type": "code",
   "execution_count": 32,
   "metadata": {},
   "outputs": [],
   "source": [
    "class Perro:\n",
    "\n",
    "    def __init__(self, nombre, raza) -> None:\n",
    "        self.nombre = nombre\n",
    "        self.raza = raza\n",
    "        self.mensaje = \"Atributo normal\"\n",
    "\n",
    "    # implementamos __getstate__\n",
    "\n",
    "    def __getstate__(self):\n",
    "\n",
    "        # copiamos el diccionario de metodos y atributos\n",
    "        nuevo = self.__dict__.copy()\n",
    "\n",
    "        # modificamos uno de los atributos para la serializacion\n",
    "        nuevo.update({\"mensaje\": \"Atributo serializado\"})\n",
    "\n",
    "        # lo que se retorna es el resultado de la serializion\n",
    "        return nuevo\n",
    "    \n",
    "    # implementamos __setstate__\n",
    "    def __setstate__(self, state):\n",
    "        # implementamos modificaciones\n",
    "        print('DESERIALIZANDO OBJETO')\n",
    "\n",
    "        # modificamos un atributo\n",
    "        state.update({\"mensaje\": \"atributo deserializado\"})\n",
    "\n",
    "        # modificamos el nombre\n",
    "        state.update({\"nombre\": \"Oddie\"})\n",
    "\n",
    "        # asignamos el dict al nuevo estado deserializado\n",
    "        self.__dict__ = state\n",
    "    \n",
    "    def ladrar(self):\n",
    "        print('guau')"
   ]
  },
  {
   "cell_type": "code",
   "execution_count": 38,
   "metadata": {},
   "outputs": [
    {
     "name": "stdout",
     "output_type": "stream",
     "text": [
      "{'nombre': 'TinTin', 'raza': 'Caniche', 'mensaje': 'Atributo normal'}\n",
      "Original: Atributo normal\n",
      "DESERIALIZANDO OBJETO\n",
      "\n",
      "Comprobacion Resultados:\n",
      "Mensaje original: Atributo normal\n",
      "Mensaje deserializado: atributo deserializado\n",
      "Cambio de nombre: Oddie\n",
      "¿Son iguales? False\n",
      "¿Son el mismo objeto? False\n"
     ]
    }
   ],
   "source": [
    "perro = Perro('TinTin', 'Caniche')\n",
    "print(perro.__dict__)\n",
    "\n",
    "print(f'Original: {perro.mensaje}')\n",
    "\n",
    "# serializamos y deserializamos\n",
    "\n",
    "perro_ser = pickle.dumps(perro)\n",
    "perro_deser = pickle.loads(perro_ser)\n",
    "\n",
    "print('\\nComprobacion Resultados:')\n",
    "print(f'Mensaje original: {perro.mensaje}') # el perro sigue igual\n",
    "print(f'Mensaje deserializado: {perro_deser.mensaje}')\n",
    "\n",
    "print(f'Cambio de nombre: {perro_deser.nombre}')\n",
    "\n",
    "print(f'¿Son iguales? {perro == perro_deser}') # no son identicos, son objetos !=\n",
    "print(f'¿Son el mismo objeto? {perro is perro_deser}') "
   ]
  },
  {
   "cell_type": "code",
   "execution_count": 43,
   "metadata": {},
   "outputs": [
    {
     "name": "stdout",
     "output_type": "stream",
     "text": [
      "<class '__main__.Perro'>\n"
     ]
    }
   ],
   "source": [
    "print(type(perro_deser)) # la deserializacion lo transforma de nuevo a objeto"
   ]
  },
  {
   "cell_type": "markdown",
   "metadata": {},
   "source": [
    "`__getstate__` y `__setstate__` son utiles cuando se quiere serializar un objeto, pero que contiene un atributo variable a medida que se ejecuta el codigo (depende de las condiciones actuales del programa)\n",
    "\n",
    "- En ese caso al realizar la serializacion podriamos resetear valores de ciertas variables a un estado predeterminado\n"
   ]
  },
  {
   "cell_type": "markdown",
   "metadata": {},
   "source": [
    "## JSON"
   ]
  },
  {
   "cell_type": "markdown",
   "metadata": {},
   "source": [
    "- Formato de texto estandar de intercambio de datos, interpretado por muchso lenguajes\n",
    "- Es *human-readable*"
   ]
  },
  {
   "cell_type": "markdown",
   "metadata": {},
   "source": [
    "- Por defecto serializa instancias de `int`, `str`, `float`, `dict`, `bool`, `list`, `tuple` y `NoneType`\n",
    "- Para funciones e instancias de cases es necesario personalizar"
   ]
  },
  {
   "cell_type": "markdown",
   "metadata": {},
   "source": [
    "### Modulo `json`\n",
    "\n",
    "- Contiene los metodos `dump`(`s`) y `load`(`s`), igual que `pickle`"
   ]
  },
  {
   "cell_type": "code",
   "execution_count": 71,
   "metadata": {},
   "outputs": [],
   "source": [
    "import json\n",
    "from itertools import count\n",
    "\n",
    "class Gato():\n",
    "    id = count() # para mantener un contador\n",
    "\n",
    "    def __init__(self, nombre, edad, raza):\n",
    "        self.nombre = nombre\n",
    "        self.edad = edad\n",
    "        self.raza = raza\n",
    "        self.id_ = next(self.id)"
   ]
  },
  {
   "cell_type": "code",
   "execution_count": 77,
   "metadata": {},
   "outputs": [
    {
     "name": "stdout",
     "output_type": "stream",
     "text": [
      "En formato JSON, tipo: <class 'str'> -> {\"nombre\": \"Garfield\", \"edad\": 4, \"raza\": \"Persa\", \"id_\": 5}\n",
      "\n",
      "En formato Python, tipo: <class 'dict'> -> {'nombre': 'Garfield', 'edad': 4, 'raza': 'Persa', 'id_': 5}\n"
     ]
    }
   ],
   "source": [
    "gato = Gato(\"Garfield\", 4, \"Persa\")\n",
    "\n",
    "# lo serializamos como json\n",
    "gato_json_string = json.dumps(gato.__dict__)\n",
    "\n",
    "print(f'En formato JSON, tipo: {type(gato_json_string)} -> {gato_json_string}')\n",
    "\n",
    "print()\n",
    "\n",
    "# lo deserializamos\n",
    "gato_json_deserializado = json.loads(gato_json_string)\n",
    "print(f'En formato Python, tipo: {type(gato_json_deserializado)} -> {gato_json_deserializado}')\n",
    "\n",
    "# notamos que el formato es muy similar, pero el tipo es distinto\n"
   ]
  },
  {
   "cell_type": "markdown",
   "metadata": {},
   "source": [
    "### Personalizar serializacion en JSON - Clase `json.JSONEncoder`"
   ]
  },
  {
   "cell_type": "markdown",
   "metadata": {},
   "source": [
    "- Para serializar objetos\n",
    "- Definimos una clase que herede de `json.JSONEncoder` y hacerle *overriding* al metodo `default`. Similar al metodo `__getstate__`"
   ]
  },
  {
   "cell_type": "code",
   "execution_count": 84,
   "metadata": {},
   "outputs": [],
   "source": [
    "from itertools import count\n",
    "import json\n",
    "\n",
    "\n",
    "class Persona:\n",
    "    id = count()\n",
    "\n",
    "    def __init__(self, nombre, edad, estado_civil):\n",
    "        self.nombre = nombre\n",
    "        self.edad = edad\n",
    "        self.estado_civil = estado_civil\n",
    "        self.id_ = next(self.id)\n"
   ]
  },
  {
   "cell_type": "code",
   "execution_count": 85,
   "metadata": {},
   "outputs": [],
   "source": [
    "from datetime import datetime\n",
    "\n",
    "class PersonaEncoder(json.JSONEncoder):\n",
    "\n",
    "    # efectuamos el overriding\n",
    "    def default(self, object):\n",
    "        \"\"\"Efectuamos una serializacion personalizada\"\"\"\n",
    "\n",
    "        if isinstance(object, Persona):\n",
    "            return {\n",
    "                \"Persona_id\": object.id_,\n",
    "                \"nombre\": object.nombre,\n",
    "                \"edad\": object.edad,\n",
    "                \"estado_civil\": object.estado_civil,\n",
    "                \"ano_nacimiento\": datetime.now().year - object.edad,\n",
    "            }\n",
    "        \n",
    "        # en caso de no ser una instancia, mantenemos la serializacion por defecto\n",
    "        return super().default(object)"
   ]
  },
  {
   "cell_type": "code",
   "execution_count": 86,
   "metadata": {},
   "outputs": [
    {
     "name": "stdout",
     "output_type": "stream",
     "text": [
      "{\"nombre\": \"Juan\", \"edad\": 21, \"estado_civil\": \"soltero\", \"id_\": 0}\n"
     ]
    }
   ],
   "source": [
    "p1 = Persona(\"Juan\", 21, 'soltero')\n",
    "\n",
    "# serializamos de con el metodo por defecto\n",
    "json_string = json.dumps(p1.__dict__)\n",
    "print(json_string)"
   ]
  },
  {
   "cell_type": "code",
   "execution_count": 87,
   "metadata": {},
   "outputs": [
    {
     "name": "stdout",
     "output_type": "stream",
     "text": [
      "{\"Persona_id\": 0, \"nombre\": \"Juan\", \"edad\": 21, \"estado_civil\": \"soltero\", \"ano_nacimiento\": 2002}\n"
     ]
    }
   ],
   "source": [
    "# serializacion con nuestra nueva clase\n",
    "json_string2 = json.dumps(p1, cls=PersonaEncoder)\n",
    "print(json_string2)"
   ]
  },
  {
   "cell_type": "markdown",
   "metadata": {},
   "source": [
    "### Personalizar deserializacion en JSON - Metodo `object_hook`"
   ]
  },
  {
   "cell_type": "markdown",
   "metadata": {},
   "source": [
    "- analogo a `__setstate__`\n",
    "- `object_hook` parametro de el/los metodo/s `load`(`s`), se espera una funcion que maneje un diccionario y retorna un objeto de Python\n",
    "\n",
    "- Todo objeto JSON **es convertido en diccionario de python primero** y luego pasado a funcion argumento de `object_hook` que hara la tranformacion final"
   ]
  },
  {
   "cell_type": "code",
   "execution_count": 89,
   "metadata": {},
   "outputs": [
    {
     "name": "stdout",
     "output_type": "stream",
     "text": [
      "[('nombre', 'Jorge'), ('edad', 34), ('estado_civil', 'casado'), ('puntaje', 90.5)]\n",
      "<class 'list'>\n"
     ]
    }
   ],
   "source": [
    "def funcion_hook(diccionario):\n",
    "    return [(key, value) for key, value in diccionario.items()]\n",
    "\n",
    "\n",
    "# un string en formato json \n",
    "json_string = '{\"nombre\": \"Jorge\", \"edad\": 34, \"estado_civil\": \"casado\", \"puntaje\": 90.5}'\n",
    "\n",
    "# lo deserializamos, el resultado en una lista de Python\n",
    "datos = json.loads(json_string, object_hook=funcion_hook)\n",
    "\n",
    "print(datos)\n",
    "\n",
    "print(type(datos))"
   ]
  },
  {
   "cell_type": "markdown",
   "metadata": {},
   "source": [
    "- En object_hook podemos pasar datos (que representan una instancia de una clase) para transformarlos en una clase, por ejemplo"
   ]
  },
  {
   "cell_type": "code",
   "execution_count": 93,
   "metadata": {},
   "outputs": [
    {
     "name": "stdout",
     "output_type": "stream",
     "text": [
      "<__main__.Persona object at 0x7f5748294d30>\n"
     ]
    }
   ],
   "source": [
    "def funcion_hook2(dicc):\n",
    "    nombre = dicc[\"nombre\"]\n",
    "    edad = dicc[\"edad\"]\n",
    "    estado_civil = dicc[\"estado_civil\"]\n",
    "\n",
    "    return Persona(nombre, edad, estado_civil)\n",
    "\n",
    "# string en formato JSON que representa los atributos de una instancia de Persona\n",
    "json_string2 = '{\"nombre\": \"Jorge\", \"edad\": 34, \"estado_civil\": \"casado\"}'\n",
    "\n",
    "persona_deserializada = json.loads(json_string2, object_hook=funcion_hook2)\n",
    "\n",
    "print(persona_deserializada) # terminamos con un objeto Persona\n"
   ]
  },
  {
   "cell_type": "markdown",
   "metadata": {},
   "source": [
    "### JSON solo deja encerrar *string* con *double quotes* (`\"\"`)"
   ]
  },
  {
   "cell_type": "markdown",
   "metadata": {},
   "source": [
    "Las *single quotes* (`'`) de Python no son valida en JSON, se deben transformar en *double quotes* (`\"`) \n",
    "\n",
    "Teniendo un diccionario en python, para pasarlo a un string valido JSON se debe hacer\n",
    "```python\n",
    "json_str = str(py_dict).replace(\"\\'\", \"\\\"\")\n",
    "\n",
    "```\n",
    "\n",
    "- desventaja: puede ocurrir que existan datos que contengan una ', esta sera reemplazada por una \""
   ]
  },
  {
   "cell_type": "markdown",
   "metadata": {},
   "source": [
    "# 2. Manejo de Bytes"
   ]
  },
  {
   "cell_type": "markdown",
   "metadata": {},
   "source": [
    "## Bytes y Encoding"
   ]
  },
  {
   "cell_type": "markdown",
   "metadata": {},
   "source": [
    "- **Byte**: secuencia de 8 bits\n",
    "- **Bit**: 0 o 1\n",
    "- Los computadores almacenan numeros en formado de Bytes\n",
    "- Para todas las combinaciones entre 0 y 1 en 8 bits, tenemos 2^8 = 256, por lo que con 1 Byte podemos almacenar **un numero en el rango de [0-255]**"
   ]
  },
  {
   "cell_type": "markdown",
   "metadata": {},
   "source": [
    "**Encoding**: acto de asociar un byte a una lera e interpretar al byte como tal"
   ]
  },
  {
   "cell_type": "markdown",
   "metadata": {},
   "source": [
    "### Sistema decimal - `chr()` , `ord()`"
   ]
  },
  {
   "cell_type": "code",
   "execution_count": 9,
   "metadata": {},
   "outputs": [
    {
     "name": "stdout",
     "output_type": "stream",
     "text": [
      "A, B, C, D, E, F, G, H, I, J, K, L, M, N, O, P, Q, R, S, T, U, V, W, X, Y, Z, "
     ]
    }
   ],
   "source": [
    "# chr(), pasa de el byte en codigo decimal a el caracter correspondiente\n",
    "\n",
    "for i in range(65, 91):\n",
    "    print(chr(i), end=', ')"
   ]
  },
  {
   "cell_type": "markdown",
   "metadata": {},
   "source": [
    "- `ord(char)` cumple la funcion contraria\n",
    "```python\n",
    "ord('B') -> 66\n",
    "```"
   ]
  },
  {
   "cell_type": "markdown",
   "metadata": {},
   "source": [
    "### Sistema Hexadecimal - `hex()`"
   ]
  },
  {
   "cell_type": "markdown",
   "metadata": {},
   "source": [
    "- Base 16, se usan los digitos 0, 1, 2, 3, 4, 5, 6, 7, 8, 9, A, B, C, D, E, F, que representan los valores del 0 al 15\n",
    "\n",
    "- Para representalos se antepone un `0x`\n",
    "\n",
    "- `hex()` nos permite obtener la repr hexadecimal de un numero"
   ]
  },
  {
   "cell_type": "code",
   "execution_count": 10,
   "metadata": {},
   "outputs": [
    {
     "name": "stdout",
     "output_type": "stream",
     "text": [
      "0x0, 0x1, 0x2, 0x3, 0x4, 0x5, 0x6, 0x7, 0x8, 0x9, 0xa, 0xb, 0xc, 0xd, 0xe, 0xf, Decimal: 0, Hexadecimal: 0x0\n",
      "Decimal: 1, Hexadecimal: 0x1\n",
      "Decimal: 2, Hexadecimal: 0x2\n",
      "Decimal: 3, Hexadecimal: 0x3\n",
      "Decimal: 4, Hexadecimal: 0x4\n",
      "Decimal: 5, Hexadecimal: 0x5\n",
      "Decimal: 6, Hexadecimal: 0x6\n",
      "Decimal: 7, Hexadecimal: 0x7\n",
      "Decimal: 8, Hexadecimal: 0x8\n",
      "Decimal: 9, Hexadecimal: 0x9\n",
      "Decimal: 10, Hexadecimal: 0xa\n",
      "Decimal: 11, Hexadecimal: 0xb\n",
      "Decimal: 12, Hexadecimal: 0xc\n",
      "Decimal: 13, Hexadecimal: 0xd\n",
      "Decimal: 14, Hexadecimal: 0xe\n",
      "Decimal: 15, Hexadecimal: 0xf\n"
     ]
    }
   ],
   "source": [
    "# Los primeros 16 digitos\n",
    "for i in range(0, 16):\n",
    "    print(hex(i), end=', ')\n",
    "\n",
    "for i in range(0, 16):\n",
    "    print(f'Decimal: {i}, Hexadecimal: {hex(i)}')"
   ]
  },
  {
   "cell_type": "markdown",
   "metadata": {},
   "source": [
    "## objeto `bytes`"
   ]
  },
  {
   "cell_type": "markdown",
   "metadata": {},
   "source": [
    "- Secuencia **inmutable como los ``str``**\n",
    "- se declaran con `b\"secuencia\"`\n",
    "- Solo podemos usar literales ascii (127 bytes) para la creacion de secuencias de bytes\n",
    "\n",
    "- los encodea en utf-8"
   ]
  },
  {
   "cell_type": "code",
   "execution_count": 59,
   "metadata": {},
   "outputs": [
    {
     "data": {
      "text/plain": [
       "bytes"
      ]
     },
     "execution_count": 59,
     "metadata": {},
     "output_type": "execute_result"
    }
   ],
   "source": [
    "type(b'hola')"
   ]
  },
  {
   "cell_type": "code",
   "execution_count": 20,
   "metadata": {},
   "outputs": [],
   "source": [
    "def imprimir_secuencia_bytes(secuencia: bytes):\n",
    "    print(secuencia)\n",
    "    print(type(secuencia))"
   ]
  },
  {
   "cell_type": "code",
   "execution_count": 21,
   "metadata": {},
   "outputs": [
    {
     "name": "stdout",
     "output_type": "stream",
     "text": [
      "b'hola'\n",
      "<class 'bytes'>\n"
     ]
    }
   ],
   "source": [
    "caracteres = b\"\\x68\\x6f\\x6c\\x61\"\n",
    "imprimir_secuencia_bytes(caracteres)"
   ]
  },
  {
   "cell_type": "markdown",
   "metadata": {},
   "source": [
    "- simbolo escape `\\x`, indica que los proximos dos caracteres inmediatos representan a un byte en formado ,hexadecimal.  `\\x65` es un byte que representa a A\n",
    "\n",
    "- simbolos que no son reconocidos como ascii, se imprimen como hex"
   ]
  },
  {
   "cell_type": "code",
   "execution_count": 24,
   "metadata": {},
   "outputs": [
    {
     "name": "stdout",
     "output_type": "stream",
     "text": [
      "b'clich\\xe9'\n",
      "<class 'bytes'>\n"
     ]
    }
   ],
   "source": [
    "# cliché\n",
    "\n",
    "caracs = b\"\\x63\\x6c\\x69\\x63\\x68\\xe9\"\n",
    "imprimir_secuencia_bytes(caracs)\n",
    "\n",
    "# xe9 = é, no reconocido como ascii"
   ]
  },
  {
   "cell_type": "markdown",
   "metadata": {},
   "source": [
    "### Ejemplo:\n",
    "A\n",
    "- Decimal: 65\n",
    "- Hexadecimal: 0x41"
   ]
  },
  {
   "cell_type": "code",
   "execution_count": 32,
   "metadata": {},
   "outputs": [
    {
     "name": "stdout",
     "output_type": "stream",
     "text": [
      "0x41\n",
      "b'A'\n",
      "<class 'bytes'>\n"
     ]
    }
   ],
   "source": [
    "print(hex(65)) # A en hexadecimal\n",
    "imprimir_secuencia_bytes(b\"\\x41\") "
   ]
  },
  {
   "cell_type": "markdown",
   "metadata": {},
   "source": [
    "### Decodificacion\n",
    "Se debe conocer bajo que codificacion fue codificado una serie de bytes. Estos pueden significar distintos simbolos en distintos formatos"
   ]
  },
  {
   "cell_type": "markdown",
   "metadata": {},
   "source": [
    "- usamos `.decode(<formato_codificacion>)`"
   ]
  },
  {
   "cell_type": "code",
   "execution_count": 26,
   "metadata": {},
   "outputs": [
    {
     "name": "stdout",
     "output_type": "stream",
     "text": [
      "cliché\n"
     ]
    }
   ],
   "source": [
    "# cliché\n",
    "caracs = b\"\\x63\\x6c\\x69\\x63\\x68\\xe9\"\n",
    "print(caracs.decode('latin-1'))\n",
    "# latin-1 reconoce a xe9 como 'é'"
   ]
  },
  {
   "cell_type": "code",
   "execution_count": 34,
   "metadata": {},
   "outputs": [
    {
     "name": "stdout",
     "output_type": "stream",
     "text": [
      "cliché\n",
      "clichщ\n",
      "clichΘ\n",
      "汣捩\n"
     ]
    }
   ],
   "source": [
    "# Usando distintos formatos\n",
    "print(caracs.decode('latin-1'))\n",
    "print(caracs.decode('iso8859-5'))\n",
    "print(caracs.decode('CP437'))\n",
    "print(caracs.decode('utf-16'))"
   ]
  },
  {
   "cell_type": "markdown",
   "metadata": {},
   "source": [
    "#### Ejemplo. A y B en Decimal y Hexadecimal"
   ]
  },
  {
   "cell_type": "code",
   "execution_count": 47,
   "metadata": {},
   "outputs": [
    {
     "name": "stdout",
     "output_type": "stream",
     "text": [
      "b'AB'\n",
      "65 y 66 en Ascii: AB\n",
      "65 y 66 en utf-8: AB\n",
      "65 y 66 en utf-16: 䉁\n"
     ]
    }
   ],
   "source": [
    "# tambien podemos crear secuencias de bytes usando\n",
    "# numeros decimales\n",
    "\n",
    "A_y_B = bytes((65, 66))\n",
    "print(A_y_B)\n",
    "\n",
    "# decodicamos estos dos bytes en su formato ascii\n",
    "print(f'65 y 66 en Ascii: {A_y_B.decode(\"ascii\")}')\n",
    "\n",
    "# utf-8 es retrocompatible con ascii\n",
    "print(f'65 y 66 en utf-8: {A_y_B.decode(\"utf-8\")}')\n",
    "\n",
    "# en uft-16 65 y 66 son cualquier otra cosa\n",
    "print(f'65 y 66 en utf-16: {A_y_B.decode(\"utf-16\")}')"
   ]
  },
  {
   "cell_type": "code",
   "execution_count": 42,
   "metadata": {},
   "outputs": [
    {
     "name": "stdout",
     "output_type": "stream",
     "text": [
      "0x41 0x42\n",
      "AB\n",
      "AB\n",
      "䉁\n"
     ]
    }
   ],
   "source": [
    "# Mismo ejemplo usando hexadecimales\n",
    "print(hex(65), hex(66))\n",
    "A_y_B2 = b\"\\x41\\x42\"\n",
    "\n",
    "print(A_y_B.decode('ascii'))\n",
    "\n",
    "print(A_y_B.decode('utf-8'))\n",
    "\n",
    "print(A_y_B.decode('utf-16'))"
   ]
  },
  {
   "cell_type": "markdown",
   "metadata": {},
   "source": [
    "### Codificacion"
   ]
  },
  {
   "cell_type": "markdown",
   "metadata": {},
   "source": [
    "- Para codificar un *string*, se usa el metodo `encode`"
   ]
  },
  {
   "cell_type": "code",
   "execution_count": 50,
   "metadata": {},
   "outputs": [
    {
     "name": "stdout",
     "output_type": "stream",
     "text": [
      "b'hola'\n",
      "b'hola'\n",
      "b'\\xff\\xfeh\\x00o\\x00l\\x00a\\x00'\n"
     ]
    }
   ],
   "source": [
    "string = 'hola'\n",
    "\n",
    "print(string.encode('ascii'))\n",
    "print(string.encode('utf-8'))\n",
    "print(string.encode('utf-16'))"
   ]
  },
  {
   "cell_type": "markdown",
   "metadata": {},
   "source": [
    "Para string que contengan caracteres no dentro de los 127 de *ascii*, se imprimen como hexadecimal"
   ]
  },
  {
   "cell_type": "code",
   "execution_count": 52,
   "metadata": {},
   "outputs": [
    {
     "name": "stdout",
     "output_type": "stream",
     "text": [
      "b'cami\\xc3\\xb3n'\n"
     ]
    },
    {
     "ename": "UnicodeEncodeError",
     "evalue": "'ascii' codec can't encode character '\\xf3' in position 4: ordinal not in range(128)",
     "output_type": "error",
     "traceback": [
      "\u001b[0;31m---------------------------------------------------------------------------\u001b[0m",
      "\u001b[0;31mUnicodeEncodeError\u001b[0m                        Traceback (most recent call last)",
      "\u001b[1;32m/home/dvillas/progra/dvillas28-iic2233-2023-2/Contenidos/semana-07/apuntes_mios/apuntes_s7.ipynb Cell 67\u001b[0m line \u001b[0;36m5\n\u001b[1;32m      <a href='vscode-notebook-cell://wsl%2Bubuntu/home/dvillas/progra/dvillas28-iic2233-2023-2/Contenidos/semana-07/apuntes_mios/apuntes_s7.ipynb#Y142sdnNjb2RlLXJlbW90ZQ%3D%3D?line=1'>2</a>\u001b[0m \u001b[39mprint\u001b[39m(string2\u001b[39m.\u001b[39mencode(\u001b[39m'\u001b[39m\u001b[39mutf-8\u001b[39m\u001b[39m'\u001b[39m))\n\u001b[1;32m      <a href='vscode-notebook-cell://wsl%2Bubuntu/home/dvillas/progra/dvillas28-iic2233-2023-2/Contenidos/semana-07/apuntes_mios/apuntes_s7.ipynb#Y142sdnNjb2RlLXJlbW90ZQ%3D%3D?line=3'>4</a>\u001b[0m \u001b[39m# como ó no forma parte de ascii, codificar el string tira error\u001b[39;00m\n\u001b[0;32m----> <a href='vscode-notebook-cell://wsl%2Bubuntu/home/dvillas/progra/dvillas28-iic2233-2023-2/Contenidos/semana-07/apuntes_mios/apuntes_s7.ipynb#Y142sdnNjb2RlLXJlbW90ZQ%3D%3D?line=4'>5</a>\u001b[0m \u001b[39mprint\u001b[39m(string2\u001b[39m.\u001b[39;49mencode(\u001b[39m'\u001b[39;49m\u001b[39mascii\u001b[39;49m\u001b[39m'\u001b[39;49m))\n",
      "\u001b[0;31mUnicodeEncodeError\u001b[0m: 'ascii' codec can't encode character '\\xf3' in position 4: ordinal not in range(128)"
     ]
    }
   ],
   "source": [
    "string2 = 'camión'\n",
    "print(string2.encode('utf-8'))\n",
    "\n",
    "# como ó no forma parte de ascii, codificar el string tira error\n",
    "print(string2.encode('ascii'))"
   ]
  },
  {
   "cell_type": "markdown",
   "metadata": {},
   "source": [
    "El parametro `errors` nos permite manejar bytes no soportados por algun formato de codificacion\n",
    "\n",
    "1. `strict`: valor por defecto. Imprime el hex\n",
    "2. `replace`: reempplaza por un '?'\n",
    "3. `ignore`: no imprime al caracter\n",
    "4. `xmlcharrefreplace`: entidad xml que representa al caracter"
   ]
  },
  {
   "cell_type": "code",
   "execution_count": 55,
   "metadata": {},
   "outputs": [
    {
     "name": "stdout",
     "output_type": "stream",
     "text": [
      "b'camin'\n",
      "b'cami?n'\n",
      "b'cami&#243;n'\n"
     ]
    }
   ],
   "source": [
    "# 3 formas de codificar en ascii y lidiando con los elementos fuera de los 127\n",
    "\n",
    "print(string2.encode('ascii', errors='ignore'))\n",
    "print(string2.encode('ascii', errors='replace'))\n",
    "print(string2.encode('ascii', errors='xmlcharrefreplace'))"
   ]
  },
  {
   "cell_type": "markdown",
   "metadata": {},
   "source": [
    "**Nota**: para codificar strings, irse a la segura con UTF-8"
   ]
  },
  {
   "cell_type": "markdown",
   "metadata": {},
   "source": [
    "## Objeto `bytearray`"
   ]
  },
  {
   "cell_type": "markdown",
   "metadata": {},
   "source": [
    "- arreglos de `bytes` **mutables**\n",
    "- se pueden manipular igual que una lista\n",
    "- agregamos bytes con el metodo `extend()`"
   ]
  },
  {
   "cell_type": "markdown",
   "metadata": {},
   "source": [
    "![Alt text](imgs/8_bytearray.png)"
   ]
  },
  {
   "cell_type": "markdown",
   "metadata": {},
   "source": [
    "![Alt text](imgs/8_byterray2.png)"
   ]
  },
  {
   "cell_type": "code",
   "execution_count": 3,
   "metadata": {},
   "outputs": [
    {
     "name": "stdout",
     "output_type": "stream",
     "text": [
      "bytearray(b'helloworld')\n",
      "bytearray(b'world')\n"
     ]
    }
   ],
   "source": [
    "# se construye con un objeto de bytes inicial\n",
    "lista_bytes = bytearray(b\"helloworld\")\n",
    "print(lista_bytes)\n",
    "\n",
    "# slicing\n",
    "print(lista_bytes[5:10])"
   ]
  },
  {
   "cell_type": "code",
   "execution_count": 4,
   "metadata": {},
   "outputs": [
    {
     "name": "stdout",
     "output_type": "stream",
     "text": [
      "0x6d\n",
      "0x75\n",
      "0x6e\n",
      "0x64\n",
      "0x6f\n"
     ]
    }
   ],
   "source": [
    "mundo = 'mundo'\n",
    "for letra in mundo:\n",
    "    print(hex(ord(letra)))"
   ]
  },
  {
   "cell_type": "code",
   "execution_count": 5,
   "metadata": {},
   "outputs": [
    {
     "name": "stdout",
     "output_type": "stream",
     "text": [
      "b'mundo'\n",
      "bytearray(b'hellomundo')\n"
     ]
    }
   ],
   "source": [
    "# mutables\n",
    "# creamos otra secuencia de bytes y la reemplazamos\n",
    "mundo_bytes = b\"\\x6d\\x75\\x6e\\x64\\x6f\"\n",
    "print(mundo_bytes)\n",
    "\n",
    "lista_bytes[5:10] = mundo_bytes\n",
    "print(lista_bytes)"
   ]
  },
  {
   "cell_type": "code",
   "execution_count": 95,
   "metadata": {},
   "outputs": [
    {
     "name": "stdout",
     "output_type": "stream",
     "text": [
      "bytearray(b'hellomundopython')\n"
     ]
    }
   ],
   "source": [
    "# extensibles\n",
    "lista_bytes.extend(b\"python\")\n",
    "print(lista_bytes)"
   ]
  },
  {
   "cell_type": "code",
   "execution_count": 97,
   "metadata": {},
   "outputs": [
    {
     "name": "stdout",
     "output_type": "stream",
     "text": [
      "bytearray(b'hellomundopython\\x15\\x15')\n"
     ]
    }
   ],
   "source": [
    "lista_bytes.extend(b\"\\x15\") # 21 en dec\n",
    "print(lista_bytes)"
   ]
  },
  {
   "cell_type": "markdown",
   "metadata": {},
   "source": [
    "### `bin(byte)`\n",
    "- entrega una representacion binaria del byte"
   ]
  },
  {
   "cell_type": "code",
   "execution_count": 7,
   "metadata": {},
   "outputs": [
    {
     "name": "stdout",
     "output_type": "stream",
     "text": [
      "104 es <class 'int'>\n",
      "bytearray(b'h') es <class 'bytearray'>\n"
     ]
    },
    {
     "ename": "TypeError",
     "evalue": "'bytearray' object cannot be interpreted as an integer",
     "output_type": "error",
     "traceback": [
      "\u001b[0;31m---------------------------------------------------------------------------\u001b[0m",
      "\u001b[0;31mTypeError\u001b[0m                                 Traceback (most recent call last)",
      "\u001b[1;32m/home/dvillas/progra/dvillas28-iic2233-2023-2/Contenidos/semana-07/apuntes_mios/apuntes_s7.ipynb Cell 80\u001b[0m line \u001b[0;36m7\n\u001b[1;32m      <a href='vscode-notebook-cell://wsl%2Bubuntu/home/dvillas/progra/dvillas28-iic2233-2023-2/Contenidos/semana-07/apuntes_mios/apuntes_s7.ipynb#Y142sdnNjb2RlLXJlbW90ZQ%3D%3D?line=3'>4</a>\u001b[0m byte1 \u001b[39m=\u001b[39m lista_bytes[\u001b[39m0\u001b[39m:\u001b[39m1\u001b[39m]\n\u001b[1;32m      <a href='vscode-notebook-cell://wsl%2Bubuntu/home/dvillas/progra/dvillas28-iic2233-2023-2/Contenidos/semana-07/apuntes_mios/apuntes_s7.ipynb#Y142sdnNjb2RlLXJlbW90ZQ%3D%3D?line=4'>5</a>\u001b[0m \u001b[39mprint\u001b[39m(\u001b[39mf\u001b[39m\u001b[39m'\u001b[39m\u001b[39m{\u001b[39;00mbyte1\u001b[39m}\u001b[39;00m\u001b[39m es \u001b[39m\u001b[39m{\u001b[39;00m\u001b[39mtype\u001b[39m(byte1)\u001b[39m}\u001b[39;00m\u001b[39m'\u001b[39m) \u001b[39m# literal 'h' es 104 en ascii\u001b[39;00m\n\u001b[0;32m----> <a href='vscode-notebook-cell://wsl%2Bubuntu/home/dvillas/progra/dvillas28-iic2233-2023-2/Contenidos/semana-07/apuntes_mios/apuntes_s7.ipynb#Y142sdnNjb2RlLXJlbW90ZQ%3D%3D?line=6'>7</a>\u001b[0m \u001b[39mprint\u001b[39m(\u001b[39mbin\u001b[39;49m(byte1)) \u001b[39m# 0b indica que esto es binario\u001b[39;00m\n",
      "\u001b[0;31mTypeError\u001b[0m: 'bytearray' object cannot be interpreted as an integer"
     ]
    }
   ],
   "source": [
    "byte1 = lista_bytes[0]\n",
    "print(f'{byte1} es {type(byte1)}') # literal 'h' es 104 en ascii\n",
    "\n",
    "byte1 = lista_bytes[0:1]\n",
    "print(f'{byte1} es {type(byte1)}') # literal 'h' es 104 en ascii\n",
    "\n",
    "print(bin(byte1)) # 0b indica que esto es binario"
   ]
  },
  {
   "cell_type": "markdown",
   "metadata": {},
   "source": [
    "Solo para representacion visual\n"
   ]
  },
  {
   "cell_type": "code",
   "execution_count": 114,
   "metadata": {},
   "outputs": [
    {
     "name": "stdout",
     "output_type": "stream",
     "text": [
      "0b1101000\n",
      "1101000\n"
     ]
    }
   ],
   "source": [
    "# para una represetacion en 8bits podemos usar zfill(8)\n",
    "# esto rellena con 0s hasta llegar a un largo de 8\n",
    "print(bin(byte1).zfill(0))\n",
    "print(bin(byte1)[2:].zfill(0)) # para quitarnos los 0b"
   ]
  },
  {
   "cell_type": "code",
   "execution_count": 127,
   "metadata": {},
   "outputs": [
    {
     "name": "stdout",
     "output_type": "stream",
     "text": [
      "Decimal: 0\n",
      "Binario: 00000000\n",
      "Hexadecimal: 0\n",
      "\n",
      "Decimal: 1\n",
      "Binario: 00000001\n",
      "Hexadecimal: 1\n",
      "\n",
      "Decimal: 2\n",
      "Binario: 00000010\n",
      "Hexadecimal: 2\n",
      "\n",
      "Decimal: 3\n",
      "Binario: 00000011\n",
      "Hexadecimal: 3\n",
      "\n",
      "Decimal: 4\n",
      "Binario: 00000100\n",
      "Hexadecimal: 4\n",
      "\n",
      "Decimal: 5\n",
      "Binario: 00000101\n",
      "Hexadecimal: 5\n",
      "\n",
      "Decimal: 6\n",
      "Binario: 00000110\n",
      "Hexadecimal: 6\n",
      "\n",
      "Decimal: 7\n",
      "Binario: 00000111\n",
      "Hexadecimal: 7\n",
      "\n",
      "Decimal: 8\n",
      "Binario: 00001000\n",
      "Hexadecimal: 8\n",
      "\n",
      "Decimal: 9\n",
      "Binario: 00001001\n",
      "Hexadecimal: 9\n",
      "\n",
      "Decimal: 10\n",
      "Binario: 00001010\n",
      "Hexadecimal: a\n",
      "\n",
      "Decimal: 11\n",
      "Binario: 00001011\n",
      "Hexadecimal: b\n",
      "\n",
      "Decimal: 12\n",
      "Binario: 00001100\n",
      "Hexadecimal: c\n",
      "\n",
      "Decimal: 13\n",
      "Binario: 00001101\n",
      "Hexadecimal: d\n",
      "\n",
      "Decimal: 14\n",
      "Binario: 00001110\n",
      "Hexadecimal: e\n",
      "\n",
      "Decimal: 15\n",
      "Binario: 00001111\n",
      "Hexadecimal: f\n",
      "\n",
      "Decimal: 16\n",
      "Binario: 00010000\n",
      "Hexadecimal: 10\n",
      "\n",
      "Decimal: 17\n",
      "Binario: 00010001\n",
      "Hexadecimal: 11\n",
      "\n",
      "Decimal: 18\n",
      "Binario: 00010010\n",
      "Hexadecimal: 12\n",
      "\n",
      "Decimal: 19\n",
      "Binario: 00010011\n",
      "Hexadecimal: 13\n",
      "\n"
     ]
    }
   ],
   "source": [
    "# podemos definir una funcion para simplificar\n",
    "binario = lambda byte: bin(byte)[2:].zfill(8)\n",
    "hexadecimal = lambda byte: hex(byte)[2:]\n",
    "\n",
    "for i in range(0, 20):\n",
    "    print(f'Decimal: {i}')\n",
    "    print(f'Binario: {binario(i)}')\n",
    "    print(f'Hexadecimal: {hexadecimal(i)}')\n",
    "    print()"
   ]
  },
  {
   "cell_type": "markdown",
   "metadata": {},
   "source": [
    "- imprimir un elemento de un bytearray nos muestra el int que representa, `ord` hace esta conversion directamente"
   ]
  },
  {
   "cell_type": "markdown",
   "metadata": {},
   "source": [
    "### `bytearrays` como listas"
   ]
  },
  {
   "cell_type": "code",
   "execution_count": 11,
   "metadata": {},
   "outputs": [
    {
     "name": "stdout",
     "output_type": "stream",
     "text": [
      "bytearray(b'\\xff')\n",
      "bytearray(b'\\xff\\x02')\n",
      "bytearray(b'\\xff\\x024\\x12')\n"
     ]
    }
   ],
   "source": [
    "mi_ba = bytearray()\n",
    "\n",
    "# append solo funciona con ints\n",
    "mi_ba.append(255)\n",
    "print(mi_ba)\n",
    "\n",
    "# extend funciona con byte o bytearray\n",
    "mi_ba.extend(b'\\x02') # bytes\n",
    "print(mi_ba)\n",
    "\n",
    "mi_ba.extend(bytearray(b'\\x34\\x12'))\n",
    "print(mi_ba)"
   ]
  },
  {
   "cell_type": "code",
   "execution_count": 13,
   "metadata": {},
   "outputs": [
    {
     "name": "stdout",
     "output_type": "stream",
     "text": [
      "255\n",
      "2\n",
      "52\n",
      "18\n"
     ]
    }
   ],
   "source": [
    "mi_ba[0] # indexing muestra el valor int\n",
    "\n",
    "for i in mi_ba:\n",
    "    print(i)"
   ]
  },
  {
   "cell_type": "code",
   "execution_count": 15,
   "metadata": {},
   "outputs": [
    {
     "name": "stdout",
     "output_type": "stream",
     "text": [
      "bytearray(b'\\xff\\x02')\n"
     ]
    }
   ],
   "source": [
    "# solicing muestra los bytes\n",
    "print(mi_ba[:2])"
   ]
  },
  {
   "cell_type": "markdown",
   "metadata": {},
   "source": [
    "#### Maximo y Minimos en un bytearray"
   ]
  },
  {
   "cell_type": "code",
   "execution_count": 19,
   "metadata": {},
   "outputs": [
    {
     "name": "stdout",
     "output_type": "stream",
     "text": [
      "255\n",
      "2\n"
     ]
    }
   ],
   "source": [
    "maximo = max(mi_ba)\n",
    "minimo = min(mi_ba)\n",
    "\n",
    "print(maximo)\n",
    "print(minimo)"
   ]
  },
  {
   "cell_type": "markdown",
   "metadata": {},
   "source": [
    "## Chunks"
   ]
  },
  {
   "cell_type": "markdown",
   "metadata": {},
   "source": [
    "- **Chunks**: grupo de bytes\n",
    "- es util leer grupos de bytes de una sola vez"
   ]
  },
  {
   "cell_type": "code",
   "execution_count": 29,
   "metadata": {},
   "outputs": [
    {
     "name": "stdout",
     "output_type": "stream",
     "text": [
      "bytearray(b'Este')\n",
      "bytearray(b' es ')\n",
      "bytearray(b'un a')\n",
      "bytearray(b'rreg')\n",
      "bytearray(b'lo m')\n",
      "bytearray(b'uy l')\n",
      "bytearray(b'argo')\n",
      "bytearray(b' que')\n",
      "bytearray(b' est')\n",
      "bytearray(b'a co')\n",
      "bytearray(b'difi')\n",
      "bytearray(b'cado')\n",
      "bytearray(b' en ')\n",
      "bytearray(b'bits')\n"
     ]
    }
   ],
   "source": [
    "array_grande = bytearray(b\"Este es un arreglo muy largo que esta codificado en bits\")\n",
    "TAMANO_CHUNK = 4\n",
    "\n",
    "for i in range(0, len(array_grande), TAMANO_CHUNK):\n",
    "    chunk = bytearray(array_grande[i:i+TAMANO_CHUNK])\n",
    "    print(chunk)"
   ]
  },
  {
   "cell_type": "markdown",
   "metadata": {},
   "source": [
    "## Metodos de `int` para interpretar *bytes*"
   ]
  },
  {
   "cell_type": "markdown",
   "metadata": {},
   "source": [
    "Con un solo *byte* podemos almacenar desde el 0 (`0x00`) hasta el 255 (`0xff`) . Para representar numeros mas grandes es cosa de añadir *bytes*\n",
    "\n",
    "El problema surge en como interpretar el orden de los bytes: `byteorder`\n",
    "\n",
    "\n",
    "* En *big endian* el *byte* más significativo (de mayor peso) quedará al inicio del *byte array*. Por ejemplo, el número 256 en *big endian* es `\\x01 \\x00`.\n",
    "\n",
    "`hex()` da numeros en *big endian*\n",
    "\n",
    "* En *little endian* es lo opuesto, el *byte* más significativo (de mayor peso) quedará al final del *byte array*. Por ejemplo, el número 256 en *little endian* es `\\x00 \\x01`."
   ]
  },
  {
   "cell_type": "markdown",
   "metadata": {},
   "source": [
    "### `int.to_bytes`"
   ]
  },
  {
   "cell_type": "markdown",
   "metadata": {},
   "source": [
    "- `int.to_bytes(length = 1, byteorder = 'big')`: retorna el `int` representado por un arreglo de bytes. Recibe el largo del array y el orden (`big` o `little`)\n",
    "\n",
    "    Si `length` es mas largo que la cantidad necesaria de *bytes* para representar el numero, se rellenaran con 0 de modo que el valor no cambie"
   ]
  },
  {
   "cell_type": "code",
   "execution_count": 52,
   "metadata": {},
   "outputs": [
    {
     "name": "stdout",
     "output_type": "stream",
     "text": [
      "b'A' - b'B' - b'C' - b'D' - b'E' - b'F' - b'G' - b'H' - b'I' - b'J' - b'K' - b'L' - b'M' - b'N' - b'O' - b'P' - b'Q' - b'R' - b'S' - b'T' - b'U' - b'V' - b'W' - b'X' - b'Y' - b'Z' - b'[' - b'\\\\' - b']' - b'^' - b'_' - b'`' - b'a' - b'b' - "
     ]
    }
   ],
   "source": [
    "for i in range(65, 99):\n",
    "    print((i).to_bytes(1, 'big'), end=' - ')"
   ]
  },
  {
   "cell_type": "code",
   "execution_count": 49,
   "metadata": {},
   "outputs": [
    {
     "data": {
      "text/plain": [
       "b'\\x00\\x00\\x00\\xff'"
      ]
     },
     "execution_count": 49,
     "metadata": {},
     "output_type": "execute_result"
    }
   ],
   "source": [
    "(255).to_bytes(4, 'big') # 000255"
   ]
  },
  {
   "cell_type": "code",
   "execution_count": 43,
   "metadata": {},
   "outputs": [
    {
     "data": {
      "text/plain": [
       "b'\\x01\\x00'"
      ]
     },
     "execution_count": 43,
     "metadata": {},
     "output_type": "execute_result"
    }
   ],
   "source": [
    "(256).to_bytes(2, 'big')"
   ]
  },
  {
   "cell_type": "code",
   "execution_count": 46,
   "metadata": {},
   "outputs": [
    {
     "data": {
      "text/plain": [
       "b'\\x00\\x01'"
      ]
     },
     "execution_count": 46,
     "metadata": {},
     "output_type": "execute_result"
    }
   ],
   "source": [
    "(256).to_bytes(2, 'little')"
   ]
  },
  {
   "cell_type": "code",
   "execution_count": 47,
   "metadata": {},
   "outputs": [
    {
     "ename": "OverflowError",
     "evalue": "int too big to convert",
     "output_type": "error",
     "traceback": [
      "\u001b[0;31m---------------------------------------------------------------------------\u001b[0m",
      "\u001b[0;31mOverflowError\u001b[0m                             Traceback (most recent call last)",
      "\u001b[1;32m/home/dvillas/progra/dvillas28-iic2233-2023-2/Contenidos/semana-07/apuntes_mios/apuntes_s7.ipynb Cell 100\u001b[0m line \u001b[0;36m1\n\u001b[0;32m----> <a href='vscode-notebook-cell://wsl%2Bubuntu/home/dvillas/progra/dvillas28-iic2233-2023-2/Contenidos/semana-07/apuntes_mios/apuntes_s7.ipynb#Y203sdnNjb2RlLXJlbW90ZQ%3D%3D?line=0'>1</a>\u001b[0m (\u001b[39m256\u001b[39;49m)\u001b[39m.\u001b[39;49mto_bytes(\u001b[39m1\u001b[39;49m, \u001b[39m'\u001b[39;49m\u001b[39mbig\u001b[39;49m\u001b[39m'\u001b[39;49m) \u001b[39m# no podemos expresar a 256 en 1 byte\u001b[39;00m\n",
      "\u001b[0;31mOverflowError\u001b[0m: int too big to convert"
     ]
    }
   ],
   "source": [
    "(256).to_bytes(1, 'big') # no podemos expresar a 256 en 1 byte"
   ]
  },
  {
   "cell_type": "markdown",
   "metadata": {},
   "source": [
    "### `int.from_bytes`"
   ]
  },
  {
   "cell_type": "markdown",
   "metadata": {},
   "source": [
    "* `int.from_bytes(byte, byteorder = 'big')`: retorna un arreglo de *bytes* representando un *integer*. Debe recibir al menos dos argumentos: el *byte* (cualquier objeto del tipo byte o un un iterable que produzca *bytes*) y el orden. Si `byteorder` es 'big', el *byte* mas significativo (de mayor peso) será el del inicio del *byte array*. Si  `byteorder` es 'little', el byte mas significativo (de mayor peso) será el del final del *byte array*.\n",
    "\n",
    "    es como el inverso de ``hex()``"
   ]
  },
  {
   "cell_type": "code",
   "execution_count": 72,
   "metadata": {},
   "outputs": [
    {
     "name": "stdout",
     "output_type": "stream",
     "text": [
      "65\n",
      "16705\n"
     ]
    }
   ],
   "source": [
    "# cambiar el byteorder para mas de un byte, se cambia radicalmente el orden\n",
    "\n",
    "print(int.from_bytes(b'A', byteorder='big')) # a representa al literal 65\n",
    "print(int.from_bytes(b'AA', byteorder='little'))"
   ]
  },
  {
   "cell_type": "code",
   "execution_count": 65,
   "metadata": {},
   "outputs": [
    {
     "name": "stdout",
     "output_type": "stream",
     "text": [
      "256\n",
      "1\n"
     ]
    }
   ],
   "source": [
    "# dos bytes representando al 256\n",
    "\n",
    "print(int.from_bytes(b'\\x01\\x00', byteorder='big'))\n",
    "print(int.from_bytes(b'\\x01\\x00', byteorder='little'))"
   ]
  },
  {
   "cell_type": "code",
   "execution_count": 70,
   "metadata": {},
   "outputs": [
    {
     "name": "stdout",
     "output_type": "stream",
     "text": [
      "65536\n"
     ]
    }
   ],
   "source": [
    "print(int.from_bytes(b'\\x01\\x00\\x00', byteorder='big'))"
   ]
  },
  {
   "cell_type": "markdown",
   "metadata": {},
   "source": [
    "- No confiar en los prints de *bytes*, `print()` solo nos entrega una representacion visual. Se debe verificar el byte con con el metodo `to_bytes`"
   ]
  },
  {
   "cell_type": "code",
   "execution_count": 80,
   "metadata": {},
   "outputs": [
    {
     "data": {
      "text/plain": [
       "65"
      ]
     },
     "execution_count": 80,
     "metadata": {},
     "output_type": "execute_result"
    }
   ],
   "source": [
    "# \\x41 es 65\n",
    "\n",
    "# comprobacion\n",
    "int.from_bytes(b'\\x41', byteorder='big')"
   ]
  },
  {
   "cell_type": "code",
   "execution_count": 83,
   "metadata": {},
   "outputs": [
    {
     "data": {
      "text/plain": [
       "b'A'"
      ]
     },
     "execution_count": 83,
     "metadata": {},
     "output_type": "execute_result"
    }
   ],
   "source": [
    "# pero realizando el contrario...\n",
    "(65).to_bytes(1, 'big')\n",
    "# ... nos da la representacion literal"
   ]
  },
  {
   "cell_type": "code",
   "execution_count": 84,
   "metadata": {},
   "outputs": [
    {
     "data": {
      "text/plain": [
       "65"
      ]
     },
     "execution_count": 84,
     "metadata": {},
     "output_type": "execute_result"
    }
   ],
   "source": [
    "# podemos incluso meter la representacion visual e interpretarla como int\n",
    "int.from_bytes(b'A', 'big')"
   ]
  }
 ],
 "metadata": {
  "kernelspec": {
   "display_name": "Python 3",
   "language": "python",
   "name": "python3"
  },
  "language_info": {
   "codemirror_mode": {
    "name": "ipython",
    "version": 3
   },
   "file_extension": ".py",
   "mimetype": "text/x-python",
   "name": "python",
   "nbconvert_exporter": "python",
   "pygments_lexer": "ipython3",
   "version": "3.10.12"
  },
  "orig_nbformat": 4
 },
 "nbformat": 4,
 "nbformat_minor": 2
}
