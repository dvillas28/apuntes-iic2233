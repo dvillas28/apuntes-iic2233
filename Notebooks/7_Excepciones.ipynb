{
 "cells": [
  {
   "cell_type": "markdown",
   "metadata": {},
   "source": [
    "# 3. Excepciones"
   ]
  },
  {
   "cell_type": "markdown",
   "metadata": {},
   "source": [
    "Condicion inesperada que ocurre dentro de un computo\n",
    "- utilizadas para señalar que alguna accion no pudo ser ejecutada como se esperaba\n",
    "\n",
    "- Cuando una excepcion que no es manejada (*exception handling*), esta es reportada al OS, que termina el programa (haciendo que se caiga)\n",
    "\n",
    "- En python podemos definir codigo donde las excepciones que **gatillan** (*raise*), se **capturan** (*exception catch*) para ser manejadas por un flijo especial (*excepcion handling*) que puede reportar, ignorar o corregir el error"
   ]
  },
  {
   "cell_type": "markdown",
   "metadata": {},
   "source": [
    "## *runtime exceptions* en Python"
   ]
  },
  {
   "cell_type": "markdown",
   "metadata": {},
   "source": [
    "Debido a que python es interpretado tenemos las **Excepciones de tiempo de ejecucion**, puede ocurrir que un programa que tenga un error, y nunca que se llegue al flujo donde se genera esta excepcion\n",
    "\n",
    "Es lenguajes compilados estas excepciones se detectan en tiempo de compilacion"
   ]
  },
  {
   "cell_type": "markdown",
   "metadata": {},
   "source": [
    "### `SyntaxError`:\n",
    "- violacion sintactima de una sentencia del programa\n",
    "- se levanta antes de comenzar a ejecutar, se leveanta al leer el programa "
   ]
  },
  {
   "cell_type": "markdown",
   "metadata": {},
   "source": [
    "### `IndentationError`\n",
    "- cuando una linea de codigo tiene una incorrecta identacion"
   ]
  },
  {
   "cell_type": "markdown",
   "metadata": {},
   "source": [
    "### `NameError`\n",
    "- levantada al no encontrar una declaracion local o global de un nombre o funcion"
   ]
  },
  {
   "cell_type": "markdown",
   "metadata": {},
   "source": [
    "### `ZeroDivisionError`\n",
    "- Cuando el denominador de una division es 0"
   ]
  },
  {
   "cell_type": "code",
   "execution_count": 1,
   "metadata": {},
   "outputs": [],
   "source": [
    "def dividir(x, y):\n",
    "    return x / y\n",
    "\n",
    "# funcionan no robusta, no resistente a errores, ya que podemos indicar \n",
    "# algo como dividir(2,0) y la excepcion se levantaria al evaluar la funcion\n",
    "# no cuando se defina"
   ]
  },
  {
   "cell_type": "markdown",
   "metadata": {},
   "source": [
    "### `IndexError`\n",
    "- indexacion fuera de rango\n",
    "- recordad que las *estructuras secuenciales* se indexan de `0` a `len(lista) - 1`"
   ]
  },
  {
   "cell_type": "markdown",
   "metadata": {},
   "source": [
    "### `KeyError`\n",
    "- uso incorrecto de keys en dicts y mappings, analogo a `IndexError` en listas\n",
    "- ejemplo, solicitar el valor asociado a una llave que no existe\n",
    "- podemos usar `defaultdict` y no toparnos con esta excepcion"
   ]
  },
  {
   "cell_type": "markdown",
   "metadata": {},
   "source": [
    "### `AttributeError`\n",
    "- uso incorrecto de **metodos o atributos** de una clase o tipo de dato"
   ]
  },
  {
   "cell_type": "markdown",
   "metadata": {},
   "source": [
    "### `TypeError`\n",
    "- manejo erroneo de **tipos** de datos\n",
    "- sumar strings y lists, sumar ints y listas, etc\n",
    "- por *duck typing* los operadores (+, -, etc) revisan que los tipos coincidan o si se puede hacer una conversion implicita (`int` y `float`)\n",
    "\n",
    "- lavantada tambien si el objeto no tiene implementado el metodo `__call__`. Que le permite ser llamado cuando se usan `()` (operador de llamada) (`TypeError: <type> object is not callable`)"
   ]
  },
  {
   "cell_type": "markdown",
   "metadata": {},
   "source": [
    "### `ValueError`\n",
    "- `TypeError` hereda de el. Es un caso mas especifico\n",
    "- manejo incorrecto en el valor de los datos\n",
    "- cuando se intenta ejecutar una operacion con un argumento (cuyo tipo *si* puede estar correcto) cuyo **valor no es apropiado** para la ejecucion\n",
    "- Ocurre cuando se espera que el input() recibido cumpla con alguna propiedad , pero que no lo hace"
   ]
  },
  {
   "cell_type": "markdown",
   "metadata": {},
   "source": [
    "# 4. Manejo de excepciones"
   ]
  },
  {
   "cell_type": "markdown",
   "metadata": {},
   "source": [
    "## Levantamiento excepciones: `raise`"
   ]
  },
  {
   "cell_type": "markdown",
   "metadata": {},
   "source": [
    "- Podemos generar excepciones y definir un mensaje para el usuario levantando una instancia de la excepcion\n",
    "- las excepciones interrumpen todo el flujo del programa"
   ]
  },
  {
   "cell_type": "code",
   "execution_count": 10,
   "metadata": {},
   "outputs": [],
   "source": [
    "def ingresar_pos(pos: tuple):\n",
    "    if not isinstance(pos, tuple):\n",
    "        raise TypeError('El argumento \"pos\" debe ser de tipo \"tuple\"')\n",
    "    \n",
    "    if pos[0] > 10 or pos[1] > 10:\n",
    "        raise ValueError('Ambos numeros deben ser menor que 10')\n",
    "        print('eso jamas se imprime') # levantada la excepcion se detiene el programa\n",
    "\n",
    "    print(f'Ingresado a horixontal {pos[0]} vertical {pos[1]} ')"
   ]
  },
  {
   "cell_type": "code",
   "execution_count": 5,
   "metadata": {},
   "outputs": [
    {
     "name": "stdout",
     "output_type": "stream",
     "text": [
      "Ingresado a horixontal 2 vertical 5 \n"
     ]
    }
   ],
   "source": [
    "# correcto\n",
    "ingresar_pos((2, 5))"
   ]
  },
  {
   "cell_type": "code",
   "execution_count": 6,
   "metadata": {},
   "outputs": [
    {
     "ename": "TypeError",
     "evalue": "El argumento \"pos\" debe ser de tipo \"tuple\"",
     "output_type": "error",
     "traceback": [
      "\u001b[0;31m---------------------------------------------------------------------------\u001b[0m",
      "\u001b[0;31mTypeError\u001b[0m                                 Traceback (most recent call last)",
      "\u001b[1;32m/home/dvillas/progra/dvillas28-iic2233-2023-2/Contenidos/semana-07/apuntes_mios/apuntes_s7_excepciones.ipynb Cell 20\u001b[0m line \u001b[0;36m2\n\u001b[1;32m      <a href='vscode-notebook-cell://wsl%2Bubuntu/home/dvillas/progra/dvillas28-iic2233-2023-2/Contenidos/semana-07/apuntes_mios/apuntes_s7_excepciones.ipynb#X31sdnNjb2RlLXJlbW90ZQ%3D%3D?line=0'>1</a>\u001b[0m \u001b[39m# type error\u001b[39;00m\n\u001b[0;32m----> <a href='vscode-notebook-cell://wsl%2Bubuntu/home/dvillas/progra/dvillas28-iic2233-2023-2/Contenidos/semana-07/apuntes_mios/apuntes_s7_excepciones.ipynb#X31sdnNjb2RlLXJlbW90ZQ%3D%3D?line=1'>2</a>\u001b[0m ingresar_pos([\u001b[39m2\u001b[39;49m, \u001b[39m5\u001b[39;49m])\n",
      "\u001b[1;32m/home/dvillas/progra/dvillas28-iic2233-2023-2/Contenidos/semana-07/apuntes_mios/apuntes_s7_excepciones.ipynb Cell 20\u001b[0m line \u001b[0;36m3\n\u001b[1;32m      <a href='vscode-notebook-cell://wsl%2Bubuntu/home/dvillas/progra/dvillas28-iic2233-2023-2/Contenidos/semana-07/apuntes_mios/apuntes_s7_excepciones.ipynb#X31sdnNjb2RlLXJlbW90ZQ%3D%3D?line=0'>1</a>\u001b[0m \u001b[39mdef\u001b[39;00m \u001b[39mingresar_pos\u001b[39m(pos: \u001b[39mtuple\u001b[39m):\n\u001b[1;32m      <a href='vscode-notebook-cell://wsl%2Bubuntu/home/dvillas/progra/dvillas28-iic2233-2023-2/Contenidos/semana-07/apuntes_mios/apuntes_s7_excepciones.ipynb#X31sdnNjb2RlLXJlbW90ZQ%3D%3D?line=1'>2</a>\u001b[0m     \u001b[39mif\u001b[39;00m \u001b[39mnot\u001b[39;00m \u001b[39misinstance\u001b[39m(pos, \u001b[39mtuple\u001b[39m):\n\u001b[0;32m----> <a href='vscode-notebook-cell://wsl%2Bubuntu/home/dvillas/progra/dvillas28-iic2233-2023-2/Contenidos/semana-07/apuntes_mios/apuntes_s7_excepciones.ipynb#X31sdnNjb2RlLXJlbW90ZQ%3D%3D?line=2'>3</a>\u001b[0m         \u001b[39mraise\u001b[39;00m \u001b[39mTypeError\u001b[39;00m(\u001b[39m'\u001b[39m\u001b[39mEl argumento \u001b[39m\u001b[39m\"\u001b[39m\u001b[39mpos\u001b[39m\u001b[39m\"\u001b[39m\u001b[39m debe ser de tipo \u001b[39m\u001b[39m\"\u001b[39m\u001b[39mtuple\u001b[39m\u001b[39m\"\u001b[39m\u001b[39m'\u001b[39m)\n\u001b[1;32m      <a href='vscode-notebook-cell://wsl%2Bubuntu/home/dvillas/progra/dvillas28-iic2233-2023-2/Contenidos/semana-07/apuntes_mios/apuntes_s7_excepciones.ipynb#X31sdnNjb2RlLXJlbW90ZQ%3D%3D?line=4'>5</a>\u001b[0m     \u001b[39mif\u001b[39;00m pos[\u001b[39m0\u001b[39m] \u001b[39m>\u001b[39m \u001b[39m10\u001b[39m \u001b[39mor\u001b[39;00m pos[\u001b[39m1\u001b[39m] \u001b[39m>\u001b[39m \u001b[39m10\u001b[39m:\n\u001b[1;32m      <a href='vscode-notebook-cell://wsl%2Bubuntu/home/dvillas/progra/dvillas28-iic2233-2023-2/Contenidos/semana-07/apuntes_mios/apuntes_s7_excepciones.ipynb#X31sdnNjb2RlLXJlbW90ZQ%3D%3D?line=5'>6</a>\u001b[0m         \u001b[39mraise\u001b[39;00m \u001b[39mValueError\u001b[39;00m(\u001b[39m'\u001b[39m\u001b[39mAmbos numeros deben ser menor que 10\u001b[39m\u001b[39m'\u001b[39m)\n",
      "\u001b[0;31mTypeError\u001b[0m: El argumento \"pos\" debe ser de tipo \"tuple\""
     ]
    }
   ],
   "source": [
    "# type error\n",
    "ingresar_pos([2, 5])"
   ]
  },
  {
   "cell_type": "code",
   "execution_count": 9,
   "metadata": {},
   "outputs": [
    {
     "ename": "ValueError",
     "evalue": "Ambos numeros deben ser menor que 10",
     "output_type": "error",
     "traceback": [
      "\u001b[0;31m---------------------------------------------------------------------------\u001b[0m",
      "\u001b[0;31mValueError\u001b[0m                                Traceback (most recent call last)",
      "\u001b[1;32m/home/dvillas/progra/dvillas28-iic2233-2023-2/Contenidos/semana-07/apuntes_mios/apuntes_s7_excepciones.ipynb Cell 21\u001b[0m line \u001b[0;36m2\n\u001b[1;32m      <a href='vscode-notebook-cell://wsl%2Bubuntu/home/dvillas/progra/dvillas28-iic2233-2023-2/Contenidos/semana-07/apuntes_mios/apuntes_s7_excepciones.ipynb#X32sdnNjb2RlLXJlbW90ZQ%3D%3D?line=0'>1</a>\u001b[0m \u001b[39m# syntax error\u001b[39;00m\n\u001b[0;32m----> <a href='vscode-notebook-cell://wsl%2Bubuntu/home/dvillas/progra/dvillas28-iic2233-2023-2/Contenidos/semana-07/apuntes_mios/apuntes_s7_excepciones.ipynb#X32sdnNjb2RlLXJlbW90ZQ%3D%3D?line=1'>2</a>\u001b[0m ingresar_pos((\u001b[39m102\u001b[39;49m, \u001b[39m4\u001b[39;49m))\n",
      "\u001b[1;32m/home/dvillas/progra/dvillas28-iic2233-2023-2/Contenidos/semana-07/apuntes_mios/apuntes_s7_excepciones.ipynb Cell 21\u001b[0m line \u001b[0;36m6\n\u001b[1;32m      <a href='vscode-notebook-cell://wsl%2Bubuntu/home/dvillas/progra/dvillas28-iic2233-2023-2/Contenidos/semana-07/apuntes_mios/apuntes_s7_excepciones.ipynb#X32sdnNjb2RlLXJlbW90ZQ%3D%3D?line=2'>3</a>\u001b[0m     \u001b[39mraise\u001b[39;00m \u001b[39mTypeError\u001b[39;00m(\u001b[39m'\u001b[39m\u001b[39mEl argumento \u001b[39m\u001b[39m\"\u001b[39m\u001b[39mpos\u001b[39m\u001b[39m\"\u001b[39m\u001b[39m debe ser de tipo \u001b[39m\u001b[39m\"\u001b[39m\u001b[39mtuple\u001b[39m\u001b[39m\"\u001b[39m\u001b[39m'\u001b[39m)\n\u001b[1;32m      <a href='vscode-notebook-cell://wsl%2Bubuntu/home/dvillas/progra/dvillas28-iic2233-2023-2/Contenidos/semana-07/apuntes_mios/apuntes_s7_excepciones.ipynb#X32sdnNjb2RlLXJlbW90ZQ%3D%3D?line=4'>5</a>\u001b[0m \u001b[39mif\u001b[39;00m pos[\u001b[39m0\u001b[39m] \u001b[39m>\u001b[39m \u001b[39m10\u001b[39m \u001b[39mor\u001b[39;00m pos[\u001b[39m1\u001b[39m] \u001b[39m>\u001b[39m \u001b[39m10\u001b[39m:\n\u001b[0;32m----> <a href='vscode-notebook-cell://wsl%2Bubuntu/home/dvillas/progra/dvillas28-iic2233-2023-2/Contenidos/semana-07/apuntes_mios/apuntes_s7_excepciones.ipynb#X32sdnNjb2RlLXJlbW90ZQ%3D%3D?line=5'>6</a>\u001b[0m     \u001b[39mraise\u001b[39;00m \u001b[39mValueError\u001b[39;00m(\u001b[39m'\u001b[39m\u001b[39mAmbos numeros deben ser menor que 10\u001b[39m\u001b[39m'\u001b[39m)\n\u001b[1;32m      <a href='vscode-notebook-cell://wsl%2Bubuntu/home/dvillas/progra/dvillas28-iic2233-2023-2/Contenidos/semana-07/apuntes_mios/apuntes_s7_excepciones.ipynb#X32sdnNjb2RlLXJlbW90ZQ%3D%3D?line=7'>8</a>\u001b[0m \u001b[39mprint\u001b[39m(\u001b[39mf\u001b[39m\u001b[39m'\u001b[39m\u001b[39mIngresado a horixontal \u001b[39m\u001b[39m{\u001b[39;00mpos[\u001b[39m0\u001b[39m]\u001b[39m}\u001b[39;00m\u001b[39m vertical \u001b[39m\u001b[39m{\u001b[39;00mpos[\u001b[39m1\u001b[39m]\u001b[39m}\u001b[39;00m\u001b[39m \u001b[39m\u001b[39m'\u001b[39m)\n",
      "\u001b[0;31mValueError\u001b[0m: Ambos numeros deben ser menor que 10"
     ]
    }
   ],
   "source": [
    "# syntax error\n",
    "ingresar_pos((102, 4))"
   ]
  },
  {
   "cell_type": "markdown",
   "metadata": {},
   "source": [
    "## Manejo de excepciones: `try` y `except`"
   ]
  },
  {
   "cell_type": "markdown",
   "metadata": {},
   "source": [
    "con estas sentencias podemos atrapar excepciones\n",
    "1. `try` define un *scope* de codigo, donde si se levanta una excepcion, esta es capturada, y salta al *scope* de uno mas bloques `except` que es donde se implementa el *handling* de la excepcion capturada\n",
    "\n",
    "2. Una vez se ejecuta uno de los `except` posibles, el programa continua al bloque posterior de codigo y **no regresamos** a la sentencia que gatillo la excepcion\n",
    "\n",
    "- Tenemos algunas excepciones que no es posible capturar (`SyntaxError` o `IdentationError`) ya que estan son capturadas previo a la interpretacion de linea por linea del interprete Python (durgen durante la lectura del programa)\n",
    "\n",
    "- Podemos usarlas en el flujo principal de un programa, o implemetarlas en una funcion, metodo de clase\n",
    "\n",
    "- Si no hay try: dentro de una funcion, La excepcion se propaga los llamados anteriores hasta que llega a un bloque try, si no, se propaga al OS, que cierra el programa"
   ]
  },
  {
   "cell_type": "markdown",
   "metadata": {},
   "source": [
    "### ejemplo con la funcion dividir"
   ]
  },
  {
   "cell_type": "code",
   "execution_count": 22,
   "metadata": {},
   "outputs": [],
   "source": [
    "def div(a, dem):\n",
    "    # abrimos el scope de captura\n",
    "    try:\n",
    "        # se implementa el codigo que PODRIA fallar y arrojar una excepcion\n",
    "        return float(a) / float(dem)\n",
    "    except (ZeroDivisionError) as error: # tomamos la excepcion como variable\n",
    "        # en caso de arroje saltamos aca\n",
    "        print(f'Error: {error}')\n",
    "        print(f'why are you dividing by 0, are you stupid?')\n",
    "\n",
    "    print('continuacion del programa')"
   ]
  },
  {
   "cell_type": "code",
   "execution_count": 20,
   "metadata": {},
   "outputs": [
    {
     "data": {
      "text/plain": [
       "2.0"
      ]
     },
     "execution_count": 20,
     "metadata": {},
     "output_type": "execute_result"
    }
   ],
   "source": [
    "div(4,2)# correcto"
   ]
  },
  {
   "cell_type": "code",
   "execution_count": 25,
   "metadata": {},
   "outputs": [
    {
     "name": "stdout",
     "output_type": "stream",
     "text": [
      "Error: float division by zero\n",
      "why are you dividing by 0, are you stupid?\n",
      "continuacion del programa\n",
      "among us\n"
     ]
    }
   ],
   "source": [
    "div(4, 0)\n",
    "print('among us') # el progama continua igualmente"
   ]
  },
  {
   "cell_type": "markdown",
   "metadata": {},
   "source": [
    "### Atrapar `SyntaxError` en `imports`"
   ]
  },
  {
   "cell_type": "markdown",
   "metadata": {},
   "source": [
    "- podemos *intentar* (`try`) importar un modulo, y si edste contiene un `SyntaxError` o un `IdentationError`, podemos atraparlo y lidiar con la excepcion en el `except`"
   ]
  },
  {
   "cell_type": "code",
   "execution_count": null,
   "metadata": {},
   "outputs": [],
   "source": [
    "# Atrapar SyntaxError desde un import --> Funcionará.\n",
    "# Asumimos que syntax_error_file es un .py con un error de sintaxis\n",
    "\n",
    "try:\n",
    "    import syntax_error_file\n",
    "except SyntaxError:\n",
    "    print(\"SyntaxError detectado\")"
   ]
  },
  {
   "cell_type": "markdown",
   "metadata": {},
   "source": [
    "### Multiples excepciones"
   ]
  },
  {
   "cell_type": "markdown",
   "metadata": {},
   "source": [
    "Podemos definir mas de un bloque `except` donde las causas que generan los errores son distintas"
   ]
  },
  {
   "cell_type": "code",
   "execution_count": 29,
   "metadata": {},
   "outputs": [],
   "source": [
    "# la funcion de antes\n",
    "def ingresar_pos(pos: tuple):\n",
    "    if not isinstance(pos, tuple):\n",
    "        raise TypeError('El argumento \"pos\" debe ser de tipo \"tuple\"')\n",
    "    \n",
    "    if pos[0] > 10 or pos[1] > 10:\n",
    "        raise ValueError('Ambos numeros deben ser menor que 10')\n",
    "        print('eso jamas se imprime') # levantada la excepcion se detiene el programa\n",
    "\n",
    "    print(f'Ingresado a horixontal {pos[0]} vertical {pos[1]} ')"
   ]
  },
  {
   "cell_type": "code",
   "execution_count": 31,
   "metadata": {},
   "outputs": [
    {
     "name": "stdout",
     "output_type": "stream",
     "text": [
      "Error: El argumento \"pos\" debe ser de tipo \"tuple\"\n",
      "Revisa el tipo del argumento\n"
     ]
    }
   ],
   "source": [
    "try:\n",
    "    ingresar_pos([1, 4])\n",
    "# manejo de excepciones\n",
    "except TypeError as err:\n",
    "    print(f'Error: {err}')\n",
    "    print('Revisa el tipo del argumento')\n",
    "\n",
    "except ValueError as err:\n",
    "    print(f'Error: {err}')\n",
    "    print(f'Revisa los valores de la tupla')"
   ]
  },
  {
   "cell_type": "code",
   "execution_count": 33,
   "metadata": {},
   "outputs": [
    {
     "name": "stdout",
     "output_type": "stream",
     "text": [
      "Error: Ambos numeros deben ser menor que 10\n",
      "Revisa los valores de la tupla\n"
     ]
    }
   ],
   "source": [
    "try:\n",
    "    ingresar_pos((1, 400))\n",
    "# manejo de excepciones\n",
    "except TypeError as err:\n",
    "    print(f'Error: {err}')\n",
    "    print('Revisa el tipo del argumento')\n",
    "\n",
    "except ValueError as err:\n",
    "    print(f'Error: {err}')\n",
    "    print(f'Revisa los valores de la tupla')"
   ]
  },
  {
   "cell_type": "code",
   "execution_count": 40,
   "metadata": {},
   "outputs": [
    {
     "name": "stdout",
     "output_type": "stream",
     "text": [
      "A probar: (1, 2)\n",
      "Ingresado a horixontal 1 vertical 2 \n",
      "\n",
      "A probar: [2, 6]\n",
      "Error: El argumento \"pos\" debe ser de tipo \"tuple\"\n",
      "Se produjo un error, revisar ARGUMENTO: [2, 6]\n",
      "\n",
      "A probar: (60, 4)\n",
      "Error: Ambos numeros deben ser menor que 10\n",
      "Se produjo un error, revisar ARGUMENTO: (60, 4)\n",
      "\n"
     ]
    }
   ],
   "source": [
    "# Podemos capturar mas de una excepcion con un solo bloque `except`, las agrupamos en tuplas\n",
    "args = [(1, 2), [2,6], (60, 4)]\n",
    "for arg in args:\n",
    "\n",
    "    try:\n",
    "        print(f'A probar: {arg}')\n",
    "        ingresar_pos(arg)\n",
    "    \n",
    "    except(ValueError, TypeError) as err:\n",
    "        # manejamos ambaos tipos de excepcones en un solo bloque\n",
    "        # maneja ValueError o TypeError\n",
    "        print(f'Error: {err}')\n",
    "        print(f'Se produjo un error, revisar ARGUMENTO: {arg}')\n",
    "\n",
    "    print()"
   ]
  },
  {
   "cell_type": "markdown",
   "metadata": {},
   "source": [
    "### Flujos complementarios `else` y `finally`"
   ]
  },
  {
   "cell_type": "markdown",
   "metadata": {},
   "source": [
    "Podemos complementar a `try` y `except` con dos bloques de codigo mas\n",
    "- `else`: se ejecuta este bloque **si y solo si no se haya lanzado ninguna excepcion**, Usado por ejemplo para confirmar que todo se ejecuto OK en el bloque `try`\n",
    "\n",
    "- `finally`: se ejecuta **siempre, independiente de que haya ocurrido una excepcion o no**. Comun para funciones de limpieza, ej: el cierre de un archivo, este siempre debe ser cerrado independiente de que haya habido una excepcion o no. Los *context managers* como la sentencia `with` cumplen el mismo funcionamiento"
   ]
  },
  {
   "cell_type": "markdown",
   "metadata": {},
   "source": [
    "### Ventajas del manejo de excepciones por sobre implementar `if`/`elif`/`else`"
   ]
  },
  {
   "cell_type": "markdown",
   "metadata": {},
   "source": [
    "En general, las principales ventajas de usar excepciones por sobre `if`/`else` son:\n",
    "- Los condicionales *ensucian el codigo* (lo hacen menos legible)\n",
    "\n",
    "- El programador está obligado a darles algún tratamiento, es decir, manejarlas o levantarlas. Mientras que los códigos de error pueden ser ignorados por el programador.\n",
    "- El código queda más limpio y fácil de leer (recuerden que el código se lee muchas más veces de lo que se escribe).\n",
    "- Todas las situaciones del programa son manejadas genéricamente, mientras que usando códigos de error tenemos la obligación de crear estructuras de control para cada función que implementemos.\n",
    "- El manejo de excepciones permite \"notificar\" a otras aplicaciones sobre este tipo de situaciones, lo que no sería tan simple de lograr usando códigos de error inventados por el programador.\n",
    "- ¿Por qué importa que el programa no falle inesperadamente?: Muchas veces exponer errores que no se han manejado a usuarios finales puede ser peligroso, ya que se podrían visualizar trozos de código en los outputs de estos. "
   ]
  },
  {
   "cell_type": "markdown",
   "metadata": {},
   "source": [
    "# 5. Excepciones Personalizadas"
   ]
  },
  {
   "cell_type": "markdown",
   "metadata": {},
   "source": [
    "Todas las excepciones heredan de la clase `BaseException`, de aqui tenemos 3\n",
    "1. `SystemExit`\n",
    "2. `KeyboardInterrupt`\n",
    "3. `Exception` (Durante la ejecucion del programa)\n",
    "\n",
    "Podemos crear excepciones personalizadas, creandolas como clases que hereden de `Exception`\n",
    "- El `__init__` es sobreescrito para cambiar el ingreso de los parametros\n",
    "- Podemos definir comportamientos personalizados para las excepciones, como lo son agregar metodos para recuperar mas informacion de la excepcion"
   ]
  },
  {
   "cell_type": "code",
   "execution_count": 1,
   "metadata": {},
   "outputs": [],
   "source": [
    "class ErrorTransaccion(Exception):\n",
    "    def __init__(self, fondos, gasto) -> None:        \n",
    "        super().__init__(f'Solo tienes ${fondos}, no puedes hacer un gasto de ${gasto}')\n",
    "        self.fondos = fondos\n",
    "        self.gasto = gasto\n",
    "\n",
    "    def excess(self):\n",
    "        return self.gasto - self.fondos\n",
    "    \n",
    "class Wallet:\n",
    "    def __init__(self, fondos) -> None:\n",
    "        self.fondos = fondos\n",
    "    def comprar(self, gasto):\n",
    "        \n",
    "        if self.fondos - gasto < 0:\n",
    "            raise ErrorTransaccion(self.fondos, gasto)\n",
    "        \n",
    "        else:\n",
    "            self.fondos -= gasto"
   ]
  },
  {
   "cell_type": "code",
   "execution_count": 2,
   "metadata": {},
   "outputs": [
    {
     "ename": "ErrorTransaccion",
     "evalue": "Solo tienes $1000, no puedes hacer un gasto de $10000",
     "output_type": "error",
     "traceback": [
      "\u001b[0;31m---------------------------------------------------------------------------\u001b[0m",
      "\u001b[0;31mErrorTransaccion\u001b[0m                          Traceback (most recent call last)",
      "\u001b[1;32m/home/dvillas/progra/dvillas28-iic2233-2023-2/Contenidos/semana-07/apuntes_mios/apuntes_s7_excepciones.ipynb Cell 44\u001b[0m line \u001b[0;36m3\n\u001b[1;32m      <a href='vscode-notebook-cell://wsl%2Bubuntu/home/dvillas/progra/dvillas28-iic2233-2023-2/Contenidos/semana-07/apuntes_mios/apuntes_s7_excepciones.ipynb#X61sdnNjb2RlLXJlbW90ZQ%3D%3D?line=0'>1</a>\u001b[0m wallet \u001b[39m=\u001b[39m Wallet(\u001b[39m1000\u001b[39m)\n\u001b[0;32m----> <a href='vscode-notebook-cell://wsl%2Bubuntu/home/dvillas/progra/dvillas28-iic2233-2023-2/Contenidos/semana-07/apuntes_mios/apuntes_s7_excepciones.ipynb#X61sdnNjb2RlLXJlbW90ZQ%3D%3D?line=2'>3</a>\u001b[0m wallet\u001b[39m.\u001b[39;49mcomprar(\u001b[39m10000\u001b[39;49m)\n",
      "\u001b[1;32m/home/dvillas/progra/dvillas28-iic2233-2023-2/Contenidos/semana-07/apuntes_mios/apuntes_s7_excepciones.ipynb Cell 44\u001b[0m line \u001b[0;36m1\n\u001b[1;32m     <a href='vscode-notebook-cell://wsl%2Bubuntu/home/dvillas/progra/dvillas28-iic2233-2023-2/Contenidos/semana-07/apuntes_mios/apuntes_s7_excepciones.ipynb#X61sdnNjb2RlLXJlbW90ZQ%3D%3D?line=12'>13</a>\u001b[0m \u001b[39mdef\u001b[39;00m \u001b[39mcomprar\u001b[39m(\u001b[39mself\u001b[39m, gasto):\n\u001b[1;32m     <a href='vscode-notebook-cell://wsl%2Bubuntu/home/dvillas/progra/dvillas28-iic2233-2023-2/Contenidos/semana-07/apuntes_mios/apuntes_s7_excepciones.ipynb#X61sdnNjb2RlLXJlbW90ZQ%3D%3D?line=14'>15</a>\u001b[0m     \u001b[39mif\u001b[39;00m \u001b[39mself\u001b[39m\u001b[39m.\u001b[39mfondos \u001b[39m-\u001b[39m gasto \u001b[39m<\u001b[39m \u001b[39m0\u001b[39m:\n\u001b[0;32m---> <a href='vscode-notebook-cell://wsl%2Bubuntu/home/dvillas/progra/dvillas28-iic2233-2023-2/Contenidos/semana-07/apuntes_mios/apuntes_s7_excepciones.ipynb#X61sdnNjb2RlLXJlbW90ZQ%3D%3D?line=15'>16</a>\u001b[0m         \u001b[39mraise\u001b[39;00m ErrorTransaccion(\u001b[39mself\u001b[39m\u001b[39m.\u001b[39mfondos, gasto)\n\u001b[1;32m     <a href='vscode-notebook-cell://wsl%2Bubuntu/home/dvillas/progra/dvillas28-iic2233-2023-2/Contenidos/semana-07/apuntes_mios/apuntes_s7_excepciones.ipynb#X61sdnNjb2RlLXJlbW90ZQ%3D%3D?line=17'>18</a>\u001b[0m     \u001b[39melse\u001b[39;00m:\n\u001b[1;32m     <a href='vscode-notebook-cell://wsl%2Bubuntu/home/dvillas/progra/dvillas28-iic2233-2023-2/Contenidos/semana-07/apuntes_mios/apuntes_s7_excepciones.ipynb#X61sdnNjb2RlLXJlbW90ZQ%3D%3D?line=18'>19</a>\u001b[0m         \u001b[39mself\u001b[39m\u001b[39m.\u001b[39mfondos \u001b[39m-\u001b[39m\u001b[39m=\u001b[39m gasto\n",
      "\u001b[0;31mErrorTransaccion\u001b[0m: Solo tienes $1000, no puedes hacer un gasto de $10000"
     ]
    }
   ],
   "source": [
    "wallet = Wallet(1000)\n",
    "\n",
    "wallet.comprar(10000)\n",
    "\n"
   ]
  },
  {
   "cell_type": "code",
   "execution_count": 7,
   "metadata": {},
   "outputs": [
    {
     "name": "stdout",
     "output_type": "stream",
     "text": [
      "Error: revisa la compra, te estas excendiendo en $9000, lo que es mayor a tus fondos de $1000 que puedes gastar\n"
     ]
    }
   ],
   "source": [
    "# tratamos la escepcion\n",
    "try:\n",
    "    wallet.comprar(10000)\n",
    "except ErrorTransaccion as err:\n",
    "    print(f'Error: revisa la compra, te estas excendiendo en ${err.excess()}, lo que es mayor a tus fondos de ${wallet.fondos} que puedes gastar')"
   ]
  }
 ],
 "metadata": {
  "kernelspec": {
   "display_name": "Python 3",
   "language": "python",
   "name": "python3"
  },
  "language_info": {
   "codemirror_mode": {
    "name": "ipython",
    "version": 3
   },
   "file_extension": ".py",
   "mimetype": "text/x-python",
   "name": "python",
   "nbconvert_exporter": "python",
   "pygments_lexer": "ipython3",
   "version": "3.10.12"
  },
  "orig_nbformat": 4
 },
 "nbformat": 4,
 "nbformat_minor": 2
}
