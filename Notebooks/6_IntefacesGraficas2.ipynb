{
 "cells": [
  {
   "cell_type": "markdown",
   "metadata": {},
   "source": [
    "# 1. Threads y PyQt"
   ]
  },
  {
   "cell_type": "markdown",
   "metadata": {},
   "source": [
    "```python\n",
    "import sys\n",
    "from time import sleep\n",
    "from PyQt6.QtCore import pyqtSignal, QThread\n",
    "from PyQt6.QtWidgets import QApplication, QWidget, QLabel, QPushButton\n",
    "\n",
    "\n",
    "class MiThread(QThread):\n",
    "    \"\"\"\n",
    "    Esta clase representa un thread personalizado que será utilizado durante\n",
    "    la ejecución de la GUI.\n",
    "    \"\"\"\n",
    "\n",
    "    def __init__(self, senal_actualizar):\n",
    "        super().__init__()\n",
    "        self.senal_actualizar = senal_actualizar\n",
    "\n",
    "    def run(self):\n",
    "        for i in range(10):\n",
    "            sleep(0.5)\n",
    "            self.senal_actualizar.emit(str(i))\n",
    "\n",
    "        sleep(0.5)\n",
    "        self.senal_actualizar.emit(\"Status: Qthread terminado\")\n",
    "\n",
    "\n",
    "class MiVentana(QWidget):\n",
    "    # Creamos una señal para manejar la respuesta del thread\n",
    "    senal_thread = pyqtSignal(str)\n",
    "\n",
    "    def __init__(self):\n",
    "        super().__init__()\n",
    "        self.thread = None\n",
    "        # Conectamos la señal del thread al método que maneja\n",
    "        self.senal_thread.connect(self.actualizar_labels)\n",
    "\n",
    "        self.init_gui()\n",
    "\n",
    "    def init_gui(self):\n",
    "        # Configuramos los widgets de la interfaz\n",
    "        self.label = QLabel(\"Status: esperando Qthread\", self)\n",
    "        self.boton = QPushButton(\"Ejecutar QThread\", self)\n",
    "        self.boton.clicked.connect(self.ejecutar_threads)\n",
    "\n",
    "        self.label.setGeometry(10, 10, 230, 30)\n",
    "        self.boton.setGeometry(10, 50, 230, 30)\n",
    "\n",
    "        # Configuramos las propiedades de la ventana.\n",
    "        self.setWindowTitle(\"Ejemplo Qthreads\")\n",
    "        self.setGeometry(50, 50, 250, 200)\n",
    "        self.show()\n",
    "\n",
    "    def ejecutar_threads(self):\n",
    "        \"\"\"\n",
    "        Este método crea un thread cada vez que se presiona el botón en la\n",
    "        interfaz. El thread recibirá como argumento la señal sobre la cual\n",
    "        debe operar.\n",
    "        \"\"\"\n",
    "        # Aquí debemos ocupar isRunning en lugar de is_alive\n",
    "        if self.thread is None or not self.thread.isRunning():\n",
    "            self.thread = MiThread(self.senal_thread)\n",
    "            self.thread.start()\n",
    "\n",
    "    def actualizar_labels(self, evento):\n",
    "        \"\"\"\n",
    "        Este método actualiza el label según los datos enviados desde el\n",
    "        thread através del objeto evento. Para este ejemplo, el método\n",
    "        recibe el evento, pero podría también no recibir nada.\n",
    "        \"\"\"\n",
    "        self.label.setText(evento)\n",
    "\n",
    "```"
   ]
  },
  {
   "cell_type": "markdown",
   "metadata": {},
   "source": [
    "1. Ejemplo de un thread usando en el contexto de PyQt\n",
    "- Un thread que se encarga de emitir una señal cada 0.5 segundos\n",
    "\n",
    "- En la ventana principal, asociar esa señal a un metodo que reciba la info procesada por el thread\n",
    "\n",
    "- Crear un widget que se conecte a un metodo que inicie el thread\n",
    "- El thread inicia y va emitiendo la señal\n",
    "- El metodo asociado a la señal se va actualizando"
   ]
  },
  {
   "cell_type": "markdown",
   "metadata": {},
   "source": [
    "## QThread"
   ]
  },
  {
   "cell_type": "markdown",
   "metadata": {},
   "source": [
    "- Lo mismo que un thread, pero creado para funcionar dentro de PyQt\n",
    "- Se define igual. Se puede hacaer *overriding* de `run()`\n",
    "- `is_alive` de `threading` es equivalente al metodo `isRunning` "
   ]
  },
  {
   "cell_type": "markdown",
   "metadata": {},
   "source": [
    "## QMutex"
   ]
  },
  {
   "cell_type": "markdown",
   "metadata": {},
   "source": [
    "- lo mismo que un lock. tiene como metodos `lock` y `unlock`"
   ]
  },
  {
   "cell_type": "markdown",
   "metadata": {},
   "source": [
    "# 2. QTimer"
   ]
  },
  {
   "cell_type": "markdown",
   "metadata": {},
   "source": [
    "- ejecuta una subrutina cada cierto tiempo\n"
   ]
  },
  {
   "cell_type": "markdown",
   "metadata": {},
   "source": [
    "- `setInterval(ms)`: periodo ejecuciones\n",
    "- `timeout.connect(func/mehtod)`: conexion a la subrutina que se quiere ejecutar\n",
    "- `start()`: inicia el timer\n",
    "- `stop()`: detiene la siguente ejecucion del el timer, NO interrumpe el timer, "
   ]
  },
  {
   "cell_type": "markdown",
   "metadata": {},
   "source": [
    "## `singleShot`"
   ]
  },
  {
   "cell_type": "markdown",
   "metadata": {},
   "source": [
    "- para situaciones donde queremos que el timer ejecute du funcion **una unica vez** despues de transcurrido un tiempo determinado\n",
    "- `singleShot(bool)`: indica al timer que este debe ejecutarse 1 vez y luego detenerse\n",
    "- el tiempo de espera se indica con `setInterval(ms)`"
   ]
  },
  {
   "cell_type": "markdown",
   "metadata": {},
   "source": [
    "## Extra"
   ]
  },
  {
   "cell_type": "markdown",
   "metadata": {},
   "source": [
    "- Correcta modularizacion permite reutilizar un front end\n",
    "- cuando se crea un label que va a cambiar, crear en el backend una contrapartr que se preocupe de gestionarlo, puede ser un `QThread`"
   ]
  },
  {
   "cell_type": "markdown",
   "metadata": {},
   "source": [
    "# 3. Miscelaneos"
   ]
  },
  {
   "cell_type": "markdown",
   "metadata": {},
   "source": [
    "## Usar señales siempre es lo ideal"
   ]
  },
  {
   "cell_type": "markdown",
   "metadata": {},
   "source": [
    "## *isAutoRepeat* en *KeyPressEvent*"
   ]
  },
  {
   "cell_type": "markdown",
   "metadata": {},
   "source": [
    "- `isAutoRepeat` entrega un booleano si es que la tecla fue presionada por 1ra vez (True) o si esta siendo mantenida presionada (False)"
   ]
  },
  {
   "cell_type": "code",
   "execution_count": null,
   "metadata": {},
   "outputs": [],
   "source": [
    "def keyPressEvent(self, event):\n",
    "        if event.key() == Qt.Key.Key_W:\n",
    "            self.contador_w += 1\n",
    "            self.label_w_contador.setText(f\"Presionada {self.contador_w} veces\")\n",
    "\n",
    "        # si la tecla es la A si no fue mantenida (su registro no viene de haberla\n",
    "        # mantenido presionada)\n",
    "        if event.key() == Qt.Key.Key_A and not event.isAutoRepeat():\n",
    "            self.contador_a += 1\n",
    "            self.label_a_contador.setText(f\"Presionada {self.contador_a} veces\")"
   ]
  },
  {
   "cell_type": "markdown",
   "metadata": {},
   "source": [
    "## Sonidos en PyQT"
   ]
  },
  {
   "cell_type": "markdown",
   "metadata": {},
   "source": [
    "- Se debe importar\n",
    "\n",
    "```python\n",
    "from PyQt6.QtMultimedia import QMediaPlayer, QAudioOutput, QSoundEffect\n",
    "from PyQt6.QtCore import QUrl\n",
    "\n",
    "\n",
    "```"
   ]
  },
  {
   "cell_type": "markdown",
   "metadata": {},
   "source": [
    "### `QMediaPlayer`"
   ]
  },
  {
   "cell_type": "markdown",
   "metadata": {},
   "source": [
    "- para reproducir archivos .mp3\n",
    "1. Instanciar el objeto: `self.media_player_mp3 = QMediaPlayer(self)`\n",
    "2. Entregarle un objeto tipo QAudioOutput: `self.media_player_mp3.setAudioOutput(QAudioOutput(self))`. Esto es para que el reproductor entienda que va a desplegar un sonido.\n",
    "3. Definir un objeto tipo `QURL` con el paths a nuestro sonido: `file_url = QUrl.fromLocalFile(join(\"sounds\", \"waku-waku.mp3\"))`.\n",
    "4. Entregarle la URL a nuestro reproductor: `self.media_player_mp3.setSource(file_url)`\n",
    "5. Finalmente usar `play()` para reproducir el sonido."
   ]
  },
  {
   "cell_type": "markdown",
   "metadata": {},
   "source": [
    "### `QSoundEffect`"
   ]
  },
  {
   "cell_type": "markdown",
   "metadata": {},
   "source": [
    "- para reproducir archivos .wav\n",
    "\n",
    "1. Instanciar el objeto: `self.media_player_wav = QSoundEffect(self)`\n",
    "2. Definir un objeto tipo `QURL` con el paths a nuestro sonido: `file_url = QUrl.fromLocalFile(join(\"sounds\", \"see-you-again.wav\"))`.\n",
    "3. Entregarle la URL a nuestro reproductor: `self.media_player_wav.setSource(file_url)`\n",
    "4. Finalmente usar `play()` para reproducir el sonido. También podemos usar `stop()` para detenerlo."
   ]
  },
  {
   "cell_type": "markdown",
   "metadata": {},
   "source": [
    "# Apuntes clase"
   ]
  },
  {
   "cell_type": "markdown",
   "metadata": {},
   "source": [
    "![Alt text](image.png)"
   ]
  },
  {
   "cell_type": "markdown",
   "metadata": {},
   "source": [
    "# 4. Main Window"
   ]
  },
  {
   "cell_type": "markdown",
   "metadata": {},
   "source": [
    "- Barra de menu: grupo de comandos organizados\n",
    "\n",
    "- barra de herramientas: acceso rapido a los comanmdos mas utilizados\n",
    "\n",
    "- central widget: cuerpo de la ventana, para agregarle widgets se usa `setCentralWidget(widget)`\n",
    "\n",
    "- Barra de estado: muestra info del estado de la aplicacion. `QApplication.statusBar()`"
   ]
  },
  {
   "cell_type": "markdown",
   "metadata": {},
   "source": [
    "### Acciones"
   ]
  },
  {
   "cell_type": "markdown",
   "metadata": {},
   "source": [
    "- Creamos acciones (comandos) con `QAction`\n",
    "- indicamos que hacen con `setStatusTip`, util para la barra de estado\n",
    "\n",
    "- usamos `accion.triggered.conect()` para conectar la accion a un metodo que queramos que se ejecute"
   ]
  },
  {
   "cell_type": "markdown",
   "metadata": {},
   "source": [
    "```python\n",
    "\"\"\"Configuramos las acciones.\"\"\"\n",
    "ver_status = QAction(QIcon(None), \"&CambiaStatus\", self)\n",
    "ver_status.setStatusTip(\"Este es un ítem de prueba\")\n",
    "ver_status.triggered.connect(self.cambiar_status_bar)\n",
    "\n",
    "limpiar_status = QAction(QIcon(None), \"&LimpiaStatus\", self)\n",
    "limpiar_status.setStatusTip(\"Esta acción limpia la barra de estado\")\n",
    "limpiar_status.triggered.connect(self.limpiar_status_bar)\n",
    "\n",
    "buscar = QAction(QIcon(os.path.join(\"img\", \"search_icon.png\")), \"&Search\", self)\n",
    "buscar.setStatusTip(\"Un ícono de búsqueda\")\n",
    "\n",
    "salir = QAction(QIcon(None), \"&Exit\", self)\n",
    "salir.setShortcut(\"Ctrl+Q\")\n",
    "salir.setStatusTip(\"Salir de la aplicación\")\n",
    "salir.triggered.connect(QApplication.quit)\n",
    "\n",
    "```"
   ]
  },
  {
   "cell_type": "markdown",
   "metadata": {},
   "source": [
    "### Barra de Menu\n",
    "- creamos una barra de menu con `menuBar()`\n",
    "- le añadimos submenus con `menuBar.addMenu(name)`"
   ]
  },
  {
   "cell_type": "markdown",
   "metadata": {},
   "source": [
    "```python\n",
    "\n",
    "menubar = self.menuBar()\n",
    "archivo_menu = menubar.addMenu(\"Archivo\")  # primemenú\n",
    "archivo_menu.addAction(ver_status)\n",
    "archivo_menu.addAction(salir)\n",
    "```"
   ]
  },
  {
   "cell_type": "markdown",
   "metadata": {},
   "source": [
    "### Barra de herramientas\n",
    "- creamos una barra de herramientas con `addToolBar(name)`\n"
   ]
  },
  {
   "cell_type": "markdown",
   "metadata": {},
   "source": [
    "```python\n",
    "toolbar = self.addToolBar(\"Toolbar\")\n",
    "toolbar.addAction(buscar)\n",
    "toolbar.addAction(salir)\n",
    "```"
   ]
  },
  {
   "cell_type": "markdown",
   "metadata": {},
   "source": [
    "- para ambos, añadimos acciones con `addAction`"
   ]
  }
 ],
 "metadata": {
  "language_info": {
   "name": "python"
  },
  "orig_nbformat": 4
 },
 "nbformat": 4,
 "nbformat_minor": 2
}
