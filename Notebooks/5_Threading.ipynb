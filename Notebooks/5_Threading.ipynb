{
 "cells": [
  {
   "cell_type": "markdown",
   "metadata": {},
   "source": [
    "# Threading"
   ]
  },
  {
   "cell_type": "markdown",
   "metadata": {},
   "source": [
    "- Para poder ejecutar multiples **flujos de instrucciones** a la vez."
   ]
  },
  {
   "cell_type": "markdown",
   "metadata": {},
   "source": [
    "## Procesos y núcleos"
   ]
  },
  {
   "cell_type": "markdown",
   "metadata": {},
   "source": [
    "1. **Proceso**: Programa en ejecucion que ocupa espacio en la RAM del PC. Se sigue un flujo de instrucciones.\n",
    "\n",
    "2. **Nucleos**: La CPU ejecuta instrucciones en un nucleo, es el que hace la aritmetica y pasa linea a linea\n",
    "\n",
    "- CPUs modernas tienen multiples nucleos, por lo que pueden haber muchos procesos eejcutandose de manera *paralela*\n",
    "\n",
    "- Cuando hay mas procesos que nucleos, los 1ros se ponen en cola esperando su turno para ser ejecutados por un nucleo disponible. El OS se encarga de ejecutar procesos y pausarlos para ejecutar otros, y dar una sensacion de que todo se esta ejecutando de manera simultanea\n",
    "\n",
    "- Los *threads* pueden hacer que varios nucleos ejecuten **distintos flujos de instrucciones** de un **mismo proceso** (nuestro programa, por ejemplo) al mismo tiempo"
   ]
  },
  {
   "cell_type": "markdown",
   "metadata": {},
   "source": [
    "## Threads"
   ]
  },
  {
   "cell_type": "markdown",
   "metadata": {},
   "source": [
    "- Thread: Unidad de ejecucion dentro de un proceso. LLeva la cuente de en que parte del codigo estamos ejecutando\n",
    "\n",
    "- Lleva sus propias variables locales y en que parte del codigo de encuentra "
   ]
  },
  {
   "cell_type": "markdown",
   "metadata": {},
   "source": [
    "![Alt text](imgs/5_threads.png)"
   ]
  },
  {
   "cell_type": "markdown",
   "metadata": {},
   "source": [
    "La ejecucion de varios threads sigue esta secuencia (*thread scheduling*) \n",
    "1. Se escoge un *thread* entre los que están disponible para ejecutar.\n",
    "2. Se ejecuta un cierto número de instrucciones de ese *thread*, o durante un cierto tiempo.\n",
    "3. Se deja el *thread* actual en espera.\n",
    "4. Se vuelve al paso 1."
   ]
  },
  {
   "cell_type": "markdown",
   "metadata": {},
   "source": [
    "- En el caso de un solo nucleo, no hay paralelismo, pero la ejecucion es tan rapida entre threads que da la sensacion de una ejecucion en paralelo\n",
    "\n",
    "- Esto hace que los programas sean mas lentos, pero a cambio es mas sencillo en el aspecto de la programacion, ya que solo nos preocupamos de que se ejecuten los threads, no de como estos saltan de uno a otro (manejado por el OS)\n",
    "\n",
    "- En el caso de multiples nucleos: Se aprovecha el paralelismo ejecutando threads distintos en los varios nucleos. Dando como resultado una ejecucion del programa mas rapida"
   ]
  },
  {
   "cell_type": "markdown",
   "metadata": {},
   "source": [
    "## Uso"
   ]
  },
  {
   "cell_type": "markdown",
   "metadata": {},
   "source": [
    "1. **Separacion de funciones independientes**: Pueden trabajar sobre el mismo conjunto de datos, pero no se afectan entre si (pueden ejecutarse a la vez)\n",
    "\n",
    "2. **Interfaces graficas**: Threads de computo pesado y threads de parte visual, por ejemplo\n",
    "\n",
    "3. **Aplicaciones de multiples usuarios**"
   ]
  },
  {
   "cell_type": "markdown",
   "metadata": {},
   "source": [
    "## Extra"
   ]
  },
  {
   "cell_type": "markdown",
   "metadata": {},
   "source": [
    "- en print, el imprimir el texto y luego un `\\n` son *dos intrucciones distintas*, por lo que es posible que el OS detenga un thread justo en medio de esto y se impriman ambos por separado"
   ]
  },
  {
   "cell_type": "markdown",
   "metadata": {},
   "source": [
    "### Threads donde `target` tiene paremetros\n",
    "- En el caso de funciones con parametros, podemos entregar argumentos usando los atributos `args` y `kwargs` del objeto thread"
   ]
  },
  {
   "cell_type": "markdown",
   "metadata": {},
   "source": [
    "### Threads con OOP\n",
    "- Podemos crear una clase que herede de un thread\n",
    "- Para las instrucciones que ejecute la instancia del thread, se hace *override* al metodo `run()` (el que se ejecuta luego de `start()` en el thread)."
   ]
  },
  {
   "cell_type": "markdown",
   "metadata": {},
   "source": [
    "## `join()`"
   ]
  },
  {
   "cell_type": "markdown",
   "metadata": {},
   "source": [
    "- A veces es el programa principal (el `MainThread`) necesita que otros threads terminen antes de continuar ejecutandose\n",
    "- `thread1.join(timeout=None)` detiene al programa principal hasta que `thread1` termine de ejecutarse\n",
    "- Podemos especificar un `timeout` (en *s*) para esperar a `thread1` un tiempo determinado y luego seguir ejecutando el `MainThread`"
   ]
  },
  {
   "cell_type": "markdown",
   "metadata": {},
   "source": [
    "- Cualquier thread puede **esperar** a otro usando el metodo `join()`"
   ]
  },
  {
   "cell_type": "markdown",
   "metadata": {},
   "source": [
    "## `is_alive()`"
   ]
  },
  {
   "cell_type": "markdown",
   "metadata": {},
   "source": [
    "- booleano para saber el estado del thread despues de un uso de join(), **despues de haber definido su tiempo maximo de espera**"
   ]
  },
  {
   "cell_type": "markdown",
   "metadata": {},
   "source": [
    "## *Daemons*"
   ]
  },
  {
   "cell_type": "markdown",
   "metadata": {},
   "source": [
    "- threads que no impiden que el programa termine aun que sigan corriendo\n",
    "- podemos dejarlos corriendo y no preocuarnos de verificar su termino si el programa principal necesita terminar"
   ]
  },
  {
   "cell_type": "markdown",
   "metadata": {},
   "source": [
    "- El programa principal termina cuando todos los threads no deamon terminan\n",
    "- Un thread se especifica como daemon, se especifica en el parametro `daemon=True`\n",
    "- No se puede cambiar el bool de daemon despues de haber iniciado el programa\n",
    "\n",
    "- Utiles para ejecutar tareas no criticas para el funcionamoento del programa\n",
    "- Para tareas esporadicas, periodicas (data save/load) o que se necesita que duren mientras el programa este activo (monitoreo de un recurso o variable)"
   ]
  },
  {
   "cell_type": "markdown",
   "metadata": {},
   "source": [
    "## *Timers*"
   ]
  },
  {
   "cell_type": "markdown",
   "metadata": {},
   "source": [
    "- subclase de `Thread` que ejecuta un proceso despues que ha pasado un cierto tiempo\n",
    "- `cancel()`: permite cancelar la ejecucion del *timer* si se necesita\n",
    "- `th.Timer(t, func_a_ejecutar, args, kwargs)` donde `t` es el tiempo en segundos despues el cual debe ejecutarse el thread"
   ]
  },
  {
   "cell_type": "markdown",
   "metadata": {},
   "source": [
    "# Concurrencia"
   ]
  },
  {
   "cell_type": "markdown",
   "metadata": {},
   "source": [
    "- Uso de threads psudo paralelos"
   ]
  },
  {
   "cell_type": "markdown",
   "metadata": {},
   "source": [
    "- Threads que modifan un valor u atributo a la vez, generan problemas, ya que es posible que uno de los threads lea un valor no actualizado del atributo\n",
    "\n",
    "1. Operacion **atomica**: operacion que un *thread* solo puede iniciar si ningun otro thread la esta ejecutando\n",
    "- Instrucciones atomicas: Seccion critica"
   ]
  },
  {
   "cell_type": "markdown",
   "metadata": {},
   "source": [
    "## Sincronizacion de *Threads*"
   ]
  },
  {
   "cell_type": "markdown",
   "metadata": {},
   "source": [
    "### `Lock()`"
   ]
  },
  {
   "cell_type": "markdown",
   "metadata": {},
   "source": [
    "- objeto que bloquea ciertas partes de un codigo (secciones criticas) para asegurar que un solo thread la esta ejecutando a la vez\n",
    "- ``lock().acquire`` - bloquear\n",
    "- ``lock().release`` - desbloquar\n",
    "\n",
    "- La instancia de lock debe ser **compartido entre los threads** que necesitan acceder a la misma instruccion. Esto con el objetivo de que solo haya un thread que pueda pasar por encima del metodo `acquire()`\n",
    "- utilizar como atributo de clase en clases que hereden de thread"
   ]
  },
  {
   "cell_type": "markdown",
   "metadata": {},
   "source": [
    "### Locks y Context Managers (sentencia `with`)\n",
    "- el `with` se encarga de llamar a `acquire()` al iniciar y `release()` al finalizar. Lo que encapsula a toda la seccion critica dentro de la identacion"
   ]
  },
  {
   "cell_type": "markdown",
   "metadata": {},
   "source": [
    "### `Event` - señales entre *threads*"
   ]
  },
  {
   "cell_type": "markdown",
   "metadata": {},
   "source": [
    "- util para unos threads esperen a otros\n",
    "- Un `Event()` puede ser manipulado de las siguentes formas\n",
    "1. `wait()` . El thread pausa su ejecucion y se queda esperando a que otro thread active la señal\n",
    "\n",
    "2. `set()` Se activa la señal, todos los threads que la estaban esperando pueden continuar\n",
    "\n",
    "3. `is_set()` un thread puede consultar si una señal esta activada sin necesidad de llamar a `wait()` y pausarse. Esto por ejemplo serviria para programar que hacen en caso de que la señal aun no esta activada\n",
    "\n",
    "4. `clear()` apaga una señal para poder ser usada de nuevo"
   ]
  },
  {
   "cell_type": "markdown",
   "metadata": {},
   "source": [
    "### *Deadlocks*"
   ]
  },
  {
   "cell_type": "markdown",
   "metadata": {},
   "source": [
    "- Situacion donde **dos o mas threads se esperan mutuamente**\n",
    "\n",
    "- Caso en con `Lock()`: Surgen cuando un thread bloquea un lock1 y otro un lock2, pero luego el primero necesita el lock2 para desbloquear lock1, y el segundo necesita el lock1 para desbloquear lock2, pero como lock2 y lock1 estan bloqueados, no se puede hacer nada \n",
    "\n",
    "- Caso con `Event()`: Surgen cuando se invierte el orden en el que se revisan y levantan señales. Cuando se **espera** una señal (que la active otro thread), **antes** de haber avisado que hizo su trabajo"
   ]
  }
 ],
 "metadata": {
  "language_info": {
   "name": "python"
  },
  "orig_nbformat": 4
 },
 "nbformat": 4,
 "nbformat_minor": 2
}
