{
 "cells": [
  {
   "cell_type": "markdown",
   "metadata": {},
   "source": [
    "# 1. Herencia"
   ]
  },
  {
   "cell_type": "markdown",
   "metadata": {},
   "source": [
    "Objetivo: crear una clase Futbolista, hija de la superclase Deportista"
   ]
  },
  {
   "cell_type": "code",
   "execution_count": 77,
   "metadata": {},
   "outputs": [],
   "source": [
    "class Deportista():\n",
    "    def __init__(self, nombre, peso, altura) -> None:\n",
    "        self.nombre: str = nombre\n",
    "        self.peso: float = peso\n",
    "        self.altura: float = altura\n",
    "\n",
    "    def presentarse(self):\n",
    "        print(f'Hola! soy {self.nombre}, peso {self.peso} y mido {self.altura}')\n",
    "\n",
    "    def calentar(self):\n",
    "        print(f'Estoy elongando para preparme para hacer deporte')"
   ]
  },
  {
   "cell_type": "code",
   "execution_count": 78,
   "metadata": {},
   "outputs": [],
   "source": [
    "class Futbolista(Deportista):\n",
    "    \"\"\"Subclase de Deportista\"\"\"\n",
    "\n",
    "    def __init__(self, nombre, peso, altura, equipo) -> None:\n",
    "        \n",
    "        # entrega de atributos llamando al inicializador de la clase superior\n",
    "        #Deportista.__init__(self, nombre, peso, altura)\n",
    "\n",
    "        # Pero mejor podemos llamar al __init__ original sin mencionarlo explicitamente\n",
    "        # acá no es necesario poner el self, solo los atributos que necesita la superclase\n",
    "        super().__init__(nombre, peso, altura)\n",
    "\n",
    "        self.equipo = equipo\n",
    "\n",
    "    # metodo especifico de esta subclase\n",
    "    def dominar(self):\n",
    "        print(f'Dominando el balon')\n",
    "\n",
    "    # metodo especifico de esta subclase\n",
    "    def mostrar_equipo(self):\n",
    "        print(f'{self.nombre} juega en el {self.equipo}')\n",
    "\n",
    "    # overriding de un metodo de Deportista, metodo especializado para el Futbolista\n",
    "    def calentar(self):\n",
    "        print(f'Estoy elongando para calentar piernas')"
   ]
  },
  {
   "cell_type": "code",
   "execution_count": 79,
   "metadata": {},
   "outputs": [],
   "source": [
    "# deportista generico\n",
    "deportista_generico = Deportista('Dani', 60, 1.59)"
   ]
  },
  {
   "cell_type": "code",
   "execution_count": 80,
   "metadata": {},
   "outputs": [
    {
     "name": "stdout",
     "output_type": "stream",
     "text": [
      "Hola! soy Dani, peso 60 y mido 1.59\n",
      "Estoy elongando para preparme para hacer deporte\n"
     ]
    }
   ],
   "source": [
    "deportista_generico.presentarse()\n",
    "deportista_generico.calentar()"
   ]
  },
  {
   "cell_type": "code",
   "execution_count": 81,
   "metadata": {},
   "outputs": [],
   "source": [
    "# futbolista\n",
    "fut = Futbolista('Alexis', 90, 1.70, 'Arsenal')"
   ]
  },
  {
   "cell_type": "code",
   "execution_count": 82,
   "metadata": {},
   "outputs": [
    {
     "name": "stdout",
     "output_type": "stream",
     "text": [
      "Hola! soy Alexis, peso 90 y mido 1.7\n",
      "Estoy elongando para calentar piernas\n"
     ]
    }
   ],
   "source": [
    "# podemos usar los metodos de la super clase\n",
    "fut.presentarse()\n",
    "fut.calentar()"
   ]
  },
  {
   "cell_type": "code",
   "execution_count": 83,
   "metadata": {},
   "outputs": [
    {
     "name": "stdout",
     "output_type": "stream",
     "text": [
      "Dominando el balon\n",
      "Alexis juega en el Arsenal\n"
     ]
    }
   ],
   "source": [
    "# como tambien los suyos propios\n",
    "fut.dominar()\n",
    "fut.mostrar_equipo()"
   ]
  },
  {
   "cell_type": "code",
   "execution_count": 84,
   "metadata": {},
   "outputs": [
    {
     "name": "stdout",
     "output_type": "stream",
     "text": [
      "Estoy elongando para preparme para hacer deporte\n",
      "Estoy elongando para calentar piernas\n"
     ]
    }
   ],
   "source": [
    "# los metodos con el mismo nombre actuan distinto al ser llamados por clases distintas\n",
    "deportista_generico.calentar()\n",
    "fut.calentar()"
   ]
  },
  {
   "cell_type": "code",
   "execution_count": 85,
   "metadata": {},
   "outputs": [
    {
     "name": "stdout",
     "output_type": "stream",
     "text": [
      "Tipo Deportista: <class '__main__.Deportista'>\n",
      "Tipo Futbolista: <class '__main__.Futbolista'>\n"
     ]
    }
   ],
   "source": [
    "print(f'Tipo Deportista: {type(deportista_generico)}')\n",
    "print(f'Tipo Futbolista: {type(fut)}')"
   ]
  },
  {
   "cell_type": "code",
   "execution_count": 90,
   "metadata": {},
   "outputs": [
    {
     "name": "stdout",
     "output_type": "stream",
     "text": [
      "Alexis juega en el Arsenal\n"
     ]
    }
   ],
   "source": [
    "fut.mostrar_equipo()"
   ]
  },
  {
   "cell_type": "code",
   "execution_count": 86,
   "metadata": {},
   "outputs": [],
   "source": [
    "class Nadador(Deportista):\n",
    "    def __init__(self, nombre, peso, altura, team) -> None:\n",
    "        super().__init__(nombre, peso, altura)\n",
    "        self.team = team\n",
    "\n",
    "    def nadar(self):\n",
    "        print(f'Nadando como un campeon por {self.team}')\n",
    "    \n",
    "    def calentar(self):\n",
    "        print(f'Estoy elongando para que no me de un calambre en el agua')"
   ]
  },
  {
   "cell_type": "code",
   "execution_count": 87,
   "metadata": {},
   "outputs": [
    {
     "name": "stdout",
     "output_type": "stream",
     "text": [
      "Hola! soy Phelps, peso 100 y mido 1.9\n"
     ]
    }
   ],
   "source": [
    "nad = Nadador('Phelps', 100, 1.90, 'EEUU')\n",
    "nad.presentarse()"
   ]
  },
  {
   "cell_type": "code",
   "execution_count": 88,
   "metadata": {},
   "outputs": [
    {
     "name": "stdout",
     "output_type": "stream",
     "text": [
      "Estoy elongando para preparme para hacer deporte\n",
      "Estoy elongando para calentar piernas\n",
      "Estoy elongando para que no me de un calambre en el agua\n"
     ]
    }
   ],
   "source": [
    "deportista_generico.calentar()\n",
    "fut.calentar()\n",
    "nad.calentar()"
   ]
  },
  {
   "cell_type": "code",
   "execution_count": 89,
   "metadata": {},
   "outputs": [
    {
     "name": "stdout",
     "output_type": "stream",
     "text": [
      "Nadando como un campeon por EEUU\n"
     ]
    }
   ],
   "source": [
    "nad.nadar()"
   ]
  },
  {
   "cell_type": "markdown",
   "metadata": {},
   "source": [
    "## 1.1 Herencias built-ins"
   ]
  },
  {
   "cell_type": "markdown",
   "metadata": {},
   "source": [
    "Objetivo: extender la clase list"
   ]
  },
  {
   "cell_type": "code",
   "execution_count": 100,
   "metadata": {},
   "outputs": [],
   "source": [
    "class SchoolList(list):\n",
    "\n",
    "    # dos metodos propios de SchoolList\n",
    "    \n",
    "    def pasar_lista(self):\n",
    "        for alumno in self:\n",
    "            print(f'{alumno} presente!')\n",
    "\n",
    "    def quitar_dup(self):\n",
    "        clean_list = []  # lista sin duplicados\n",
    "\n",
    "        for alumno in self:\n",
    "            if alumno not in clean_list:\n",
    "                clean_list.append(alumno)\n",
    "\n",
    "        return clean_list"
   ]
  },
  {
   "cell_type": "code",
   "execution_count": 94,
   "metadata": {},
   "outputs": [],
   "source": [
    "lista_clases = SchoolList()\n",
    "\n",
    "# notar que podemos usar los metodos de la clase list de python\n",
    "\n",
    "lista_clases.append('daniel v')\n",
    "lista_clases.append('cris p')\n",
    "lista_clases.append('xavier s')\n",
    "lista_clases.append('rafael v')\n",
    "lista_clases.append('diego g')"
   ]
  },
  {
   "cell_type": "code",
   "execution_count": 95,
   "metadata": {},
   "outputs": [
    {
     "name": "stdout",
     "output_type": "stream",
     "text": [
      "daniel v presente!\n",
      "cris p presente!\n",
      "xavier s presente!\n",
      "rafael v presente!\n",
      "diego g presente!\n"
     ]
    }
   ],
   "source": [
    "lista_clases.pasar_lista()"
   ]
  },
  {
   "cell_type": "code",
   "execution_count": 96,
   "metadata": {},
   "outputs": [
    {
     "name": "stdout",
     "output_type": "stream",
     "text": [
      "daniel v presente!\n",
      "cris p presente!\n",
      "xavier s presente!\n",
      "rafael v presente!\n",
      "diego g presente!\n",
      "daniel v presente!\n"
     ]
    }
   ],
   "source": [
    "lista_clases.append('daniel v')\n",
    "lista_clases.pasar_lista()"
   ]
  },
  {
   "cell_type": "code",
   "execution_count": 97,
   "metadata": {},
   "outputs": [],
   "source": [
    "# el metodo no actua sobre la lista misma, si no que retorna una nueva\n",
    "lista_sin_dups = lista_clases.quitar_dup()"
   ]
  },
  {
   "cell_type": "code",
   "execution_count": 98,
   "metadata": {},
   "outputs": [
    {
     "data": {
      "text/plain": [
       "['daniel v', 'cris p', 'xavier s', 'rafael v', 'diego g']"
      ]
     },
     "execution_count": 98,
     "metadata": {},
     "output_type": "execute_result"
    }
   ],
   "source": [
    "lista_sin_dups"
   ]
  },
  {
   "cell_type": "code",
   "execution_count": 99,
   "metadata": {},
   "outputs": [
    {
     "data": {
      "text/plain": [
       "['daniel v', 'cris p', 'xavier s', 'rafael v', 'diego g', 'daniel v']"
      ]
     },
     "execution_count": 99,
     "metadata": {},
     "output_type": "execute_result"
    }
   ],
   "source": [
    "lista_clases"
   ]
  },
  {
   "cell_type": "markdown",
   "metadata": {},
   "source": [
    "# 2. Polimorfismo"
   ]
  },
  {
   "cell_type": "markdown",
   "metadata": {},
   "source": [
    "## *Overriding*: Invocacion del mismo metodo sobre objetos de distinto tipo, donde cada uno lo interpreta de acurdo a como esta definido"
   ]
  },
  {
   "cell_type": "markdown",
   "metadata": {},
   "source": [
    "Ejemplo: Clase animal con las subclases Ave y Pez"
   ]
  },
  {
   "cell_type": "code",
   "execution_count": 6,
   "metadata": {},
   "outputs": [],
   "source": [
    "class Animal():\n",
    "    def __init__(self, name):\n",
    "        self.name = name\n",
    "\n",
    "    def moverse(self):\n",
    "        # cumple una funcion distinta dependiendo del tipo\n",
    "        pass\n",
    "\n",
    "    def presentarse(self):\n",
    "        print(f'{self.name} es un animal')\n",
    "\n",
    "class Ave(Animal):\n",
    "    def __init__(self, name):\n",
    "        super().__init__(name)\n",
    "\n",
    "    def moverse(self):\n",
    "        # posible implementacion de movimiento distinta\n",
    "        print(f'{self.name} llega volando a su destino')\n",
    "\n",
    "\n",
    "class Pez(Animal):\n",
    "    def __init__(self, name):\n",
    "        super().__init__(name)\n",
    "\n",
    "    def moverse(self):\n",
    "        # posible implementacion de movimiento distinta a la del ave\n",
    "        print(f'{self.name} llega nadando a su destino')"
   ]
  },
  {
   "cell_type": "code",
   "execution_count": 7,
   "metadata": {},
   "outputs": [],
   "source": [
    "paco = Pez('Paco')\n",
    "juan = Ave('Juan')"
   ]
  },
  {
   "cell_type": "code",
   "execution_count": 8,
   "metadata": {},
   "outputs": [
    {
     "name": "stdout",
     "output_type": "stream",
     "text": [
      "Paco es un animal\n",
      "Juan es un animal\n"
     ]
    }
   ],
   "source": [
    "paco.presentarse()\n",
    "juan.presentarse()"
   ]
  },
  {
   "cell_type": "code",
   "execution_count": 10,
   "metadata": {},
   "outputs": [
    {
     "name": "stdout",
     "output_type": "stream",
     "text": [
      "Paco llega nadando a su destino\n",
      "Juan llega volando a su destino\n"
     ]
    }
   ],
   "source": [
    "# comportamiento polimorfico\n",
    "animales = [paco, juan]\n",
    "\n",
    "for animal in animales:\n",
    "    animal.moverse()"
   ]
  },
  {
   "cell_type": "markdown",
   "metadata": {},
   "source": [
    "## *Overloading*: definir mas de una vez la misma funcion con diferente tipo de argumentos\n",
    "- Python no soporta overloading por completo\n",
    "- los built in en python soportar overloading\n",
    "- podemos personalizar la mayoria de operadores en python\n",
    "- `+` : `__add__`\n",
    "- `<` : `__lt__`\n",
    "\n",
    "\n",
    "- `__str()__` for the users, `__repr__()` for the developer, print toma el primero, si es que no esta implementado, toma el segundo"
   ]
  },
  {
   "cell_type": "markdown",
   "metadata": {},
   "source": [
    "## Duck Typing\n",
    "- No importa de que tipo sea un objeto, mientras contenga la accion (metodo)\n",
    "- Caracteristica propia de algunos lenguajes (como Python), donde se determina el tipo de un objeto al ser ejecutado, esto es un comportamiento dinamico que otros lenguajes no permiten\n",
    "\n",
    "- por ejemplo al definir una funcion que llame a algunos metodos de una clase, algunos lenguajes estaticos exijen que se especifique el tipo del argumento\n",
    "mientras que a python no le interesa el tipo de argumento mientras tenga ese metodo definido, de lo contrario tira error"
   ]
  },
  {
   "cell_type": "markdown",
   "metadata": {},
   "source": [
    "## idea final\n",
    "\n",
    "***Polimorfismo***: *como* usar algo en diferentes contextos (tipos), definiendo el metodo \n",
    "\n",
    "***Duck Typing***: usar algo *sin importar* el contexto (el tipo), mientras exista el metodo"
   ]
  },
  {
   "cell_type": "markdown",
   "metadata": {},
   "source": [
    "# 3. Multiherencia"
   ]
  },
  {
   "cell_type": "markdown",
   "metadata": {},
   "source": [
    "- Es posible que una clase herede de mas de una clase, el probema surge en el manejo del llamado de los `__init__` de las superclases\n",
    "- For multiple inheritance `super()` does not work\n",
    "- These [**video**](https://www.youtube.com/watch?v=uYu4hCjYDhY) explains how to apply it (pero aparece diamante :())"
   ]
  },
  {
   "cell_type": "markdown",
   "metadata": {},
   "source": [
    "## Aplicando con el llamado de `__init__` de cada superclase Forma 1 (Problema del diamante)"
   ]
  },
  {
   "cell_type": "markdown",
   "metadata": {},
   "source": [
    "### Forma 1: Implementacion incorreta del `__init__` de la subclase `Academico`.\n",
    "El problema es que al llamar dos veces un `__init__` (uno por cada superclase, indicando su nombre y el `self`), entonces cada superclase respectiva llama a su `__init__` en su definicion, donde cada una llama al `__init__` de `object`, la superclase de todas las clases"
   ]
  },
  {
   "cell_type": "code",
   "execution_count": null,
   "metadata": {},
   "outputs": [],
   "source": [
    "class Investigador:\n",
    "    \"\"\"Un investigador que investiga un area\"\"\"\n",
    "    def __init__(self, area):\n",
    "        self.area = area\n",
    "        self.num_publis = 0\n",
    "        # llamado oculto al init de object\n",
    "\n",
    "class Docente:\n",
    "    \"\"\"Un docente que ejerce docencia en un departamento\"\"\"\n",
    "    def __init__(self, departamento):\n",
    "        self.departamento = departamento\n",
    "        self.num_cursos = 3\n",
    "        # llamado oculto al init de object\n",
    "\n",
    "class Academico(Docente, Investigador):\n",
    "    \"\"\"Un Academico que es Docente e Investigador a la vez, tiene un nombre y una oficina\"\"\"\n",
    "    def __init__(self, nombre, oficina, area, departamento):\n",
    "        Investigador.__init__(self, area)  # init de la superclase\n",
    "\n",
    "        Docente.__init__(self, departamento)  # init de la otra superclase\n",
    "\n",
    "        # atributos propios de la subclase\n",
    "        self.nombre = nombre\n",
    "        self.oficina = oficina"
   ]
  },
  {
   "cell_type": "markdown",
   "metadata": {},
   "source": [
    "## Problema del Diamante"
   ]
  },
  {
   "cell_type": "markdown",
   "metadata": {},
   "source": [
    "La clase `Madre` es la clase de la que vienen todas, y el metodo `llamar()` es analogo al `__init__`"
   ]
  },
  {
   "cell_type": "code",
   "execution_count": 4,
   "metadata": {},
   "outputs": [],
   "source": [
    "class Madre:\n",
    "    llamados_a_madre = 0\n",
    "    def llamar(self):\n",
    "        print('Llamado a Madre')\n",
    "        self.llamados_a_madre += 1\n",
    "\n",
    "class HijoIzq(Madre):\n",
    "    llamados_a_HijoIzq = 0\n",
    "    def llamar(self):\n",
    "        print('Llamando al Hijo Izquierdo')\n",
    "        Madre.llamar(self) # llamado interno EXPLICITO\n",
    "        self.llamados_a_HijoIzq += 1\n",
    "\n",
    "class HijoDer(Madre):\n",
    "    llamados_a_HijoDer = 0\n",
    "    def llamar(self):\n",
    "        print('Llamando al Hijo Derecho')\n",
    "        Madre.llamar(self)  # llamado interno EXPLICITO\n",
    "        self.llamados_a_HijoDer += 1\n",
    "\n",
    "class Nieto(HijoIzq, HijoDer):\n",
    "    llamados_a_nieto = 0\n",
    "    def llamar(self):\n",
    "        print('Llamando al nieto')\n",
    "\n",
    "        HijoIzq.llamar(self) # llamdo de inicializacion\n",
    "        HijoDer.llamar(self) # llamdao de inicializacion\n",
    "\n",
    "        self.llamados_a_nieto += 1"
   ]
  },
  {
   "cell_type": "markdown",
   "metadata": {},
   "source": [
    "Podemos ver como se llamo a `Madre` dos veces con `llamar()` en el llamado interno, esto es lo mismo que pasó con `object` y el `__init__`"
   ]
  },
  {
   "cell_type": "code",
   "execution_count": 5,
   "metadata": {},
   "outputs": [
    {
     "name": "stdout",
     "output_type": "stream",
     "text": [
      "Llamando al nieto\n",
      "Llamando al Hijo Izquierdo\n",
      "Llamado a Madre\n",
      "Llamando al Hijo Derecho\n",
      "Llamado a Madre\n",
      "-----------------------\n",
      "LLamados al Nieto: 1\n",
      "LLamados al Hijo Izq: 1\n",
      "LLamados al Hijo Der: 1\n",
      "LLamados al Madre: 2\n"
     ]
    }
   ],
   "source": [
    "s = Nieto()\n",
    "s.llamar()\n",
    "\n",
    "print('-----------------------')\n",
    "print(f\"LLamados al Nieto: {s.llamados_a_nieto}\")\n",
    "print(f\"LLamados al Hijo Izq: {s.llamados_a_HijoIzq}\")\n",
    "print(f\"LLamados al Hijo Der: {s.llamados_a_HijoDer}\")\n",
    "print(f\"LLamados al Madre: {s.llamados_a_madre}\")"
   ]
  },
  {
   "cell_type": "markdown",
   "metadata": {},
   "source": [
    "## Solucion al problema: llamado con `super()` y el algoritmo C3"
   ]
  },
  {
   "cell_type": "markdown",
   "metadata": {},
   "source": [
    "En vez de que las clases `HijoIzq` y `HijoDer` llamen internamente a `Madre` directamente, solamente la llamamos con `super()`, Python se encarga de resolver la jerarquia (la saca de `__mro__`)"
   ]
  },
  {
   "cell_type": "code",
   "execution_count": 6,
   "metadata": {},
   "outputs": [],
   "source": [
    "class Madre:\n",
    "    llamados_a_madre = 0\n",
    "    def llamar(self):\n",
    "        print('Llamado a Madre')\n",
    "        self.llamados_a_madre += 1\n",
    "\n",
    "class HijoIzq(Madre):\n",
    "    llamados_a_HijoIzq = 0\n",
    "    def llamar(self):\n",
    "        print('Llamando al Hijo Izquierdo')\n",
    "        super().llamar() # llamado interno a la superclase\n",
    "        self.llamados_a_HijoIzq += 1\n",
    "\n",
    "class HijoDer(Madre):\n",
    "    llamados_a_HijoDer = 0\n",
    "    def llamar(self):\n",
    "        print('Llamando al Hijo Derecho')\n",
    "        super().llamar()  # llamado interno a la superclase\n",
    "        self.llamados_a_HijoDer += 1\n",
    "\n",
    "class Nieto(HijoIzq, HijoDer):\n",
    "    llamados_a_nieto = 0\n",
    "    def llamar(self):\n",
    "        print('Llamando al nieto')\n",
    "\n",
    "        super().llamar() # llamdo de inicializacion a la superclase/s\n",
    "        \n",
    "        self.llamados_a_nieto += 1"
   ]
  },
  {
   "cell_type": "markdown",
   "metadata": {},
   "source": [
    "Podemos notar el orden de llamados coincide con `__mro__`"
   ]
  },
  {
   "cell_type": "code",
   "execution_count": 7,
   "metadata": {},
   "outputs": [
    {
     "name": "stdout",
     "output_type": "stream",
     "text": [
      "Llamando al nieto\n",
      "Llamando al Hijo Izquierdo\n",
      "Llamando al Hijo Derecho\n",
      "Llamado a Madre\n",
      "-----------------------\n",
      "LLamados al Nieto: 1\n",
      "LLamados al Hijo Izq: 1\n",
      "LLamados al Hijo Der: 1\n",
      "LLamados al Madre: 1\n"
     ]
    }
   ],
   "source": [
    "s = Nieto()\n",
    "s.llamar()\n",
    "\n",
    "print('-----------------------')\n",
    "print(f\"LLamados al Nieto: {s.llamados_a_nieto}\")\n",
    "print(f\"LLamados al Hijo Izq: {s.llamados_a_HijoIzq}\")\n",
    "print(f\"LLamados al Hijo Der: {s.llamados_a_HijoDer}\")\n",
    "print(f\"LLamados al Madre: {s.llamados_a_madre}\")"
   ]
  },
  {
   "cell_type": "code",
   "execution_count": 14,
   "metadata": {},
   "outputs": [
    {
     "data": {
      "text/plain": [
       "(__main__.Nieto, __main__.HijoIzq, __main__.HijoDer, __main__.Madre, object)"
      ]
     },
     "execution_count": 14,
     "metadata": {},
     "output_type": "execute_result"
    }
   ],
   "source": [
    "Nieto.__mro__ # method resolution order"
   ]
  },
  {
   "cell_type": "code",
   "execution_count": 15,
   "metadata": {},
   "outputs": [
    {
     "data": {
      "text/plain": [
       "(__main__.HijoIzq, __main__.Madre, object)"
      ]
     },
     "execution_count": 15,
     "metadata": {},
     "output_type": "execute_result"
    }
   ],
   "source": [
    "HijoIzq.__mro__ # no incluye el llamado de su hermana"
   ]
  },
  {
   "cell_type": "code",
   "execution_count": 16,
   "metadata": {},
   "outputs": [
    {
     "data": {
      "text/plain": [
       "(__main__.HijoDer, __main__.Madre, object)"
      ]
     },
     "execution_count": 16,
     "metadata": {},
     "output_type": "execute_result"
    }
   ],
   "source": [
    "HijoDer.__mro__ # no incluye el llamado a su hermana"
   ]
  },
  {
   "cell_type": "code",
   "execution_count": 17,
   "metadata": {},
   "outputs": [
    {
     "data": {
      "text/plain": [
       "(__main__.Madre, object)"
      ]
     },
     "execution_count": 17,
     "metadata": {},
     "output_type": "execute_result"
    }
   ],
   "source": [
    "Madre.__mro__"
   ]
  },
  {
   "cell_type": "markdown",
   "metadata": {},
   "source": [
    "## Aplicacion del `super()` al primer ejemplo: Forma 2 Y Forma Final"
   ]
  },
  {
   "cell_type": "markdown",
   "metadata": {},
   "source": [
    "Nos encontramos con una situacion: **¿Como entregamos los argumentos a las superclases?**"
   ]
  },
  {
   "cell_type": "code",
   "execution_count": 27,
   "metadata": {},
   "outputs": [],
   "source": [
    "class Investigador:\n",
    "    \"\"\"Un investigador que investiga un area\"\"\"\n",
    "    def __init__(self, area):\n",
    "        self.area = area\n",
    "        self.num_publis = 0\n",
    "        # llamado oculto al init de object\n",
    "\n",
    "class Docente:\n",
    "    \"\"\"Un docente que ejerce docencia en un departamento\"\"\"\n",
    "    def __init__(self, departamento):\n",
    "        self.departamento = departamento\n",
    "        self.num_cursos = 3\n",
    "        # llamado oculto al init de object\n",
    "\n",
    "class Academico(Docente, Investigador):\n",
    "    \"\"\"Un Academico que es Docente e Investigador a la vez, tiene un nombre y una oficina\"\"\"\n",
    "    def __init__(self, nombre, oficina, area, departamento):\n",
    "        \n",
    "        # Investigador.__init__(self, area)  # init de la superclase\n",
    "        # Docente.__init__(self, departamento)  # init de la otra superclase\n",
    "\n",
    "        super().__init__(???) # no podemos añadir area y departamento asi como asi\n",
    "\n",
    "        # atributos propios de la subclase\n",
    "        self.nombre = nombre\n",
    "        self.oficina = oficina"
   ]
  },
  {
   "cell_type": "markdown",
   "metadata": {},
   "source": [
    "### Forma 2: Añadir los argumentos de las superclases en orden"
   ]
  },
  {
   "cell_type": "code",
   "execution_count": 25,
   "metadata": {},
   "outputs": [],
   "source": [
    "class Investigador:\n",
    "    \"\"\"Un investigador que investiga un area\"\"\"\n",
    "    def __init__(self, area):\n",
    "        self.area = area\n",
    "        self.num_publis = 0\n",
    "        # llamado oculto al init de object\n",
    "\n",
    "class Docente:\n",
    "    \"\"\"Un docente que ejerce docencia en un departamento\"\"\"\n",
    "    def __init__(self, departamento):\n",
    "        self.departamento = departamento\n",
    "        self.num_cursos = 3\n",
    "        # llamado oculto al init de object\n",
    "\n",
    "class Academico(Docente, Investigador):\n",
    "    \"\"\"Un Academico que es Docente e Investigador a la vez, tiene un nombre y una oficina\"\"\"\n",
    "    def __init__(self, nombre, oficina, area, departamento):\n",
    "        \n",
    "        # Investigador.__init__(self, area)  # init de la superclase\n",
    "        # Docente.__init__(self, departamento)  # init de la otra superclase\n",
    "\n",
    "        super().__init__(area, departamento) # agregamos los argumentos en el orden de definicion\n",
    "\n",
    "        # atributos propios de la subclase\n",
    "        self.nombre = nombre\n",
    "        self.oficina = oficina"
   ]
  },
  {
   "cell_type": "markdown",
   "metadata": {},
   "source": [
    "Explicacion Error: Cada `__init__` de las superclases recibe dos argumentos (`self` y `area`/`departamento`), pero el primer llamado del `__init__` a `Docente` le entrega los 3 de una"
   ]
  },
  {
   "cell_type": "code",
   "execution_count": 26,
   "metadata": {},
   "outputs": [
    {
     "ename": "TypeError",
     "evalue": "Docente.__init__() takes 2 positional arguments but 3 were given",
     "output_type": "error",
     "traceback": [
      "\u001b[0;31m---------------------------------------------------------------------------\u001b[0m",
      "\u001b[0;31mTypeError\u001b[0m                                 Traceback (most recent call last)",
      "Cell \u001b[0;32mIn[26], line 2\u001b[0m\n\u001b[1;32m      1\u001b[0m \u001b[39m\"\"\"Daniel, un academico que trabaja en la sala k204, como Investigador en el area de Progamacion y Docente del Departamento de Computacion\"\"\"\u001b[39;00m\n\u001b[0;32m----> 2\u001b[0m A \u001b[39m=\u001b[39m Academico(\u001b[39m'\u001b[39;49m\u001b[39mDaniel\u001b[39;49m\u001b[39m'\u001b[39;49m, \u001b[39m'\u001b[39;49m\u001b[39mK204\u001b[39;49m\u001b[39m'\u001b[39;49m, \u001b[39m'\u001b[39;49m\u001b[39mProgramacion\u001b[39;49m\u001b[39m'\u001b[39;49m, \u001b[39m'\u001b[39;49m\u001b[39mComputacion\u001b[39;49m\u001b[39m'\u001b[39;49m)\n",
      "Cell \u001b[0;32mIn[25], line 22\u001b[0m, in \u001b[0;36mAcademico.__init__\u001b[0;34m(self, nombre, oficina, area, departamento)\u001b[0m\n\u001b[1;32m     17\u001b[0m \u001b[39mdef\u001b[39;00m \u001b[39m__init__\u001b[39m(\u001b[39mself\u001b[39m, nombre, oficina, area, departamento):\n\u001b[1;32m     18\u001b[0m     \n\u001b[1;32m     19\u001b[0m     \u001b[39m# Investigador.__init__(self, area)  # init de la superclase\u001b[39;00m\n\u001b[1;32m     20\u001b[0m     \u001b[39m# Docente.__init__(self, departamento)  # init de la otra superclase\u001b[39;00m\n\u001b[0;32m---> 22\u001b[0m     \u001b[39msuper\u001b[39;49m()\u001b[39m.\u001b[39;49m\u001b[39m__init__\u001b[39;49m(area, departamento) \u001b[39m# agregamos los argumentos en el orden de definicion\u001b[39;00m\n\u001b[1;32m     24\u001b[0m     \u001b[39m# atributos propios de la subclase\u001b[39;00m\n\u001b[1;32m     25\u001b[0m     \u001b[39mself\u001b[39m\u001b[39m.\u001b[39mnombre \u001b[39m=\u001b[39m nombre\n",
      "\u001b[0;31mTypeError\u001b[0m: Docente.__init__() takes 2 positional arguments but 3 were given"
     ]
    }
   ],
   "source": [
    "\"\"\"Daniel, un academico que trabaja en la sala k204, como Investigador en el area de Progamacion y Docente del Departamento de Computacion\"\"\"\n",
    "A = Academico('Daniel', 'K204', 'Programacion', 'Computacion')"
   ]
  },
  {
   "cell_type": "markdown",
   "metadata": {},
   "source": [
    "Python no sabe cual de los argumentos son para que inicializador, esto se resuelve con `*args` y `**kwargs`"
   ]
  },
  {
   "cell_type": "markdown",
   "metadata": {},
   "source": [
    "```Python\n",
    "\n",
    "def funcion(arg_obligatorio, *args, **kwargs):\n",
    "    # ...\n",
    "\n",
    "```"
   ]
  },
  {
   "cell_type": "markdown",
   "metadata": {},
   "source": [
    "### Forma final: uso de `*args` y `**kwargs` en el `super()`"
   ]
  },
  {
   "cell_type": "markdown",
   "metadata": {},
   "source": [
    "Reemplazo del llamado a ambos inicializadores, podemos usar `**kwargs` ya que no nos interesa el orden en el que vamos ingresando los parametros en la inicializacion de una instancia de `Academico`"
   ]
  },
  {
   "cell_type": "code",
   "execution_count": 12,
   "metadata": {},
   "outputs": [],
   "source": [
    "class Investigador:\n",
    "    \"\"\"Un investigador que investiga un area\"\"\"\n",
    "    def __init__(self, area, **kwargs):\n",
    "        super().__init__(**kwargs) # entrega de argumentos no_pos a la superclase en este caso a Object\n",
    "        \n",
    "        # atributos propios de esta clase\n",
    "        self.area = area\n",
    "        self.num_publis = 0\n",
    "\n",
    "        print(f'Init de Investigador con area {self.area} y el dict kwargs {kwargs}')\n",
    "\n",
    "class Docente:\n",
    "    \"\"\"Un docente que ejerce docencia en un departamento\"\"\"\n",
    "    def __init__(self, departamento, **kwargs):\n",
    "        super().__init__(**kwargs) # entrega de argumentos no_pos a la superclase en este caso a Object\n",
    "        \n",
    "        # atributos propios de esta clase\n",
    "        self.departamento = departamento\n",
    "        self.num_cursos = 3\n",
    "\n",
    "        print(f'Init de docente con departamento {self.departamento} y el dict kwargs {kwargs}')\n",
    "\n",
    "class Academico(Docente, Investigador): # notar el orden de las superclases, esto afecta al __mro__\n",
    "    \"\"\"Un Academico que es Docente e Investigador a la vez, tiene un nombre y una oficina\"\"\"\n",
    "    def __init__(self, nombre, oficina, **kwargs):\n",
    "        \n",
    "        # Forma 1 Desechada (Causa Problema del Diamante)\n",
    "        # Investigador.__init__(self, area)  # init de la superclase\n",
    "        # Docente.__init__(self, departamento)  # init de la otra superclase\n",
    "\n",
    "        # Forma 2 Desechada: no se sabe cual argumentos usar\n",
    "        # super().__init__(area, departamento) # agregamos los argumentos en el orden de definicion\n",
    "\n",
    "        # Forma final: entregamos una cantidad de argumentos variables a las superclases()\n",
    "        super().__init__(**kwargs)\n",
    "        \n",
    "        # atributos propios de la subclase\n",
    "        self.nombre = nombre\n",
    "        self.oficina = oficina\n",
    "\n",
    "        print(f'Init de Academico con nombre {self.nombre} y oficina {self.oficina}, y el dict kwargs {kwargs}')"
   ]
  },
  {
   "cell_type": "code",
   "execution_count": 40,
   "metadata": {},
   "outputs": [
    {
     "data": {
      "text/plain": [
       "(__main__.Academico, __main__.Docente, __main__.Investigador, object)"
      ]
     },
     "execution_count": 40,
     "metadata": {},
     "output_type": "execute_result"
    }
   ],
   "source": [
    "Academico.__mro__"
   ]
  },
  {
   "cell_type": "code",
   "execution_count": 13,
   "metadata": {},
   "outputs": [
    {
     "name": "stdout",
     "output_type": "stream",
     "text": [
      "Init de Investigador con area Programacion y el dict kwargs {}\n",
      "Init de docente con departamento Computacion y el dict kwargs {'area': 'Programacion'}\n",
      "Init de Academico con nombre Daniel y oficina K204, y el dict kwargs {'area': 'Programacion', 'departamento': 'Computacion'}\n",
      "-------\n",
      "Daniel\n",
      "K204\n",
      "Computacion\n",
      "Programacion\n"
     ]
    }
   ],
   "source": [
    "\"\"\"Daniel, un academico que trabaja en la sala k204, como Investigador en el area de Progamacion y Docente del Departamento de Computacion\"\"\"\n",
    "A = Academico('Daniel', 'K204', area ='Programacion', departamento= 'Computacion')\n",
    "\n",
    "print('-------')\n",
    "\n",
    "print(A.nombre) # arg de Academico\n",
    "print(A.oficina) # arg de Academico\n",
    "print(A.departamento) # Arg de Decente\n",
    "print(A.area) # Arg de Investigador"
   ]
  },
  {
   "cell_type": "markdown",
   "metadata": {},
   "source": [
    "Se logró usar un solo `super()` y se llamaron a todas las superclases con sus respectivos argumentos, como son `kwargs`, cada clase agarra los argumentos (por keyword) que necesita y va pasando el resto de argumentos (aun en el `**kwargs`) a las superclases superiores\n",
    "- los *keywords* que no utiliza una clase pasan de largo, a los siguentes inicializadores"
   ]
  },
  {
   "cell_type": "markdown",
   "metadata": {},
   "source": [
    "### Preguntas de Reflexion"
   ]
  },
  {
   "cell_type": "markdown",
   "metadata": {},
   "source": [
    "- ¿Cuál permite agregar nuevas clases sin editar las anteriores?\n",
    "- ¿Cuál no presentaría problema del diamante?\n",
    "- ¿Estoy generando código nuevo desde cero o estoy modificando código existente?\n",
    "- Si tengo subclases, ¿estas deben funcionar de forma independiente o solo son un medio para que las clases que heredan de estas funcionen correctamente?"
   ]
  },
  {
   "attachments": {
    "image.png": {
     "image/png": "[encoded data removed]"
    }
   },
   "cell_type": "markdown",
   "metadata": {},
   "source": [
    "### ¿Cuando usar super()?\n",
    "- cuando el problema del diamante genere un problema en nuestro codigo\n",
    "- a veces solo es necesaro solo llamar al metodo de la super clase. ej -> SuperClase.metodo()\n",
    "\n",
    "![image.png](attachment:image.png)"
   ]
  },
  {
   "cell_type": "markdown",
   "metadata": {},
   "source": [
    "# 4. Clases Abstractas"
   ]
  },
  {
   "cell_type": "markdown",
   "metadata": {},
   "source": [
    "Clase con el objetivo de modelar comportamientos base de un conjunto de subclases\n",
    "- **No** se instancian directamente\n",
    "- Puede poseer *metodos abstractos* que **todas las subclases deben tener definido**, aun que estos difieran en su,comportamiento, pero que se usa para definir un comportamiendo base\n",
    "- Tambien tiene *metodos normales*, que pueden ser heredados sin necesidad de reimplementarlos"
   ]
  },
  {
   "cell_type": "markdown",
   "metadata": {},
   "source": [
    "## Modulo `abc`, la clase `ABC` y el decorador `@abstractmethod`"
   ]
  },
  {
   "cell_type": "code",
   "execution_count": 14,
   "metadata": {},
   "outputs": [],
   "source": [
    "import abc"
   ]
  },
  {
   "cell_type": "code",
   "execution_count": 17,
   "metadata": {},
   "outputs": [],
   "source": [
    "class Mamifero(abc.ABC):\n",
    "    \"\"\"Un mamifero siempre debiese respirar y poder moverse\"\"\"\n",
    "    \n",
    "    @abc.abstractmethod  # metodos que toda subclase de Mamifero debiese definir\n",
    "    def respirar(self):\n",
    "        pass\n",
    "    \n",
    "    @abc.abstractmethod\n",
    "    def moverse(self):\n",
    "        pass"
   ]
  },
  {
   "cell_type": "code",
   "execution_count": 18,
   "metadata": {},
   "outputs": [
    {
     "ename": "TypeError",
     "evalue": "Can't instantiate abstract class Mamifero with abstract methods moverse, respirar",
     "output_type": "error",
     "traceback": [
      "\u001b[0;31m---------------------------------------------------------------------------\u001b[0m",
      "\u001b[0;31mTypeError\u001b[0m                                 Traceback (most recent call last)",
      "Cell \u001b[0;32mIn[18], line 2\u001b[0m\n\u001b[1;32m      1\u001b[0m \u001b[39m# no podemos instanciar un Mamifero\u001b[39;00m\n\u001b[0;32m----> 2\u001b[0m mam \u001b[39m=\u001b[39m Mamifero()\n",
      "\u001b[0;31mTypeError\u001b[0m: Can't instantiate abstract class Mamifero with abstract methods moverse, respirar"
     ]
    }
   ],
   "source": [
    "# no podemos instanciar un Mamifero\n",
    "mam = Mamifero()"
   ]
  },
  {
   "cell_type": "code",
   "execution_count": 20,
   "metadata": {},
   "outputs": [],
   "source": [
    "\"\"\"Creando subclases que hereden de Mamifero\"\"\"\n",
    "\n",
    "class Perro(Mamifero):\n",
    "    \"\"\"Mamifero de cuatro patas, segun muchos, el mejor amigo del hombre\"\"\"\n",
    "    # debemos incluir los metodos abstractos\n",
    "    def respirar(self):\n",
    "        # some code...\n",
    "        pass\n",
    "\n",
    "    def moverse(self):\n",
    "        # some code...\n",
    "        pass"
   ]
  },
  {
   "cell_type": "markdown",
   "metadata": {},
   "source": [
    "## Metodos `issubclass(SubClass, SupClass)` e  `isinstance(instance, Class)`"
   ]
  },
  {
   "cell_type": "code",
   "execution_count": 23,
   "metadata": {},
   "outputs": [
    {
     "name": "stdout",
     "output_type": "stream",
     "text": [
      "<__main__.Perro object at 0x7f8fec11ffa0>\n",
      "Checkeo de subclase e instancia:\n",
      "Subclase: True\n",
      "Instancia: True\n"
     ]
    }
   ],
   "source": [
    "dog = Perro()\n",
    "print(dog)\n",
    "print('Checkeo de subclase e instancia:')\n",
    "print(f\"Subclase: {issubclass(Perro, Mamifero)}\")\n",
    "print(f\"Instancia: {isinstance(dog, Perro)}\")"
   ]
  },
  {
   "cell_type": "code",
   "execution_count": 28,
   "metadata": {},
   "outputs": [],
   "source": [
    "class Gato(Mamifero):\n",
    "    def respirar(self):\n",
    "        # some code...\n",
    "        pass\n",
    "     \n",
    "    # no definimos el otro metodo abstracto, notar que no nos lanza error en la definicion\n"
   ]
  },
  {
   "cell_type": "code",
   "execution_count": 26,
   "metadata": {},
   "outputs": [
    {
     "ename": "TypeError",
     "evalue": "Can't instantiate abstract class Gato with abstract method moverse",
     "output_type": "error",
     "traceback": [
      "\u001b[0;31m---------------------------------------------------------------------------\u001b[0m",
      "\u001b[0;31mTypeError\u001b[0m                                 Traceback (most recent call last)",
      "Cell \u001b[0;32mIn[26], line 1\u001b[0m\n\u001b[0;32m----> 1\u001b[0m gato \u001b[39m=\u001b[39m Gato()\n",
      "\u001b[0;31mTypeError\u001b[0m: Can't instantiate abstract class Gato with abstract method moverse"
     ]
    }
   ],
   "source": [
    "gato = Gato()"
   ]
  },
  {
   "cell_type": "markdown",
   "metadata": {},
   "source": [
    "## abstract properties"
   ]
  },
  {
   "cell_type": "markdown",
   "metadata": {},
   "source": [
    "Se pueden definir propiedades abstractas que **todas las subclases deben tener**"
   ]
  },
  {
   "cell_type": "code",
   "execution_count": 33,
   "metadata": {},
   "outputs": [],
   "source": [
    "class Mamifero(abc.ABC):\n",
    "    \"\"\"Un mamifero siempre debiese respirar y poder moverse y siempre tiene ojos\"\"\"\n",
    "    \n",
    "    @abc.abstractmethod  # metodos que toda subclase de Mamifero debiese definir\n",
    "    def respirar(self):\n",
    "        pass\n",
    "    \n",
    "    @abc.abstractmethod\n",
    "    def moverse(self):\n",
    "        pass\n",
    "\n",
    "    @property\n",
    "    @abc.abstractmethod\n",
    "    def ojos(self):\n",
    "        return {'nunca se llega a este texto'}\n",
    "    \n",
    "# actualizamos las subclases\n",
    "\n",
    "class Perro(Mamifero):\n",
    "    \"\"\"Mamifero de cuatro patas, segun muchos, el mejor amigo del hombre\"\"\"\n",
    "    # debemos incluir los metodos abstractos\n",
    "    def respirar(self):\n",
    "        # some code...\n",
    "        pass\n",
    "\n",
    "    def moverse(self):\n",
    "        # some code...\n",
    "        pass\n",
    "\n",
    "    @property  # propiedad abstracta \n",
    "    def ojos(self):\n",
    "        return 'ojos de perro'"
   ]
  },
  {
   "cell_type": "code",
   "execution_count": 32,
   "metadata": {},
   "outputs": [
    {
     "name": "stdout",
     "output_type": "stream",
     "text": [
      "este perro tiene ojos de perro\n"
     ]
    }
   ],
   "source": [
    "dog = Perro()\n",
    "print(f\"este perro tiene {dog.ojos}\")\n"
   ]
  },
  {
   "cell_type": "markdown",
   "metadata": {},
   "source": [
    "## Ejemplo completo"
   ]
  },
  {
   "cell_type": "markdown",
   "metadata": {},
   "source": [
    "Podemos tambien definir metodos no abstractos en la clase Base (abstracta), que:\n",
    "- *Pueden* ser definidos y reimplementados por otras sublcases\n",
    "- Pueden ser heredados directamente y, para no ser escritos nuevamente, llamados con `super().metodo_no_abs()`"
   ]
  },
  {
   "cell_type": "code",
   "execution_count": 149,
   "metadata": {},
   "outputs": [],
   "source": [
    "class Mamifero(abc.ABC):\n",
    "    \"\"\"Un mamifero siempre debiese respirar y poder moverse y siempre tiene ojos\"\"\"\n",
    "    \n",
    "    def __init__(self, nombre):\n",
    "        self.nombre = nombre\n",
    "\n",
    "    @abc.abstractmethod  # metodos que toda subclase de Mamifero debiese definir\n",
    "    def respirar(self):\n",
    "        pass\n",
    "    \n",
    "    @abc.abstractmethod\n",
    "    def moverse(self):\n",
    "        pass\n",
    "\n",
    "    @property\n",
    "    @abc.abstractmethod\n",
    "    def ojos(self):\n",
    "        return {'nunca se llega a este texto'}\n",
    "    \n",
    "    def metodo_no_abs(self):\n",
    "        print('ACTIVACION METODO')\n",
    "        return 8\n",
    "    \n",
    "# actualizamos las subclases\n",
    "\n",
    "class Perro(Mamifero):\n",
    "    \"\"\"Mamifero de cuatro patas, segun muchos, el mejor amigo del hombre\"\"\"\n",
    "    # debemos incluir los metodos abstractos\n",
    "\n",
    "    def respirar(self):\n",
    "        # some code...\n",
    "        pass\n",
    "\n",
    "    def moverse(self):\n",
    "        # some code...\n",
    "        pass\n",
    "\n",
    "    @property  # propiedad abstracta \n",
    "    def ojos(self):\n",
    "        return 'ojos de perro'\n",
    "    \n",
    "    \n",
    "class Gato(Mamifero):\n",
    "    \"\"\"Gato de toda la vida, rival eterno del perro\"\"\"\n",
    "        # debemos incluir los metodos abstractos\n",
    "\n",
    "    def respirar(self):\n",
    "        # some code...\n",
    "        pass\n",
    "\n",
    "    def moverse(self):\n",
    "        # some code...\n",
    "        pass\n",
    "\n",
    "    @property  # propiedad abstracta, igual es modificable\n",
    "    def ojos(self):\n",
    "        return 'ojos de gato'\n",
    "    \n",
    "    def metodo_no_abs(self):\n",
    "        super().metodo_no_abs() # llamamos al metodo de la superclase\n",
    "        # OJO con los return, se ejecuta el metodo pero retorna None, no se porque"
   ]
  },
  {
   "cell_type": "code",
   "execution_count": 150,
   "metadata": {},
   "outputs": [],
   "source": [
    "dog = Perro('Tintin')\n",
    "gato = Gato('Michi')"
   ]
  },
  {
   "cell_type": "code",
   "execution_count": 151,
   "metadata": {},
   "outputs": [
    {
     "name": "stdout",
     "output_type": "stream",
     "text": [
      "ACTIVACION METODO\n",
      "Hola 8 y tengo ojos de perro\n",
      "ACTIVACION METODO\n",
      "hola None y tengo ojos de gato\n"
     ]
    }
   ],
   "source": [
    "# uso de metodos no abstractos\n",
    "print(f\"Hola {dog.metodo_no_abs()} y tengo {dog.ojos}\") # podemos acceder a el sin haberlo definido en la sublcase\n",
    "print(f\"hola {gato.metodo_no_abs()} y tengo {gato.ojos}\")"
   ]
  },
  {
   "cell_type": "markdown",
   "metadata": {},
   "source": [
    "## Duda: porque pasa esto (revisar mi issue)"
   ]
  },
  {
   "cell_type": "code",
   "execution_count": 182,
   "metadata": {},
   "outputs": [],
   "source": [
    "class Base():\n",
    "    def __init__(self, name):\n",
    "        self.name = name\n",
    "\n",
    "    def metodo1(self):\n",
    "        return 'soy el metodo1'\n",
    "    \n",
    "    def metodo2(self):\n",
    "        return 'soy el metodo2'\n",
    "    \n",
    "class Subclase(Base):\n",
    "    def __init__(self, name):\n",
    "        super().__init__(name)\n",
    "    \n",
    "    def metodo(self): # modificacion del metodo abstracto en la subclase\n",
    "        return super().metodo1()\n",
    "\n",
    "    def metodo2(self): # mal definido\n",
    "        super().metodo2()"
   ]
  },
  {
   "cell_type": "code",
   "execution_count": 177,
   "metadata": {},
   "outputs": [
    {
     "name": "stdout",
     "output_type": "stream",
     "text": [
      "Dani Usando el metodo abstracto:  soy el metodo1\n",
      "Usando el metodo no abstracto: None\n"
     ]
    }
   ],
   "source": [
    "i = Subclase('Dani')\n",
    "\n",
    "string1 = i.metodo1()\n",
    "string2 = i.metodo2()\n",
    "\n",
    "print(f\"{i.name} Usando el metodo abstracto:  {string1}\")\n",
    "print(f\"Usando el metodo no abstracto: {string2}\")"
   ]
  },
  {
   "cell_type": "code",
   "execution_count": 181,
   "metadata": {},
   "outputs": [
    {
     "name": "stdout",
     "output_type": "stream",
     "text": [
      "None\n"
     ]
    }
   ],
   "source": [
    "print(i.__init__('juan'))"
   ]
  },
  {
   "cell_type": "markdown",
   "metadata": {},
   "source": [
    "# Extra: Metodos Estaticos y Diagramas de clase"
   ]
  },
  {
   "cell_type": "markdown",
   "metadata": {},
   "source": [
    "## Metodos estaticos"
   ]
  },
  {
   "cell_type": "markdown",
   "metadata": {},
   "source": [
    "- Metodos de una clase que no dependen de alguna informacion de la clase\n",
    "- Metodos dentro de una clase que no necesitan el `self`, se pueden definir con el decorador `@staticmethod`\n",
    "- Util para lenguajes donde solo exista OOP, como Java\n",
    "- Util para crear clases que empaqueten ciertas funcionalidades"
   ]
  },
  {
   "cell_type": "markdown",
   "metadata": {},
   "source": [
    "## Diagramas de clase"
   ]
  },
  {
   "cell_type": "markdown",
   "metadata": {},
   "source": [
    "### **Composicion**: flecha con base de un rombo relleno. La existencia de un grupo de objetos depende del objeto que los incluya. Las clases las creamos dentro del `__init__` de la clase que los incluye"
   ]
  },
  {
   "cell_type": "markdown",
   "metadata": {},
   "source": [
    "### **Agregacion**: flecha con base de un rombo vacio La existencia de un grupo de objetos es independiente a la existencia del grupo que los incluye"
   ]
  },
  {
   "cell_type": "markdown",
   "metadata": {},
   "source": [
    "### **Cardinalidad**: Grado y nivel de dependencia entre relaciones\n",
    " - 1 o muchos 1..*\n",
    " - 0 o muchos 0..*\n",
    " - Numero fijo n "
   ]
  },
  {
   "cell_type": "markdown",
   "metadata": {},
   "source": [
    "### **Herencia**: flecha de punta vacia que apunta desde una subclase a su superclase respectiva, no se repiten los atributos y metodos heredados"
   ]
  }
 ],
 "metadata": {
  "kernelspec": {
   "display_name": "Python 3",
   "language": "python",
   "name": "python3"
  },
  "language_info": {
   "codemirror_mode": {
    "name": "ipython",
    "version": 3
   },
   "file_extension": ".py",
   "mimetype": "text/x-python",
   "name": "python",
   "nbconvert_exporter": "python",
   "pygments_lexer": "ipython3",
   "version": "3.10.12"
  },
  "orig_nbformat": 4
 },
 "nbformat": 4,
 "nbformat_minor": 2
}
